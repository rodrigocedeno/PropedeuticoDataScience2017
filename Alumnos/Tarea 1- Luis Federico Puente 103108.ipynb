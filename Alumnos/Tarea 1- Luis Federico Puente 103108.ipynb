{
 "cells": [
  {
   "cell_type": "markdown",
   "metadata": {},
   "source": [
    "## Ejercicio 1: Imprimir como matriz"
   ]
  },
  {
   "cell_type": "code",
   "execution_count": 107,
   "metadata": {
    "collapsed": true
   },
   "outputs": [],
   "source": [
    "class Array:\n",
    "    \"Constructor de matrices\"    \n",
    "    def __init__(self, list_of_rows): \n",
    "        \"Constructor\"\n",
    "        self.data = list_of_rows\n",
    "        self.shape = (len(list_of_rows), len(list_of_rows[0]))\n",
    "            \n",
    "    def __repr__(self):\n",
    "        matriz=\"\"\n",
    "        for x in self.data:\n",
    "            matriz = matriz + str(x)+\"\\n\"\n",
    "        return matriz\n",
    "\n",
    "    def __str__(self):\n",
    "        matriz=\"\"\n",
    "        for x in self.data:\n",
    "            matriz = matriz + str(x)+\"\\n\"\n",
    "        return matriz"
   ]
  },
  {
   "cell_type": "code",
   "execution_count": 110,
   "metadata": {
    "collapsed": true
   },
   "outputs": [],
   "source": [
    "A = Array([[1,2,3],[4,5,6]])"
   ]
  },
  {
   "cell_type": "code",
   "execution_count": 111,
   "metadata": {},
   "outputs": [
    {
     "name": "stdout",
     "output_type": "stream",
     "text": [
      "[1, 2, 3]\n",
      "[4, 5, 6]\n",
      "\n"
     ]
    }
   ],
   "source": [
    "print(A)"
   ]
  },
  {
   "cell_type": "code",
   "execution_count": 112,
   "metadata": {},
   "outputs": [
    {
     "data": {
      "text/plain": [
       "[1, 2, 3]\n",
       "[4, 5, 6]"
      ]
     },
     "execution_count": 112,
     "metadata": {},
     "output_type": "execute_result"
    }
   ],
   "source": [
    "A"
   ]
  },
  {
   "cell_type": "markdown",
   "metadata": {},
   "source": [
    "## Ejercicio 2: Validador de tamaño"
   ]
  },
  {
   "cell_type": "code",
   "execution_count": 113,
   "metadata": {
    "collapsed": true
   },
   "outputs": [],
   "source": [
    "class Array:\n",
    "    \"Constructor de Matrices\"\n",
    "    def __init__ (self, list_of_rows):\n",
    "        \"Constructor\"\n",
    "        \n",
    "        #Obteción de dimensiones\n",
    "        self.data = list_of_rows\n",
    "        nrow=len(list_of_rows)\n",
    "        \n",
    "        #Caso vector: redimensionar correctamente\n",
    "        #Si list_of_rows=[1,2,3] entonces list_of rows[0]=1 es un entero (no una lista)\n",
    "        if not isinstance(list_of_rows[0],list):\n",
    "            nrow=1\n",
    "            self.data = [[x] for x in list_of_rows]\n",
    "        #Con esto, self.data=[[1],[2],[3]]\n",
    "        \n",
    "        #Se calcula en número de columnas y la dimensión\n",
    "        ncol=len(self.data[0])\n",
    "        self.shape=(nrow,ncol)\n",
    "        \n",
    "        #Validador     \n",
    "        if any ([len(r) != ncol for r in self.data]):\n",
    "            raise Exeption(\"Las filas deben ser del mismo tamano\")\n",
    "            \n",
    "    def __repr__(self):\n",
    "        matriz=\"\"\n",
    "        for x in self.data:\n",
    "            matriz = matriz + str(x)+\"\\n\"\n",
    "        return matriz\n",
    "\n",
    "    def __str__(self):\n",
    "        matriz=\"\"\n",
    "        for x in self.data:\n",
    "            matriz = matriz + str(x)+\"\\n\"\n",
    "        return matriz         \n",
    "        \n",
    "        "
   ]
  },
  {
   "cell_type": "code",
   "execution_count": 114,
   "metadata": {
    "collapsed": true
   },
   "outputs": [],
   "source": [
    "A = Array([1,2,3])"
   ]
  },
  {
   "cell_type": "code",
   "execution_count": 115,
   "metadata": {},
   "outputs": [
    {
     "name": "stdout",
     "output_type": "stream",
     "text": [
      "[1]\n",
      "[2]\n",
      "[3]\n",
      "\n"
     ]
    }
   ],
   "source": [
    "print(A)"
   ]
  },
  {
   "cell_type": "code",
   "execution_count": 117,
   "metadata": {},
   "outputs": [
    {
     "data": {
      "text/plain": [
       "[1]\n",
       "[2]\n",
       "[3]"
      ]
     },
     "execution_count": 117,
     "metadata": {},
     "output_type": "execute_result"
    }
   ],
   "source": [
    "A"
   ]
  },
  {
   "cell_type": "code",
   "execution_count": 118,
   "metadata": {
    "collapsed": true
   },
   "outputs": [],
   "source": [
    "A = Array([[1,2,3],[4,5,6]])"
   ]
  },
  {
   "cell_type": "markdown",
   "metadata": {},
   "source": [
    "## Ejercicio 3: Indexing and item assignment"
   ]
  },
  {
   "cell_type": "code",
   "execution_count": 125,
   "metadata": {
    "collapsed": true
   },
   "outputs": [],
   "source": [
    "class Array:\n",
    "    \"Constructor de Matrices\"\n",
    "    def __init__ (self, list_of_rows):\n",
    "        \"Constructor\"\n",
    "        \n",
    "        #Obteción de dimensiones\n",
    "        self.data = list_of_rows\n",
    "        nrow=len(list_of_rows)\n",
    "        \n",
    "        #Caso vector: redimensionar correctamente\n",
    "        #Si list_of_rows=[1,2,3] entonces list_of rows[0]=1 es un entero (no una lista)\n",
    "        if not isinstance(list_of_rows[0],list):\n",
    "            nrow=1\n",
    "            self.data = [[x] for x in list_of_rows]\n",
    "        #Con esto, self.data=[[1],[2],[3]]\n",
    "        \n",
    "        #Se calcula en número de columnas y la dimensión\n",
    "        ncol=len(self.data[0])\n",
    "        self.shape=(nrow,ncol)\n",
    "        \n",
    "        #Validador     \n",
    "        if any ([len(r) != ncol for r in self.data]):\n",
    "            raise Exeption(\"Las filas deben ser del mismo tamano\")\n",
    "            \n",
    "    def __repr__(self):\n",
    "        matriz=\"\"\n",
    "        for x in self.data:\n",
    "            matriz = matriz + str(x)+\"\\n\"\n",
    "        return matriz\n",
    "\n",
    "    def __str__(self):\n",
    "        matriz=\"\"\n",
    "        for x in self.data:\n",
    "            matriz = matriz + str(x)+\"\\n\"\n",
    "        return matriz         \n",
    "    \n",
    "    def __getitem__(self, idx):\n",
    "        return self.data[idx[0]][idx[1]]\n",
    "    \n",
    "    def __setitem__(self, idx, new_value):\n",
    "        self.data[idx[0]][idx[1]]= new_value"
   ]
  },
  {
   "cell_type": "code",
   "execution_count": 126,
   "metadata": {
    "collapsed": true
   },
   "outputs": [],
   "source": [
    "A = Array([[1,2,3],[4,5,6]])"
   ]
  },
  {
   "cell_type": "code",
   "execution_count": 128,
   "metadata": {},
   "outputs": [
    {
     "data": {
      "text/plain": [
       "5"
      ]
     },
     "execution_count": 128,
     "metadata": {},
     "output_type": "execute_result"
    }
   ],
   "source": [
    "A[1,1]"
   ]
  },
  {
   "cell_type": "markdown",
   "metadata": {},
   "source": [
    "## Ejercicio 4: Iniciar una matriz en ceros y crear matriz identidad"
   ]
  },
  {
   "cell_type": "code",
   "execution_count": 166,
   "metadata": {
    "collapsed": true
   },
   "outputs": [],
   "source": [
    "class Array:\n",
    "    \"Constructor de Matrices\"\n",
    "    def __init__ (self, list_of_rows):\n",
    "        \"Constructor\"\n",
    "        \n",
    "        #Obteción de dimensiones\n",
    "        self.data = list_of_rows\n",
    "        nrow=len(list_of_rows)\n",
    "        \n",
    "        #Caso vector: redimensionar correctamente\n",
    "        #Si list_of_rows=[1,2,3] entonces list_of rows[0]=1 es un entero (no una lista)\n",
    "        if not isinstance(list_of_rows[0],list):\n",
    "            nrow=1\n",
    "            self.data = [[x] for x in list_of_rows]\n",
    "        #Con esto, self.data=[[1],[2],[3]]\n",
    "        \n",
    "        #Se calcula en número de columnas y la dimensión\n",
    "        ncol=len(self.data[0])\n",
    "        self.shape=(nrow,ncol)\n",
    "        \n",
    "        #Validador     \n",
    "        if any ([len(r) != ncol for r in self.data]):\n",
    "            raise Exeption(\"Las filas deben ser del mismo tamano\")\n",
    "            \n",
    "    def __repr__(self):\n",
    "        matriz=\"\"\n",
    "        for x in self.data:\n",
    "            matriz = matriz + str(x)+\"\\n\"\n",
    "        return matriz\n",
    "\n",
    "    def __str__(self):\n",
    "        matriz=\"\"\n",
    "        for x in self.data:\n",
    "            matriz = matriz + str(x)+\"\\n\"\n",
    "        return matriz         \n",
    "    \n",
    "    def __getitem__(self, idx):\n",
    "        return self.data[idx[0]][idx[1]]\n",
    "    \n",
    "    def __setitem__(self, idx, new_value):\n",
    "        self.data[idx[0]][idx[1]]= new_value\n",
    "    \n",
    "    def zeros(x,y):\n",
    "        \"Matriz de ceros\"\n",
    "        zeroarray= Array([[0 for col in range(y)]for row in range(x)])\n",
    "        return zeroarray\n",
    "    \n",
    "    def eye(x):\n",
    "        \"Matriz identidad\"\n",
    "        identidad= Array([[0 for col in range(x)]for row in range(x)]) \n",
    "        for a in range(x):\n",
    "            for b in range(x):\n",
    "                if a==b:\n",
    "                    identidad[a,b]=1\n",
    "        return identidad      "
   ]
  },
  {
   "cell_type": "code",
   "execution_count": 167,
   "metadata": {
    "collapsed": true
   },
   "outputs": [],
   "source": [
    "Ceros=Array.zeros(2,3)"
   ]
  },
  {
   "cell_type": "code",
   "execution_count": 168,
   "metadata": {},
   "outputs": [
    {
     "data": {
      "text/plain": [
       "[0, 0, 0]\n",
       "[0, 0, 0]"
      ]
     },
     "execution_count": 168,
     "metadata": {},
     "output_type": "execute_result"
    }
   ],
   "source": [
    "Ceros"
   ]
  },
  {
   "cell_type": "code",
   "execution_count": 169,
   "metadata": {
    "collapsed": true
   },
   "outputs": [],
   "source": [
    "Identidad=Array.eye(4)"
   ]
  },
  {
   "cell_type": "code",
   "execution_count": 170,
   "metadata": {},
   "outputs": [
    {
     "data": {
      "text/plain": [
       "[1, 0, 0, 0]\n",
       "[0, 1, 0, 0]\n",
       "[0, 0, 1, 0]\n",
       "[0, 0, 0, 1]"
      ]
     },
     "execution_count": 170,
     "metadata": {},
     "output_type": "execute_result"
    }
   ],
   "source": [
    "Identidad"
   ]
  },
  {
   "cell_type": "markdown",
   "metadata": {},
   "source": [
    "## Ejercicio 5: Transpuesta"
   ]
  },
  {
   "cell_type": "code",
   "execution_count": 191,
   "metadata": {
    "collapsed": true
   },
   "outputs": [],
   "source": [
    "class Array:\n",
    "    \"Constructor de Matrices\"\n",
    "    def __init__ (self, list_of_rows):\n",
    "        \"Constructor\"\n",
    "        \n",
    "        #Obteción de dimensiones\n",
    "        self.data = list_of_rows\n",
    "        nrow=len(list_of_rows)\n",
    "        \n",
    "        #Caso vector: redimensionar correctamente\n",
    "        #Si list_of_rows=[1,2,3] entonces list_of rows[0]=1 es un entero (no una lista)\n",
    "        if not isinstance(list_of_rows[0],list):\n",
    "            nrow=1\n",
    "            self.data = [[x] for x in list_of_rows]\n",
    "        #Con esto, self.data=[[1],[2],[3]]\n",
    "        \n",
    "        #Se calcula en número de columnas y la dimensión\n",
    "        ncol=len(self.data[0])\n",
    "        self.shape=(nrow,ncol)\n",
    "        \n",
    "        #Validador     \n",
    "        if any ([len(r) != ncol for r in self.data]):\n",
    "            raise Exeption(\"Las filas deben ser del mismo tamano\")\n",
    "            \n",
    "    def __repr__(self):\n",
    "        matriz=\"\"\n",
    "        for x in self.data:\n",
    "            matriz = matriz + str(x)+\"\\n\"\n",
    "        return matriz\n",
    "\n",
    "    def __str__(self):\n",
    "        matriz=\"\"\n",
    "        for x in self.data:\n",
    "            matriz = matriz + str(x)+\"\\n\"\n",
    "        return matriz         \n",
    "    \n",
    "    def __getitem__(self, idx):\n",
    "        return self.data[idx[0]][idx[1]]\n",
    "    \n",
    "    def __setitem__(self, idx, new_value):\n",
    "        self.data[idx[0]][idx[1]]= new_value\n",
    "    \n",
    "    def zeros(x,y):\n",
    "        \"Matriz de ceros\"\n",
    "        zeroarray= Array([[0 for col in range(y)]for row in range(x)])\n",
    "        return zeroarray\n",
    "    \n",
    "    def eye(x):\n",
    "        \"Matriz identidad\"\n",
    "        identidad= Array([[0 for col in range(x)]for row in range(x)]) \n",
    "        for a in range(x):\n",
    "            for b in range(x):\n",
    "                if a==b:\n",
    "                    identidad[a,b]=1\n",
    "        return identidad\n",
    "    \n",
    "    def transpose(self):\n",
    "        \"Matriz transpuesta\"\n",
    "        nrow_t=len(self.data[0])\n",
    "        ncol_t=len(self.data)\n",
    "        transpuesta=Array([[0 for a in range(ncol_t)]for b in range(nrow_t)])\n",
    "        \n",
    "        for a in range(nrow_t):\n",
    "            for b in range(ncol_t):\n",
    "                transpuesta[a,b]=self.data[b][a]\n",
    "        return transpuesta"
   ]
  },
  {
   "cell_type": "code",
   "execution_count": 192,
   "metadata": {},
   "outputs": [
    {
     "data": {
      "text/plain": [
       "[1, 2, 3]\n",
       "[4, 5, 6]"
      ]
     },
     "execution_count": 192,
     "metadata": {},
     "output_type": "execute_result"
    }
   ],
   "source": [
    "A = Array([[1,2,3],[4,5,6]])\n",
    "A"
   ]
  },
  {
   "cell_type": "code",
   "execution_count": 193,
   "metadata": {},
   "outputs": [
    {
     "data": {
      "text/plain": [
       "[1, 4]\n",
       "[2, 5]\n",
       "[3, 6]"
      ]
     },
     "execution_count": 193,
     "metadata": {},
     "output_type": "execute_result"
    }
   ],
   "source": [
    "trans=A.transpose()\n",
    "trans"
   ]
  },
  {
   "cell_type": "markdown",
   "metadata": {},
   "source": [
    "## Ejercicio 6: Suma de matrices"
   ]
  },
  {
   "cell_type": "code",
   "execution_count": 212,
   "metadata": {
    "collapsed": true
   },
   "outputs": [],
   "source": [
    "class Array:\n",
    "    \"Constructor de Matrices\"\n",
    "    def __init__ (self, list_of_rows):\n",
    "        \"Constructor\"\n",
    "        \n",
    "        #Obteción de dimensiones\n",
    "        self.data = list_of_rows\n",
    "        nrow=len(list_of_rows)\n",
    "        \n",
    "        #Caso vector: redimensionar correctamente\n",
    "        #Si list_of_rows=[1,2,3] entonces list_of rows[0]=1 es un entero (no una lista)\n",
    "        if not isinstance(list_of_rows[0],list):\n",
    "            nrow=1\n",
    "            self.data = [[x] for x in list_of_rows]\n",
    "        #Con esto, self.data=[[1],[2],[3]]\n",
    "        \n",
    "        #Se calcula en número de columnas y la dimensión\n",
    "        ncol=len(self.data[0])\n",
    "        self.shape=(nrow,ncol)\n",
    "        \n",
    "        #Validador     \n",
    "        if any ([len(r) != ncol for r in self.data]):\n",
    "            raise Exeption(\"Las filas deben ser del mismo tamano\")\n",
    "            \n",
    "    def __repr__(self):\n",
    "        matriz=\"\"\n",
    "        for x in self.data:\n",
    "            matriz = matriz + str(x)+\"\\n\"\n",
    "        return matriz\n",
    "\n",
    "    def __str__(self):\n",
    "        matriz=\"\"\n",
    "        for x in self.data:\n",
    "            matriz = matriz + str(x)+\"\\n\"\n",
    "        return matriz         \n",
    "    \n",
    "    def __getitem__(self, idx):\n",
    "        return self.data[idx[0]][idx[1]]\n",
    "    \n",
    "    def __setitem__(self, idx, new_value):\n",
    "        self.data[idx[0]][idx[1]]= new_value\n",
    "    \n",
    "    def zeros(x,y):\n",
    "        \"Matriz de ceros\"\n",
    "        zeroarray= Array([[0 for col in range(y)]for row in range(x)])\n",
    "        return zeroarray\n",
    "    \n",
    "    def eye(x):\n",
    "        \"Matriz identidad\"\n",
    "        identidad= Array([[0 for col in range(x)]for row in range(x)]) \n",
    "        for a in range(x):\n",
    "            for b in range(x):\n",
    "                if a==b:\n",
    "                    identidad[a,b]=1\n",
    "        return identidad\n",
    "    \n",
    "    def transpose(self):\n",
    "        \"Matriz transpuesta\"\n",
    "        nrow_t=len(self.data[0])\n",
    "        ncol_t=len(self.data)\n",
    "        transpuesta=Array([[0 for a in range(ncol_t)]for b in range(nrow_t)])\n",
    "        \n",
    "        for a in range(nrow_t):\n",
    "            for b in range(ncol_t):\n",
    "                transpuesta[a,b]=self.data[b][a]\n",
    "        return transpuesta\n",
    "    \n",
    "    def __add__(self, other):\n",
    "        \"Suma de matrices o suma de un escalar\"\n",
    "        if isinstance(other, Array):\n",
    "            if self.shape != other.shape:\n",
    "                raise Exception(\"Las dimensiones son distintas!\")\n",
    "            rows, cols = self.shape\n",
    "            newArray = Array([[0. for c in range(cols)] for r in range(rows)])\n",
    "            for r in range(rows):\n",
    "                for c in range(cols):\n",
    "                    newArray.data[r][c] = self.data[r][c] + other.data[r][c]\n",
    "            return newArray\n",
    "        elif isinstance(2, (int, float, complex)): # en caso de que el lado derecho sea solo un numero\n",
    "            rows, cols = self.shape\n",
    "            newArray = Array([[0. for c in range(cols)] for r in range(rows)])\n",
    "            for r in range(rows):\n",
    "                for c in range(cols):\n",
    "                    newArray.data[r][c] = self.data[r][c] + other\n",
    "            return newArray\n",
    "        else:\n",
    "            return NotImplemented # es un tipo de error particular usado en estos metodos\n",
    "        \n",
    "    __radd__ = __add__\n",
    "\n",
    "    def __sub__(self, other):\n",
    "        \"Suma de matrices o suma de un escalar\"\n",
    "        if isinstance(other, Array):\n",
    "            if self.shape != other.shape:\n",
    "                raise Exception(\"Las dimensiones son distintas!\")\n",
    "            rows, cols = self.shape\n",
    "            newArray = Array([[0. for c in range(cols)] for r in range(rows)])\n",
    "            for r in range(rows):\n",
    "                for c in range(cols):\n",
    "                    newArray.data[r][c] = self.data[r][c] - other.data[r][c]\n",
    "            return newArray\n",
    "        elif isinstance(2, (int, float, complex)): # en caso de que el lado derecho sea solo un numero\n",
    "            rows, cols = self.shape\n",
    "            newArray = Array([[0. for c in range(cols)] for r in range(rows)])\n",
    "            for r in range(rows):\n",
    "                for c in range(cols):\n",
    "                    newArray.data[r][c] = self.data[r][c] - other\n",
    "            return newArray\n",
    "        else:\n",
    "            return NotImplemented # es un tipo de error particular usado en estos metodos"
   ]
  },
  {
   "cell_type": "code",
   "execution_count": 213,
   "metadata": {},
   "outputs": [
    {
     "data": {
      "text/plain": [
       "[[-4, -4], [-4, -4]]"
      ]
     },
     "execution_count": 213,
     "metadata": {},
     "output_type": "execute_result"
    }
   ],
   "source": [
    "A = Array([[1,2], [3,4]])\n",
    "B = Array([[5,6], [7,8]])\n",
    "C = A - B\n",
    "C.data"
   ]
  },
  {
   "cell_type": "code",
   "execution_count": 214,
   "metadata": {},
   "outputs": [
    {
     "data": {
      "text/plain": [
       "[-9, -8]\n",
       "[-7, -6]"
      ]
     },
     "execution_count": 214,
     "metadata": {},
     "output_type": "execute_result"
    }
   ],
   "source": [
    "D = A - 10\n",
    "D"
   ]
  },
  {
   "cell_type": "code",
   "execution_count": 215,
   "metadata": {},
   "outputs": [
    {
     "data": {
      "text/plain": [
       "[2, 3]\n",
       "[4, 5]"
      ]
     },
     "execution_count": 215,
     "metadata": {},
     "output_type": "execute_result"
    }
   ],
   "source": [
    "1 + Array([[1,2], [3,4]])"
   ]
  },
  {
   "cell_type": "markdown",
   "metadata": {},
   "source": [
    "## Ejercicio 7: Multiplicación de matrices"
   ]
  },
  {
   "cell_type": "code",
   "execution_count": 14,
   "metadata": {
    "collapsed": true
   },
   "outputs": [],
   "source": [
    "class Array:\n",
    "    \"Constructor de Matrices\"\n",
    "    def __init__ (self, list_of_rows):\n",
    "        \"Constructor\"\n",
    "        \n",
    "        #Obteción de dimensiones\n",
    "        self.data = list_of_rows\n",
    "        nrow=len(list_of_rows)\n",
    "        \n",
    "        #Caso vector: redimensionar correctamente\n",
    "        #Si list_of_rows=[1,2,3] entonces list_of rows[0]=1 es un entero (no una lista)\n",
    "        if not isinstance(list_of_rows[0],list):\n",
    "            nrow=1\n",
    "            self.data = [[x] for x in list_of_rows]\n",
    "        #Con esto, self.data=[[1],[2],[3]]\n",
    "        \n",
    "        #Se calcula en número de columnas y la dimensión\n",
    "        ncol=len(self.data[0])\n",
    "        self.shape=(nrow,ncol)\n",
    "        \n",
    "        #Validador     \n",
    "        if any ([len(r) != ncol for r in self.data]):\n",
    "            raise Exeption(\"Las filas deben ser del mismo tamano\")\n",
    "            \n",
    "    def __repr__(self):\n",
    "        matriz=\"\"\n",
    "        for x in self.data:\n",
    "            matriz = matriz + str(x)+\"\\n\"\n",
    "        return matriz\n",
    "\n",
    "    def __str__(self):\n",
    "        matriz=\"\"\n",
    "        for x in self.data:\n",
    "            matriz = matriz + str(x)+\"\\n\"\n",
    "        return matriz         \n",
    "    \n",
    "    def __getitem__(self, idx):\n",
    "        return self.data[idx[0]][idx[1]]\n",
    "    \n",
    "    def __setitem__(self, idx, new_value):\n",
    "        self.data[idx[0]][idx[1]]= new_value\n",
    "    \n",
    "    def zeros(x,y):\n",
    "        \"Matriz de ceros\"\n",
    "        zeroarray= Array([[0 for col in range(y)]for row in range(x)])\n",
    "        return zeroarray\n",
    "    \n",
    "    def eye(x):\n",
    "        \"Matriz identidad\"\n",
    "        identidad= Array([[0 for col in range(x)]for row in range(x)]) \n",
    "        for a in range(x):\n",
    "            for b in range(x):\n",
    "                if a==b:\n",
    "                    identidad[a,b]=1\n",
    "        return identidad\n",
    "    \n",
    "    def transpose(self):\n",
    "        \"Matriz transpuesta\"\n",
    "        nrow_t=len(self.data[0])\n",
    "        ncol_t=len(self.data)\n",
    "        transpuesta=Array([[0 for a in range(ncol_t)]for b in range(nrow_t)])\n",
    "        \n",
    "        for a in range(nrow_t):\n",
    "            for b in range(ncol_t):\n",
    "                transpuesta[a,b]=self.data[b][a]\n",
    "        return transpuesta\n",
    "    \n",
    "    def __add__(self, other):\n",
    "        \"Suma de matrices o suma matriz y escalar\"\n",
    "        if isinstance(other, Array):\n",
    "            if self.shape != other.shape:\n",
    "                raise Exception(\"Las dimensiones son distintas!\")\n",
    "            rows, cols = self.shape\n",
    "            newArray = Array([[0. for c in range(cols)] for r in range(rows)])\n",
    "            for r in range(rows):\n",
    "                for c in range(cols):\n",
    "                    newArray.data[r][c] = self.data[r][c] + other.data[r][c]\n",
    "            return newArray\n",
    "        elif isinstance(2, (int, float, complex)): # en caso de que el lado derecho sea solo un numero\n",
    "            rows, cols = self.shape\n",
    "            newArray = Array([[0. for c in range(cols)] for r in range(rows)])\n",
    "            for r in range(rows):\n",
    "                for c in range(cols):\n",
    "                    newArray.data[r][c] = self.data[r][c] + other\n",
    "            return newArray\n",
    "        else:\n",
    "            return NotImplemented # es un tipo de error particular usado en estos metodos\n",
    "        \n",
    "    __radd__ = __add__\n",
    "\n",
    "    def __sub__(self, other):\n",
    "        \"Resta de matrices o resta matriz y escalar\"\n",
    "        if isinstance(other, Array):\n",
    "            if self.shape != other.shape:\n",
    "                raise Exception(\"Las dimensiones son distintas!\")\n",
    "            rows, cols = self.shape\n",
    "            newArray = Array([[0. for c in range(cols)] for r in range(rows)])\n",
    "            for r in range(rows):\n",
    "                for c in range(cols):\n",
    "                    newArray.data[r][c] = self.data[r][c] - other.data[r][c]\n",
    "            return newArray\n",
    "        elif isinstance(2, (int, float, complex)): # en caso de que el lado derecho sea solo un numero\n",
    "            rows, cols = self.shape\n",
    "            newArray = Array([[0. for c in range(cols)] for r in range(rows)])\n",
    "            for r in range(rows):\n",
    "                for c in range(cols):\n",
    "                    newArray.data[r][c] = self.data[r][c] - other\n",
    "            return newArray\n",
    "        else:\n",
    "            return NotImplemented # es un tipo de error particular usado en estos metodos\n",
    "        \n",
    "    def __mul__(self, other):\n",
    "        \"Multiplicación de matrices o multiplicación de matriz por escalar\"\n",
    "        if isinstance(other, Array):\n",
    "            if self.shape[1]!=other.shape[0]:\n",
    "                raise Expeption(\"Las dimensiones de las matrices no permiten hacer la multiplicación\")\n",
    "            rowA=self.shape[0]\n",
    "            colA=self.shape[1]\n",
    "            rowB=other.shape[0]\n",
    "            colB=other.shape[1]   \n",
    "            newArray = Array([[0. for l in range(colB)] for i in range(rowA)])\n",
    "            for i in range(rowA):\n",
    "                for l in range(colB):\n",
    "                    for j in range(rowB):\n",
    "                        newArray[i,l]= newArray[i,l] + self.data[i][j]*other.data[j][l]\n",
    "            return newArray\n",
    "        elif isinstance(other, (int,float, complex)):\n",
    "            rowA,colA= self.shape\n",
    "            newArray = Array([[0. for c in range(colA)] for r in range(rowA)])\n",
    "            for i in range (rowA):\n",
    "                for j in range(colA):\n",
    "                    newArray.data[i][j]=self.data[i][j]*other\n",
    "            return newArray\n",
    "        else:\n",
    "            return NotImplemented\n",
    "                "
   ]
  },
  {
   "cell_type": "code",
   "execution_count": 15,
   "metadata": {},
   "outputs": [
    {
     "data": {
      "text/plain": [
       "[17.0, 22.0, 27.0]\n",
       "[22.0, 29.0, 36.0]\n",
       "[27.0, 36.0, 45.0]"
      ]
     },
     "execution_count": 15,
     "metadata": {},
     "output_type": "execute_result"
    }
   ],
   "source": [
    "A = Array([[1,4], [2,5],[3,6]])\n",
    "B = Array([[1,2,3], [4,5,6]])\n",
    "A*B"
   ]
  },
  {
   "cell_type": "code",
   "execution_count": 16,
   "metadata": {},
   "outputs": [
    {
     "data": {
      "text/plain": [
       "(3, 2)"
      ]
     },
     "execution_count": 16,
     "metadata": {},
     "output_type": "execute_result"
    }
   ],
   "source": [
    "A.shape"
   ]
  },
  {
   "cell_type": "code",
   "execution_count": 17,
   "metadata": {},
   "outputs": [
    {
     "data": {
      "text/plain": [
       "(2, 3)"
      ]
     },
     "execution_count": 17,
     "metadata": {},
     "output_type": "execute_result"
    }
   ],
   "source": [
    "B.shape"
   ]
  },
  {
   "cell_type": "code",
   "execution_count": 20,
   "metadata": {},
   "outputs": [
    {
     "data": {
      "text/plain": [
       "[1, 4]\n",
       "[2, 5]\n",
       "[3, 6]"
      ]
     },
     "execution_count": 20,
     "metadata": {},
     "output_type": "execute_result"
    }
   ],
   "source": [
    "A"
   ]
  },
  {
   "cell_type": "code",
   "execution_count": 21,
   "metadata": {},
   "outputs": [
    {
     "data": {
      "text/plain": [
       "[2, 8]\n",
       "[4, 10]\n",
       "[6, 12]"
      ]
     },
     "execution_count": 21,
     "metadata": {},
     "output_type": "execute_result"
    }
   ],
   "source": [
    "A*2"
   ]
  },
  {
   "cell_type": "markdown",
   "metadata": {
    "collapsed": true
   },
   "source": [
    "## Matriz triangular"
   ]
  },
  {
   "cell_type": "code",
   "execution_count": 23,
   "metadata": {
    "collapsed": true
   },
   "outputs": [],
   "source": [
    "class Array:\n",
    "    \"Constructor de Matrices\"\n",
    "    def __init__ (self, list_of_rows):\n",
    "        \"Constructor\"\n",
    "        \n",
    "        #Obteción de dimensiones\n",
    "        self.data = list_of_rows\n",
    "        nrow=len(list_of_rows)\n",
    "        \n",
    "        #Caso vector: redimensionar correctamente\n",
    "        #Si list_of_rows=[1,2,3] entonces list_of rows[0]=1 es un entero (no una lista)\n",
    "        if not isinstance(list_of_rows[0],list):\n",
    "            nrow=1\n",
    "            self.data = [[x] for x in list_of_rows]\n",
    "        #Con esto, self.data=[[1],[2],[3]]\n",
    "        \n",
    "        #Se calcula en número de columnas y la dimensión\n",
    "        ncol=len(self.data[0])\n",
    "        self.shape=(nrow,ncol)\n",
    "        \n",
    "        #Validador     \n",
    "        if any ([len(r) != ncol for r in self.data]):\n",
    "            raise Exeption(\"Las filas deben ser del mismo tamano\")\n",
    "            \n",
    "    def __repr__(self):\n",
    "        matriz=\"\"\n",
    "        for x in self.data:\n",
    "            matriz = matriz + str(x)+\"\\n\"\n",
    "        return matriz\n",
    "\n",
    "    def __str__(self):\n",
    "        matriz=\"\"\n",
    "        for x in self.data:\n",
    "            matriz = matriz + str(x)+\"\\n\"\n",
    "        return matriz         \n",
    "    \n",
    "    def __getitem__(self, idx):\n",
    "        return self.data[idx[0]][idx[1]]\n",
    "    \n",
    "    def __setitem__(self, idx, new_value):\n",
    "        self.data[idx[0]][idx[1]]= new_value\n",
    "    \n",
    "    def zeros(x,y):\n",
    "        \"Matriz de ceros\"\n",
    "        zeroarray= Array([[0 for col in range(y)]for row in range(x)])\n",
    "        return zeroarray\n",
    "    \n",
    "    def eye(x):\n",
    "        \"Matriz identidad\"\n",
    "        identidad= Array([[0 for col in range(x)]for row in range(x)]) \n",
    "        for a in range(x):\n",
    "            for b in range(x):\n",
    "                if a==b:\n",
    "                    identidad[a,b]=1\n",
    "        return identidad\n",
    "    \n",
    "    def transpose(self):\n",
    "        \"Matriz transpuesta\"\n",
    "        nrow_t=len(self.data[0])\n",
    "        ncol_t=len(self.data)\n",
    "        transpuesta=Array([[0 for a in range(ncol_t)]for b in range(nrow_t)])\n",
    "        \n",
    "        for a in range(nrow_t):\n",
    "            for b in range(ncol_t):\n",
    "                transpuesta[a,b]=self.data[b][a]\n",
    "        return transpuesta\n",
    "    \n",
    "    def __add__(self, other):\n",
    "        \"Suma de matrices o suma matriz y escalar\"\n",
    "        if isinstance(other, Array):\n",
    "            if self.shape != other.shape:\n",
    "                raise Exception(\"Las dimensiones son distintas!\")\n",
    "            rows, cols = self.shape\n",
    "            newArray = Array([[0. for c in range(cols)] for r in range(rows)])\n",
    "            for r in range(rows):\n",
    "                for c in range(cols):\n",
    "                    newArray.data[r][c] = self.data[r][c] + other.data[r][c]\n",
    "            return newArray\n",
    "        elif isinstance(other, (int, float, complex)): # en caso de que el lado derecho sea solo un numero\n",
    "            rows, cols = self.shape\n",
    "            newArray = Array([[0. for c in range(cols)] for r in range(rows)])\n",
    "            for r in range(rows):\n",
    "                for c in range(cols):\n",
    "                    newArray.data[r][c] = self.data[r][c] + other\n",
    "            return newArray\n",
    "        else:\n",
    "            return NotImplemented # es un tipo de error particular usado en estos metodos\n",
    "        \n",
    "    __radd__ = __add__\n",
    "\n",
    "    def __sub__(self, other):\n",
    "        \"Resta de matrices o resta matriz y escalar\"\n",
    "        if isinstance(other, Array):\n",
    "            if self.shape != other.shape:\n",
    "                raise Exception(\"Las dimensiones son distintas!\")\n",
    "            rows, cols = self.shape\n",
    "            newArray = Array([[0. for c in range(cols)] for r in range(rows)])\n",
    "            for r in range(rows):\n",
    "                for c in range(cols):\n",
    "                    newArray.data[r][c] = self.data[r][c] - other.data[r][c]\n",
    "            return newArray\n",
    "        elif isinstance(other, (int, float, complex)): # en caso de que el lado derecho sea solo un numero\n",
    "            rows, cols = self.shape\n",
    "            newArray = Array([[0. for c in range(cols)] for r in range(rows)])\n",
    "            for r in range(rows):\n",
    "                for c in range(cols):\n",
    "                    newArray.data[r][c] = self.data[r][c] - other\n",
    "            return newArray\n",
    "        else:\n",
    "            return NotImplemented # es un tipo de error particular usado en estos metodos\n",
    "        \n",
    "    def __mul__(self, other):\n",
    "        \"Multiplicación de matrices o multiplicación de matriz por escalar\"\n",
    "        if isinstance(other, Array):\n",
    "            if self.shape[1]!=other.shape[0]:\n",
    "                raise Expeption(\"Las dimensiones de las matrices no permiten hacer la multiplicación\")\n",
    "            rowA=self.shape[0]\n",
    "            colA=self.shape[1]\n",
    "            rowB=other.shape[0]\n",
    "            colB=other.shape[1]   \n",
    "            newArray = Array([[0. for l in range(colB)] for i in range(rowA)])\n",
    "            for i in range(rowA):\n",
    "                for l in range(colB):\n",
    "                    for j in range(rowB):\n",
    "                        newArray[i,l]= newArray[i,l] + self.data[i][j]*other.data[j][l]\n",
    "            return newArray\n",
    "        elif isinstance(other, (int,float, complex)):\n",
    "            rowA,colA= self.shape\n",
    "            newArray = Array([[0. for c in range(colA)] for r in range(rowA)])\n",
    "            for i in range (rowA):\n",
    "                for j in range(colA):\n",
    "                    newArray.data[i][j]=self.data[i][j]*other\n",
    "            return newArray\n",
    "        else:\n",
    "            return NotImplemented\n",
    "        \n",
    "    def forward_subs (self,Y):\n",
    "        \"Método para resolver una matriz triangular inferior\"\n",
    "        if isinstance(Y,Array):\n",
    "            if Y.shape[1]!=1:\n",
    "                raise Exeption (\"Y no es un vector\")\n",
    "            if Y.shape[0]!=self.shape[1]:\n",
    "                raise Exeption (\"Las dimensiones de las matrices no permiten hacer la operación\")\n",
    "            \n",
    "        rowA,colA= self.shape\n",
    "        for i in range(colA):\n",
    "            for j in range(rowA):\n",
    "                if i>j:\n",
    "                    if self.data[j][i]!=0:\n",
    "                        raise Exeption (\"La matriz no es triangular inferior\")                       \n",
    "            \n",
    "        colY= Y.shape[0]    \n",
    "        newArrayX = Array([[0.] for l in range(colY)])\n",
    "            \n",
    "        for j in range(colY):\n",
    "            if j==0:\n",
    "                newArrayX.data[0][0]=(Y.data[0][0])/(self.data[0][0])\n",
    "                \n",
    "            if j>0:\n",
    "                for i in range(j):\n",
    "                    newArrayX.data[j][0]=newArrayX.data[j][0]-(self.data[j][i]/self.data[j][j])*newArrayX.data[i][0]\n",
    "                newArrayX.data[j][0]=Y.data[j][0]/self.data[j][j]+ newArrayX.data[j][0]\n",
    "        return newArrayX\n",
    "    \n",
    "    \n",
    "    def backward_subs (self,Y):\n",
    "        \"Método para resolver una matriz triangular superior\"\n",
    "        if isinstance(Y,Array):\n",
    "            if Y.shape[1]!=1:\n",
    "                raise Exeption (\"Y no es un vector\")\n",
    "            if Y.shape[0]!=self.shape[1]:\n",
    "                raise Exeption (\"Las dimensiones de las matrices no permiten hacer la operación\")\n",
    "            \n",
    "        rowA,colA= self.shape\n",
    "        for i in range(colA):\n",
    "            for j in range(rowA):\n",
    "                if i<j:\n",
    "                    if self.data[j][i]!=0:\n",
    "                        raise Exeption (\"La matriz no es triangular superior\")                       \n",
    "            \n",
    "        colY= Y.shape[0]    \n",
    "        newArrayX = Array([[0.] for l in range(colY)])\n",
    "            \n",
    "        for j in range(colY):\n",
    "            c=colY-j-1\n",
    "            if j==0:                \n",
    "                newArrayX.data[c][0]=(Y.data[c][0])/(self.data[c][c])\n",
    "                \n",
    "            if j>0:\n",
    "                for i in range(j):\n",
    "                    q=c+1+i\n",
    "                    newArrayX.data[c][0]=newArrayX.data[c][0]-(self.data[c][q]/self.data[c][c])*newArrayX.data[q][0]\n",
    "                newArrayX.data[c][0]=Y.data[c][0]/self.data[c][c]+ newArrayX.data[c][0]\n",
    "        return newArrayX"
   ]
  },
  {
   "cell_type": "code",
   "execution_count": 24,
   "metadata": {
    "collapsed": true
   },
   "outputs": [],
   "source": [
    "A = Array([[1,0,0], [2,3,0],[4,5,6]])"
   ]
  },
  {
   "cell_type": "code",
   "execution_count": 25,
   "metadata": {},
   "outputs": [
    {
     "data": {
      "text/plain": [
       "[1, 0, 0]\n",
       "[2, 3, 0]\n",
       "[4, 5, 6]"
      ]
     },
     "execution_count": 25,
     "metadata": {},
     "output_type": "execute_result"
    }
   ],
   "source": [
    "A"
   ]
  },
  {
   "cell_type": "code",
   "execution_count": 26,
   "metadata": {
    "collapsed": true
   },
   "outputs": [],
   "source": [
    "Y =Array([[1],[2],[3]])"
   ]
  },
  {
   "cell_type": "code",
   "execution_count": 27,
   "metadata": {},
   "outputs": [
    {
     "data": {
      "text/plain": [
       "(3, 1)"
      ]
     },
     "execution_count": 27,
     "metadata": {},
     "output_type": "execute_result"
    }
   ],
   "source": [
    "Y.shape"
   ]
  },
  {
   "cell_type": "code",
   "execution_count": 28,
   "metadata": {
    "collapsed": true
   },
   "outputs": [],
   "source": [
    "X=A.forward_subs(Y)"
   ]
  },
  {
   "cell_type": "code",
   "execution_count": 29,
   "metadata": {},
   "outputs": [
    {
     "data": {
      "text/plain": [
       "[1.0]\n",
       "[0.0]\n",
       "[-0.16666666666666663]"
      ]
     },
     "execution_count": 29,
     "metadata": {},
     "output_type": "execute_result"
    }
   ],
   "source": [
    "X"
   ]
  },
  {
   "cell_type": "code",
   "execution_count": 30,
   "metadata": {
    "collapsed": true
   },
   "outputs": [],
   "source": [
    "A = Array([[1,2,3], [0,4,5],[0,0,6]])"
   ]
  },
  {
   "cell_type": "code",
   "execution_count": 31,
   "metadata": {},
   "outputs": [
    {
     "data": {
      "text/plain": [
       "[1, 2, 3]\n",
       "[0, 4, 5]\n",
       "[0, 0, 6]"
      ]
     },
     "execution_count": 31,
     "metadata": {},
     "output_type": "execute_result"
    }
   ],
   "source": [
    "A"
   ]
  },
  {
   "cell_type": "code",
   "execution_count": 32,
   "metadata": {},
   "outputs": [],
   "source": [
    "X=A.backward_subs(Y)"
   ]
  },
  {
   "cell_type": "code",
   "execution_count": 34,
   "metadata": {},
   "outputs": [
    {
     "data": {
      "text/plain": [
       "[-0.25]\n",
       "[-0.125]\n",
       "[0.5]"
      ]
     },
     "execution_count": 34,
     "metadata": {},
     "output_type": "execute_result"
    }
   ],
   "source": [
    "X"
   ]
  },
  {
   "cell_type": "code",
   "execution_count": 35,
   "metadata": {},
   "outputs": [
    {
     "data": {
      "text/plain": [
       "0.125"
      ]
     },
     "execution_count": 35,
     "metadata": {},
     "output_type": "execute_result"
    }
   ],
   "source": [
    "1/8"
   ]
  }
 ],
 "metadata": {
  "kernelspec": {
   "display_name": "Python 3",
   "language": "python",
   "name": "python3"
  },
  "language_info": {
   "codemirror_mode": {
    "name": "ipython",
    "version": 3
   },
   "file_extension": ".py",
   "mimetype": "text/x-python",
   "name": "python",
   "nbconvert_exporter": "python",
   "pygments_lexer": "ipython3",
   "version": "3.6.1"
  }
 },
 "nbformat": 4,
 "nbformat_minor": 2
}
