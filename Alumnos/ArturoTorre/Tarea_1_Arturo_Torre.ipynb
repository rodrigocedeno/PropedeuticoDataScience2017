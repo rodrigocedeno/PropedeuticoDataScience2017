{
 "cells": [
  {
   "cell_type": "code",
   "execution_count": 1,
   "metadata": {},
   "outputs": [],
   "source": [
    "class Array:\n",
    "    \"Una clase minima para algebra lineal\"    \n",
    "    def __init__(self, list_of_rows): \n",
    "        \"Constructor y validador\"\n",
    "        # obtener dimensiones\n",
    "        self.data = list_of_rows\n",
    "        nrow = len(list_of_rows)\n",
    "        #  ___caso vector: redimensionar correctamente\n",
    "        if not isinstance(list_of_rows[0], list):\n",
    "            nrow = 1\n",
    "            self.data = [[x] for x in list_of_rows]\n",
    "        # ahora las columnas deben estar bien aunque sea un vector\n",
    "        ncol = len(self.data[0])\n",
    "        self.shape = (nrow, ncol)\n",
    "        # validar tamano correcto de filas\n",
    "        if any([len(r) != ncol for r in self.data]):\n",
    "            raise Exception(\"Las filas deben ser del mismo tamano\")\n",
    "            \n",
    "    def __repr__(self):\n",
    "        \"Ejercicio\"\n",
    "        return repr(self.data)\n",
    "            \n",
    "    def __str__(self):\n",
    "        \"Ejercicio\"\n",
    "        return str(self.data)\n",
    "            \n",
    "    def __getitem__(self, idx):\n",
    "        \"Ejercicio\"\n",
    "        return self.data[idx[0]][idx[1]]\n",
    "            \n",
    "    def __setitem__(self, idx, new_value):\n",
    "        \"Ejercicio\"\n",
    "        self.data[idx[0]][idx[1]] = new_value\n",
    "        \n",
    "        \n",
    "    def transpuesta(self):\n",
    "        \"Matriz transpuesta\"\n",
    "        rows, cols = self.shape\n",
    "        newArray = Array([[0. for c in range(rows)] for r in range(cols)])\n",
    "        for c in range(rows):\n",
    "            for r in range(cols):\n",
    "                newArray.data[r][c] = self.data[c][r]\n",
    "        return newArray\n",
    "\n",
    "    \n",
    "    def identidad(rows,cols): \n",
    "        \"Matriz Identidad\"\n",
    "        newArray = Array([[0. for c in range(cols)] for r in range(rows)])\n",
    "        for r in range(rows):\n",
    "            for c in range(cols):\n",
    "                if(r==c):\n",
    "                    newArray.data[r][c] = 1.\n",
    "                else:\n",
    "                    newArray.data[r][c] = 0.\n",
    "        return newArray\n",
    "            \n",
    "    def zeros(rows,cols):\n",
    "        \"Zeros\"\n",
    "        newArray = Array([[0. for c in range(cols)] for r in range(rows)])\n",
    "        for r in range(rows):\n",
    "            for c in range(cols):\n",
    "                newArray.data[r][c] = 0.\n",
    "                return newArray\n",
    "\n",
    "    def __add__(self, other):\n",
    "        \"Hora de sumar\"\n",
    "        if isinstance(other, Array):\n",
    "            if self.shape != other.shape:\n",
    "                raise Exception(\"Las dimensiones son distintas!\")\n",
    "            rows, cols = self.shape\n",
    "            newArray = Array([[0. for c in range(cols)] for r in range(rows)])\n",
    "            for r in range(rows):\n",
    "                for c in range(cols):\n",
    "                    newArray.data[r][c] = self.data[r][c] + other.data[r][c]\n",
    "            return newArray\n",
    "        elif isinstance(2, (int, float, complex)): # en caso de que el lado derecho sea solo un numero\n",
    "            rows, cols = self.shape\n",
    "            newArray = Array([[0. for c in range(cols)] for r in range(rows)])\n",
    "            for r in range(rows):\n",
    "                for c in range(cols):\n",
    "                    newArray.data[r][c] = self.data[r][c] + other\n",
    "            return newArray\n",
    "        else:\n",
    "            return self__radd__.other\n",
    "    \n",
    "    __radd__ = __add__   \n",
    "    \n",
    "    \n",
    "    def __sub__(self, other):\n",
    "        \"Hora de restar\"\n",
    "        if isinstance(other, Array):\n",
    "            if self.shape != other.shape:\n",
    "                raise Exception(\"Las dimensiones son distintas!\")\n",
    "            rows, cols = self.shape\n",
    "            newArray = Array([[0. for c in range(cols)] for r in range(rows)])\n",
    "            for r in range(rows):\n",
    "                for c in range(cols):\n",
    "                    newArray.data[r][c] = self.data[r][c] - other.data[r][c]\n",
    "            return newArray\n",
    "        elif isinstance(2, (int, float, complex)): # en caso de que el lado derecho sea solo un numero\n",
    "            rows, cols = self.shape\n",
    "            newArray = Array([[0. for c in range(cols)] for r in range(rows)])\n",
    "            for r in range(rows):\n",
    "                for c in range(cols):\n",
    "                    newArray.data[r][c] = self.data[r][c] - other\n",
    "            return newArray\n",
    "        else:\n",
    "            return self__radd__.other\n",
    "    \n",
    "    __rsub__ = __sub__   \n",
    "    \n",
    "\n",
    "    def __mul__(self, other):\n",
    "        \"Hora de multiplicar\"\n",
    "        if isinstance(other, Array):\n",
    "            if self.shape[1] != other.shape[0]:\n",
    "                raise Exception(\"Las matrices no se pueden multiplicar!\")\n",
    "            \n",
    "            rows, cols = self.shape[0],other.shape[1]\n",
    "            newArray = Array([[0. for c in range(cols)] for r in range(rows)])\n",
    "            \n",
    "            for r in range(rows):\n",
    "                for c in range(cols):\n",
    "                    for k in range(len(other.data)):\n",
    "                        newArray.data[r][c] += self.data[r][k] * other.data[k][c] \n",
    "            return newArray\n",
    "        \n",
    "        elif isinstance(2, (int, float, complex)): # en caso de que el lado derecho sea solo un numero\n",
    "            rows, cols = self.shape\n",
    "            newArray = Array([[0. for c in range(cols)] for r in range(rows)])\n",
    "            for r in range(rows):\n",
    "                for c in range(cols):\n",
    "                    newArray.data[r][c] = self.data[r][c] + other\n",
    "            return newArray\n",
    "        else:\n",
    "            return self__rmul__.other\n",
    "    \n",
    "    __rmul__ = __mul__\n",
    "    \n",
    "\n",
    "class Vector(Array): # declara que Vector es un tipo de Array\n",
    "    def __init__(self, list_of_numbers):\n",
    "        self.vdata = list_of_numbers\n",
    "        list_of_rows = [[x] for x in list_of_numbers]\n",
    "        return Array.__init__(self, list_of_rows)\n",
    "    def __repr__(self):\n",
    "        return \"Vector(\" + str(self.vdata) + \")\"\n",
    "    def __str__(self):\n",
    "        return str(self.vdata)\n",
    "    def __add__(self, other):\n",
    "        new_arr = Array.__add__(self, other)\n",
    "        return Vector([x[0] for x in new_arr.data])"
   ]
  },
  {
   "cell_type": "code",
   "execution_count": 2,
   "metadata": {},
   "outputs": [
    {
     "data": {
      "text/plain": [
       "[[5, 2], [4, 5]]"
      ]
     },
     "execution_count": 2,
     "metadata": {},
     "output_type": "execute_result"
    }
   ],
   "source": [
    "A = Array([[5,2],[4,5]])\n",
    "A.data"
   ]
  },
  {
   "cell_type": "code",
   "execution_count": 4,
   "metadata": {},
   "outputs": [
    {
     "data": {
      "text/plain": [
       "[[67, 2], [4, 5]]"
      ]
     },
     "execution_count": 4,
     "metadata": {},
     "output_type": "execute_result"
    }
   ],
   "source": [
    "B = Array([[67,2],[4,5]])\n",
    "B.data"
   ]
  },
  {
   "cell_type": "markdown",
   "metadata": {},
   "source": [
    "## __repr__"
   ]
  },
  {
   "cell_type": "code",
   "execution_count": 5,
   "metadata": {},
   "outputs": [
    {
     "data": {
      "text/plain": [
       "[[5, 2], [4, 5]]"
      ]
     },
     "execution_count": 5,
     "metadata": {},
     "output_type": "execute_result"
    }
   ],
   "source": [
    "A"
   ]
  },
  {
   "cell_type": "markdown",
   "metadata": {},
   "source": [
    "## __str__"
   ]
  },
  {
   "cell_type": "code",
   "execution_count": 6,
   "metadata": {},
   "outputs": [
    {
     "name": "stdout",
     "output_type": "stream",
     "text": [
      "[[5, 2], [4, 5]]\n"
     ]
    }
   ],
   "source": [
    "print(A)"
   ]
  },
  {
   "cell_type": "markdown",
   "metadata": {},
   "source": [
    "## __getitem__"
   ]
  },
  {
   "cell_type": "code",
   "execution_count": 7,
   "metadata": {},
   "outputs": [
    {
     "data": {
      "text/plain": [
       "5"
      ]
     },
     "execution_count": 7,
     "metadata": {},
     "output_type": "execute_result"
    }
   ],
   "source": [
    "A[0,0]"
   ]
  },
  {
   "cell_type": "markdown",
   "metadata": {},
   "source": [
    "## __setitem__"
   ]
  },
  {
   "cell_type": "code",
   "execution_count": 8,
   "metadata": {},
   "outputs": [
    {
     "data": {
      "text/plain": [
       "[[4, 2], [4, 5]]"
      ]
     },
     "execution_count": 8,
     "metadata": {},
     "output_type": "execute_result"
    }
   ],
   "source": [
    "A[0,0] = 4\n",
    "A.data"
   ]
  },
  {
   "cell_type": "markdown",
   "metadata": {},
   "source": [
    "## shape"
   ]
  },
  {
   "cell_type": "code",
   "execution_count": 9,
   "metadata": {},
   "outputs": [
    {
     "data": {
      "text/plain": [
       "(2, 2)"
      ]
     },
     "execution_count": 9,
     "metadata": {},
     "output_type": "execute_result"
    }
   ],
   "source": [
    "A.shape"
   ]
  },
  {
   "cell_type": "markdown",
   "metadata": {},
   "source": [
    "## Matriz de ceros"
   ]
  },
  {
   "cell_type": "code",
   "execution_count": 10,
   "metadata": {},
   "outputs": [
    {
     "data": {
      "text/plain": [
       "[[0.0, 0.0], [0.0, 0.0], [0.0, 0.0], [0.0, 0.0]]"
      ]
     },
     "execution_count": 10,
     "metadata": {},
     "output_type": "execute_result"
    }
   ],
   "source": [
    "D = Array.zeros(4,2)\n",
    "D.data"
   ]
  },
  {
   "cell_type": "code",
   "execution_count": 11,
   "metadata": {},
   "outputs": [
    {
     "data": {
      "text/plain": [
       "[[0.0, 0.0], [0.0, 0.0], [0.0, 0.0]]"
      ]
     },
     "execution_count": 11,
     "metadata": {},
     "output_type": "execute_result"
    }
   ],
   "source": [
    "J = Array.zeros(3,2)\n",
    "J.data"
   ]
  },
  {
   "cell_type": "markdown",
   "metadata": {},
   "source": [
    "## Matriz identidad"
   ]
  },
  {
   "cell_type": "code",
   "execution_count": 12,
   "metadata": {},
   "outputs": [
    {
     "data": {
      "text/plain": [
       "[[1.0, 0.0, 0.0, 0.0],\n",
       " [0.0, 1.0, 0.0, 0.0],\n",
       " [0.0, 0.0, 1.0, 0.0],\n",
       " [0.0, 0.0, 0.0, 1.0]]"
      ]
     },
     "execution_count": 12,
     "metadata": {},
     "output_type": "execute_result"
    }
   ],
   "source": [
    "E = Array.identidad(4,4)\n",
    "E.data"
   ]
  },
  {
   "cell_type": "markdown",
   "metadata": {},
   "source": [
    "## Matriz transpuesta"
   ]
  },
  {
   "cell_type": "code",
   "execution_count": 15,
   "metadata": {},
   "outputs": [
    {
     "data": {
      "text/plain": [
       "[[4, 2], [4, 5]]"
      ]
     },
     "execution_count": 15,
     "metadata": {},
     "output_type": "execute_result"
    }
   ],
   "source": [
    "A.data"
   ]
  },
  {
   "cell_type": "code",
   "execution_count": 16,
   "metadata": {},
   "outputs": [
    {
     "data": {
      "text/plain": [
       "[[4, 4], [2, 5]]"
      ]
     },
     "execution_count": 16,
     "metadata": {},
     "output_type": "execute_result"
    }
   ],
   "source": [
    "F = A.transpuesta()\n",
    "F.data"
   ]
  },
  {
   "cell_type": "code",
   "execution_count": 17,
   "metadata": {},
   "outputs": [
    {
     "data": {
      "text/plain": [
       "[[17, 18, 19], [20, 21, 22]]"
      ]
     },
     "execution_count": 17,
     "metadata": {},
     "output_type": "execute_result"
    }
   ],
   "source": [
    "J = Array ([[17,18,19], [20,21,22]])\n",
    "J.data"
   ]
  },
  {
   "cell_type": "code",
   "execution_count": 19,
   "metadata": {},
   "outputs": [
    {
     "data": {
      "text/plain": [
       "[[17, 20], [18, 21], [19, 22]]"
      ]
     },
     "execution_count": 19,
     "metadata": {},
     "output_type": "execute_result"
    }
   ],
   "source": [
    "Z= J.transpuesta()\n",
    "Z.data"
   ]
  },
  {
   "cell_type": "markdown",
   "metadata": {},
   "source": [
    "## Suma y resta de matrices"
   ]
  },
  {
   "cell_type": "code",
   "execution_count": 20,
   "metadata": {},
   "outputs": [
    {
     "data": {
      "text/plain": [
       "[[71, 4], [8, 10]]"
      ]
     },
     "execution_count": 20,
     "metadata": {},
     "output_type": "execute_result"
    }
   ],
   "source": [
    "C = A + B\n",
    "C.data"
   ]
  },
  {
   "cell_type": "code",
   "execution_count": 21,
   "metadata": {},
   "outputs": [
    {
     "data": {
      "text/plain": [
       "[[5, 3], [5, 6]]"
      ]
     },
     "execution_count": 21,
     "metadata": {},
     "output_type": "execute_result"
    }
   ],
   "source": [
    "H = 1 + A\n",
    "H.data"
   ]
  },
  {
   "cell_type": "code",
   "execution_count": 22,
   "metadata": {},
   "outputs": [
    {
     "data": {
      "text/plain": [
       "[[2, 3], [4, 5]]"
      ]
     },
     "execution_count": 22,
     "metadata": {},
     "output_type": "execute_result"
    }
   ],
   "source": [
    "G = 1 + Array([[1,2], [3,4]])\n",
    "G.data"
   ]
  },
  {
   "cell_type": "code",
   "execution_count": 23,
   "metadata": {},
   "outputs": [
    {
     "data": {
      "text/plain": [
       "[[3, 1], [3, 4]]"
      ]
     },
     "execution_count": 23,
     "metadata": {},
     "output_type": "execute_result"
    }
   ],
   "source": [
    "I = A - 1\n",
    "I.data"
   ]
  },
  {
   "cell_type": "code",
   "execution_count": 24,
   "metadata": {},
   "outputs": [
    {
     "data": {
      "text/plain": [
       "[[-16, -18], [-16, -15]]"
      ]
     },
     "execution_count": 24,
     "metadata": {},
     "output_type": "execute_result"
    }
   ],
   "source": [
    "K = 20 - A\n",
    "K.data"
   ]
  },
  {
   "cell_type": "markdown",
   "metadata": {},
   "source": [
    "## Multiplicación de matrices"
   ]
  },
  {
   "cell_type": "code",
   "execution_count": 25,
   "metadata": {},
   "outputs": [
    {
     "data": {
      "text/plain": [
       "[[8.0], [14.0]]"
      ]
     },
     "execution_count": 25,
     "metadata": {},
     "output_type": "execute_result"
    }
   ],
   "source": [
    "L = A * Array([[1],[2]])\n",
    "L.data"
   ]
  },
  {
   "cell_type": "code",
   "execution_count": 26,
   "metadata": {},
   "outputs": [
    {
     "data": {
      "text/plain": [
       "[[84.0, 90.0, 96.0], [201.0, 216.0, 231.0], [318.0, 342.0, 366.0]]"
      ]
     },
     "execution_count": 26,
     "metadata": {},
     "output_type": "execute_result"
    }
   ],
   "source": [
    "M = Array([[1,2,3],[4,5,6],[7,8,9]]) * Array([[10,11,12],[13,14,15],[16,17,18]])\n",
    "M.data"
   ]
  },
  {
   "cell_type": "code",
   "execution_count": 27,
   "metadata": {},
   "outputs": [
    {
     "data": {
      "text/plain": [
       "[[84.0, 90.0], [201.0, 216.0], [318.0, 342.0]]"
      ]
     },
     "execution_count": 27,
     "metadata": {},
     "output_type": "execute_result"
    }
   ],
   "source": [
    "N = Array([[1,2,3],[4,5,6],[7,8,9]]) * Array([[10,11],[13,14],[16,17]])\n",
    "N.data"
   ]
  },
  {
   "cell_type": "code",
   "execution_count": 28,
   "metadata": {},
   "outputs": [
    {
     "data": {
      "text/plain": [
       "[[3, 4, 5], [6, 7, 8], [9, 10, 11]]"
      ]
     },
     "execution_count": 28,
     "metadata": {},
     "output_type": "execute_result"
    }
   ],
   "source": [
    "O = 2 * Array([[1,2,3],[4,5,6],[7,8,9]])\n",
    "O.data"
   ]
  },
  {
   "cell_type": "markdown",
   "metadata": {},
   "source": [
    "## Multiplicación de matriz Array y Vector (clase)"
   ]
  },
  {
   "cell_type": "code",
   "execution_count": 29,
   "metadata": {},
   "outputs": [
    {
     "data": {
      "text/plain": [
       "[[20.0], [47.0], [74.0]]"
      ]
     },
     "execution_count": 29,
     "metadata": {},
     "output_type": "execute_result"
    }
   ],
   "source": [
    "P = Array([[1,2,3],[4,5,6],[7,8,9]]) *  Vector([2,3,4])\n",
    "P.data"
   ]
  },
  {
   "cell_type": "code",
   "execution_count": 41,
   "metadata": {},
   "outputs": [
    {
     "data": {
      "text/plain": [
       "[[34.0, 51.0, 85.0], [118.0, 177.0, 295.0], [52.0, 78.0, 130.0]]"
      ]
     },
     "execution_count": 41,
     "metadata": {},
     "output_type": "execute_result"
    }
   ],
   "source": [
    "X =  Vector([17, 59, 26]) *  Array ([[2,3,5]])\n",
    "X.data"
   ]
  },
  {
   "cell_type": "code",
   "execution_count": null,
   "metadata": {
    "collapsed": true
   },
   "outputs": [],
   "source": []
  }
 ],
 "metadata": {
  "kernelspec": {
   "display_name": "Python 3",
   "language": "python",
   "name": "python3"
  },
  "language_info": {
   "codemirror_mode": {
    "name": "ipython",
    "version": 3
   },
   "file_extension": ".py",
   "mimetype": "text/x-python",
   "name": "python",
   "nbconvert_exporter": "python",
   "pygments_lexer": "ipython3",
   "version": "3.6.1"
  }
 },
 "nbformat": 4,
 "nbformat_minor": 2
}
