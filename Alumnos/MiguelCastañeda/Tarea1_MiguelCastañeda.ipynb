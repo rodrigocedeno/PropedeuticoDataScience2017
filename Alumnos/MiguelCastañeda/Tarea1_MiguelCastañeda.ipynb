{
 "cells": [
  {
   "cell_type": "markdown",
   "metadata": {},
   "source": [
    "## Tarea 1\n",
    "## Nombre: Miguel Rodrigo Castañeda Santiago\n",
    "## 175840\n",
    "### Clase: Array\n",
    "### Descripción: Clase para algebra lineal\n"
   ]
  },
  {
   "cell_type": "code",
   "execution_count": 1,
   "metadata": {
    "collapsed": true
   },
   "outputs": [],
   "source": [
    "class Array:\n",
    "    def __init__(self, list_of_rows):\n",
    "        \"Constructor y validador\"\n",
    "        # obtener dimensiones\n",
    "        self.data = list_of_rows\n",
    "        nrow = len(list_of_rows)\n",
    "        #  ___caso vector: redimensionar correctamente\n",
    "        if not isinstance(list_of_rows[0], list):\n",
    "            nrow = 1\n",
    "            self.data = [[x] for x in list_of_rows]\n",
    "        # ahora las columnas deben estar bien aunque sea un vector\n",
    "        ncol = len(self.data[0])\n",
    "        self.shape = (nrow, ncol)\n",
    "        # validar tamano correcto de filas\n",
    "        if any([len(r) != ncol for r in self.data]):\n",
    "            raise Exception(\"Las filas deben ser del mismo tamano\")\n",
    "        for r in range(nrow):\n",
    "            for c in range(ncol):\n",
    "                if not isinstance(self.data[r][c],(int, float, complex)):\n",
    "                    raise Exception(\"Los valores deben ser numéricos\")\n",
    "\n",
    "    def __add__(self, other):\n",
    "        \"Suma de matrices\"\n",
    "        if isinstance(other, Array):\n",
    "            if self.shape != other.shape:\n",
    "                raise Exception(\"Las dimensiones son distintas!\")\n",
    "            rows, cols = self.shape\n",
    "            newArray = Array([[0. for c in range(cols)] for r in range(rows)])\n",
    "            for r in range(rows):\n",
    "                for c in range(cols):\n",
    "                    newArray.data[r][c] = self.data[r][c] + other.data[r][c]\n",
    "            return newArray\n",
    "        elif isinstance(other, (int, float, complex)): # en caso de que el lado derecho sea solo un numero\n",
    "            rows, cols = self.shape\n",
    "            newArray = Array([[0. for c in range(cols)] for r in range(rows)])\n",
    "            for r in range(rows):\n",
    "                for c in range(cols):\n",
    "                    newArray.data[r][c] = self.data[r][c] + other\n",
    "            return newArray\n",
    "        else:\n",
    "            return NotImplemented # es un tipo de error particular usado en estos metodos\n",
    "\n",
    "    def __mul__(self, other):\n",
    "        if isinstance(other, (int,float, complex)): # Multiplicacion escalar\n",
    "            rows, cols = self.shape\n",
    "            newArray = Array.zeros(self.shape)\n",
    "            for r in range(rows):\n",
    "                for c in range(cols):\n",
    "                    newArray.data[r][c] = self.data[r][c] * other\n",
    "            return newArray\n",
    "        if isinstance(other, Array):\n",
    "            rows, cols = self.shape\n",
    "            rowsOther, colsOther = other.shape\n",
    "            if cols != rowsOther:\n",
    "                raise Exception (\"Las matrices no se pueden multiplicar\")\n",
    "            newArray = Array.zeros((rows,colsOther))\n",
    "            for i in range(rows):\n",
    "                for j in range(colsOther):\n",
    "                    for k in range(cols):\n",
    "                        newArray.data[i][j] += self.data[i][k] * other.data[k][j]\n",
    "            return newArray\n",
    "        else:\n",
    "            return NotImplemented\n",
    "\n",
    "    def __rmul__(self, other):\n",
    "        return self.__mul__(other)\n",
    "\n",
    "    def __sub__(self, other):\n",
    "        \"Resta de matrices\"\n",
    "        if isinstance(other, Array):\n",
    "            if self.shape != other.shape:\n",
    "                raise Exception(\"Las dimensiones son distintas!\")\n",
    "            rows, cols = self.shape\n",
    "            newArray = Array([[0. for c in range(cols)] for r in range(rows)])\n",
    "            for r in range(rows):\n",
    "                for c in range(cols):\n",
    "                    newArray.data[r][c] = self.data[r][c] - other.data[r][c]\n",
    "            return newArray\n",
    "        elif isinstance(other, (int, float, complex)):\n",
    "            rows, cols = self.shape\n",
    "            newArray = Array([[0. for c in range(cols)] for r in range(rows)])\n",
    "            for r in range(rows):\n",
    "                for c in range(cols):\n",
    "                    newArray.data[r][c] = self.data[r][c] - other\n",
    "            return newArray\n",
    "        else:\n",
    "            return NotImplemented\n",
    "\n",
    "    def __radd__(self, other):\n",
    "        return self.__add__(other)\n",
    "\n",
    "    def __rsub__(self, other):\n",
    "        return self.__sub__(other)\n",
    "\n",
    "    def __repr__(self):\n",
    "        return self.__class__.__name__ + \"(\" + self.__str__() + \")\"\n",
    "\n",
    "    def __str__(self):\n",
    "        rows, cols = self.shape\n",
    "        resultado = \"\"\n",
    "        if rows > 1:\n",
    "            resultado += \"[\"\n",
    "        for r in range(rows):\n",
    "            resultado += \"[\"\n",
    "            for c in range(cols):\n",
    "                resultado += str(self.data[r][c]) + \" \"\n",
    "            if r + 1 == rows:\n",
    "                resultado += \"]\"\n",
    "            else:\n",
    "                resultado += \"]\\n\"\n",
    "        if rows > 1:\n",
    "            resultado += \"]\"\n",
    "        return resultado\n",
    "\n",
    "    def __getitem__(self, idx):\n",
    "        return self.data[idx[0]][idx[1]]\n",
    "\n",
    "    def __setitem__(self, idx, new_value):\n",
    "        self.data[idx[0]][idx[1]] = new_value\n",
    "\n",
    "    def zeros(shape):\n",
    "        if not isinstance(shape,tuple):\n",
    "            raise \"Error en el tipo de dato\"\n",
    "        if len(shape) != 2:\n",
    "            raise \"Debe tener la forma (nrow, ncol) \"\n",
    "        nrow, ncol  = shape[0], shape[1]\n",
    "        newArray = Array([[0. for c in range(ncol)] for r in range(nrow)])\n",
    "        return newArray\n",
    "\n",
    "    def eye(n):\n",
    "        nrow, ncol = n,n\n",
    "        shape = (n,n)\n",
    "        newArray = Array.zeros(shape)\n",
    "        for r in range(nrow):\n",
    "            for c in range(ncol):\n",
    "                if r == c:\n",
    "                    newArray[r,c] = 1.\n",
    "        return newArray\n",
    "\n",
    "    def transpose(self):\n",
    "        nrow , ncol = self.shape\n",
    "        newArray = Array.zeros((ncol,nrow))\n",
    "        for r in range(nrow):\n",
    "            for c in range(ncol):\n",
    "                newArray[c,r] = self.data[r][c]\n",
    "        return newArray\n",
    "\n",
    "    def forward_subs(L,b):\n",
    "        rows,cols = L.shape\n",
    "        if rows != cols:\n",
    "            raise Exception(\"La matriz L debe ser cuadrada ...\")\n",
    "\n",
    "        rowb, colb = b.shape\n",
    "        if colb != 1:\n",
    "            raise Exception(\"No implementada la funcion de resolver más de un vector a la vez ...\")\n",
    "\n",
    "        n = rows\n",
    "        for i in range(n - 2):\n",
    "            for j in range(1,n):\n",
    "                if L[i,j] != 0:\n",
    "                    raise Exception(\"La matriz no es de la forma triangular inferior ...\")\n",
    "\n",
    "        x = Array.zeros((rowb,colb))\n",
    "\n",
    "        for m in range(rowb):\n",
    "            valor = 0.\n",
    "            for i in range(0,m):\n",
    "                valor += L[m,i] * x[i,0]\n",
    "            x[m,0] = (b[m,0] - valor)/L[m,m]\n",
    "\n",
    "        return x\n",
    "\n",
    "    def backward_subs(U,b):\n",
    "        rows, cols = U.shape\n",
    "        if rows != cols:\n",
    "            raise Exception(\"La matriz L debe ser cuadrada ...\")\n",
    "\n",
    "        rowb, colb = b.shape\n",
    "        if colb != 1:\n",
    "            raise Exception(\"No implementada la funcion de resolver más de un vector a la vez ...\")\n",
    "\n",
    "        n = rows\n",
    "        for i in range(1, n  ):\n",
    "            for j in range(0, n - 2):\n",
    "                if U[i, j] != 0:\n",
    "                    raise Exception(\"La matriz no es de la forma triangular superior ...\")\n",
    "\n",
    "        x = Array.zeros((rowb, colb))\n",
    "\n",
    "        for m in range(rowb -1 ,-1,-1):\n",
    "            valor = 0.\n",
    "            for i in range(m+1, rowb):\n",
    "                valor += U[m, i] * x[i, 0]\n",
    "            x[m, 0] = (b[m, 0] - valor) / U[m, m]\n",
    "\n",
    "        return x\n",
    "\n",
    "    def pivot(self):\n",
    "        rows, cols = self.shape\n",
    "        newArray = Array.eye(rows)\n",
    "\n",
    "        for j in range(rows):\n",
    "            row = max(range(j, rows), key=lambda i: abs(self[i,j]))\n",
    "\n",
    "            if j != row:\n",
    "                for z in range(cols):\n",
    "                    newArray[j, z], newArray[row, z] = newArray[row, z], newArray[j, z]\n",
    "        return newArray\n",
    "\n",
    "    def LU(self):\n",
    "        # Doolittle algorithm\n",
    "        rows, cols = self.shape\n",
    "        if rows != cols:\n",
    "            raise Exception(\"La matriz debe ser cuadrada ....\")\n",
    "        n = rows\n",
    "\n",
    "        L = Array.zeros(self.shape)\n",
    "        U = Array.zeros(self.shape)\n",
    "\n",
    "        P = self.pivot()\n",
    "        PA = P * self\n",
    "\n",
    "\n",
    "        for j in range(n):\n",
    "            L[j,j] = 1.0\n",
    "\n",
    "            for i in range(j + 1):\n",
    "                s1 = sum(U[k,j] * L[i,k] for k in range(i))\n",
    "                U[i,j] = PA[i,j] - s1\n",
    "            for i in range(j, n):\n",
    "                s2 = sum(U[k,j] * L[i,k] for k in range(j))\n",
    "                L[i,j] = (PA[i,j] - s2) / U[j,j]\n",
    "\n",
    "        return (P, L, U)\n",
    "\n",
    "    def lu_linsolve(A,b):\n",
    "        P,L,U = A.LU()\n",
    "        y = L.forward_subs(P * b)\n",
    "        x = U.backward_subs(y)\n",
    "        return x\n",
    "\n",
    "    def imprimeFormatoWolfram(self):\n",
    "        # imprime con formato de matrices Wolfram para comprobación\n",
    "        rows, cols = self.shape\n",
    "        resultado = \"\"\n",
    "        if rows > 1:\n",
    "            resultado += \"{\"\n",
    "        for r in range(rows):\n",
    "            resultado += \"{\"\n",
    "            for c in range(cols):\n",
    "                if c < cols - 1:\n",
    "                    resultado += str(self.data[r][c]) + \" , \"\n",
    "                else:\n",
    "                    resultado += str(self.data[r][c]) + \"  \"\n",
    "            if r + 1 == rows:\n",
    "                resultado += \"}\"\n",
    "            else:\n",
    "                resultado += \"},\\n\"\n",
    "        if rows > 1:\n",
    "            resultado += \"}\"\n",
    "        print(resultado)\n",
    "\n",
    "# Clase Vector\n",
    "#\n",
    "class Vector(Array):\n",
    "    def __init__(self, list_of_numbers):\n",
    "        self.vdata = list_of_numbers\n",
    "        list_of_rows = [[x] for x in list_of_numbers]\n",
    "        return Array.__init__(self, list_of_rows)\n",
    "\n",
    "    def __repr__(self):\n",
    "        return \"Vector(\" + str(self.vdata) + \")\"\n",
    "\n",
    "    def __str__(self):\n",
    "        return str(self.vdata)\n",
    "\n",
    "    def __add__(self, other):\n",
    "        new_arr = Array.__add__(self, other)\n",
    "        return Vector([x[0] for x in new_arr.data])\n",
    "\n",
    "    def __radd__(self, other):\n",
    "        new_arr = Array.__add__(self, other)\n",
    "        return Vector([x[0] for x in new_arr.data])\n",
    "\n"
   ]
  },
  {
   "cell_type": "markdown",
   "metadata": {},
   "source": [
    "# Actividades\n",
    "### 1. Un metodo para imprimir mejor..."
   ]
  },
  {
   "cell_type": "code",
   "execution_count": 6,
   "metadata": {},
   "outputs": [
    {
     "name": "stdout",
     "output_type": "stream",
     "text": [
      "Método para imprimir mejor\n",
      "[[-1 0 -5 ]\n",
      "[3 1 3 ]\n",
      "[1 1 1 ]]\n"
     ]
    }
   ],
   "source": [
    "print(\"Método para imprimir mejor\")\n",
    "A = Array([[-1,0,-5],[3,1,3],[1,1,1]])\n",
    "print(A)\n"
   ]
  },
  {
   "cell_type": "code",
   "execution_count": 7,
   "metadata": {},
   "outputs": [
    {
     "data": {
      "text/plain": [
       "Array([[-1 0 -5 ]\n",
       "[3 1 3 ]\n",
       "[1 1 1 ]])"
      ]
     },
     "execution_count": 7,
     "metadata": {},
     "output_type": "execute_result"
    }
   ],
   "source": [
    "A"
   ]
  },
  {
   "cell_type": "markdown",
   "metadata": {},
   "source": [
    "### 2. Validador\n",
    "Los valores deben ser numéricos, debe marcar error si se ingresa una letra"
   ]
  },
  {
   "cell_type": "code",
   "execution_count": 8,
   "metadata": {},
   "outputs": [
    {
     "ename": "Exception",
     "evalue": "Los valores deben ser numéricos",
     "output_type": "error",
     "traceback": [
      "\u001b[0;31m---------------------------------------------------------------------------\u001b[0m",
      "\u001b[0;31mException\u001b[0m                                 Traceback (most recent call last)",
      "\u001b[0;32m<ipython-input-8-f5dae7bfcd32>\u001b[0m in \u001b[0;36m<module>\u001b[0;34m()\u001b[0m\n\u001b[0;32m----> 1\u001b[0;31m \u001b[0mA\u001b[0m \u001b[0;34m=\u001b[0m \u001b[0mArray\u001b[0m\u001b[0;34m(\u001b[0m\u001b[0;34m[\u001b[0m\u001b[0;34m[\u001b[0m\u001b[0;34m'a'\u001b[0m\u001b[0;34m,\u001b[0m\u001b[0;36m1\u001b[0m\u001b[0;34m,\u001b[0m\u001b[0;36m2\u001b[0m\u001b[0;34m]\u001b[0m\u001b[0;34m,\u001b[0m\u001b[0;34m[\u001b[0m\u001b[0;36m1\u001b[0m\u001b[0;34m,\u001b[0m\u001b[0;34m-\u001b[0m\u001b[0;36m2\u001b[0m\u001b[0;34m,\u001b[0m\u001b[0;36m1\u001b[0m\u001b[0;34m]\u001b[0m\u001b[0;34m,\u001b[0m\u001b[0;34m[\u001b[0m\u001b[0;34m-\u001b[0m\u001b[0;36m2\u001b[0m\u001b[0;34m,\u001b[0m\u001b[0;36m2\u001b[0m\u001b[0;34m,\u001b[0m\u001b[0;36m1\u001b[0m\u001b[0;34m]\u001b[0m\u001b[0;34m]\u001b[0m\u001b[0;34m)\u001b[0m\u001b[0;34m\u001b[0m\u001b[0m\n\u001b[0m",
      "\u001b[0;32m<ipython-input-1-84211876ecfb>\u001b[0m in \u001b[0;36m__init__\u001b[0;34m(self, list_of_rows)\u001b[0m\n\u001b[1;32m     18\u001b[0m             \u001b[0;32mfor\u001b[0m \u001b[0mc\u001b[0m \u001b[0;32min\u001b[0m \u001b[0mrange\u001b[0m\u001b[0;34m(\u001b[0m\u001b[0mncol\u001b[0m\u001b[0;34m)\u001b[0m\u001b[0;34m:\u001b[0m\u001b[0;34m\u001b[0m\u001b[0m\n\u001b[1;32m     19\u001b[0m                 \u001b[0;32mif\u001b[0m \u001b[0;32mnot\u001b[0m \u001b[0misinstance\u001b[0m\u001b[0;34m(\u001b[0m\u001b[0mself\u001b[0m\u001b[0;34m.\u001b[0m\u001b[0mdata\u001b[0m\u001b[0;34m[\u001b[0m\u001b[0mr\u001b[0m\u001b[0;34m]\u001b[0m\u001b[0;34m[\u001b[0m\u001b[0mc\u001b[0m\u001b[0;34m]\u001b[0m\u001b[0;34m,\u001b[0m\u001b[0;34m(\u001b[0m\u001b[0mint\u001b[0m\u001b[0;34m,\u001b[0m \u001b[0mfloat\u001b[0m\u001b[0;34m,\u001b[0m \u001b[0mcomplex\u001b[0m\u001b[0;34m)\u001b[0m\u001b[0;34m)\u001b[0m\u001b[0;34m:\u001b[0m\u001b[0;34m\u001b[0m\u001b[0m\n\u001b[0;32m---> 20\u001b[0;31m                     \u001b[0;32mraise\u001b[0m \u001b[0mException\u001b[0m\u001b[0;34m(\u001b[0m\u001b[0;34m\"Los valores deben ser numéricos\"\u001b[0m\u001b[0;34m)\u001b[0m\u001b[0;34m\u001b[0m\u001b[0m\n\u001b[0m\u001b[1;32m     21\u001b[0m \u001b[0;34m\u001b[0m\u001b[0m\n\u001b[1;32m     22\u001b[0m     \u001b[0;32mdef\u001b[0m \u001b[0m__add__\u001b[0m\u001b[0;34m(\u001b[0m\u001b[0mself\u001b[0m\u001b[0;34m,\u001b[0m \u001b[0mother\u001b[0m\u001b[0;34m)\u001b[0m\u001b[0;34m:\u001b[0m\u001b[0;34m\u001b[0m\u001b[0m\n",
      "\u001b[0;31mException\u001b[0m: Los valores deben ser numéricos"
     ]
    }
   ],
   "source": [
    "A = Array([['a',1,2],[1,-2,1],[-2,2,1]])"
   ]
  },
  {
   "cell_type": "markdown",
   "metadata": {},
   "source": [
    "### 3. Indexing and Item assignment"
   ]
  },
  {
   "cell_type": "code",
   "execution_count": 11,
   "metadata": {},
   "outputs": [
    {
     "name": "stdout",
     "output_type": "stream",
     "text": [
      "Método para obtener y asignar un valor de la matriz\n",
      "[[-1 0 -5 ]\n",
      "[3 1 3 ]\n",
      "[1 1 1 ]]\n",
      "\n",
      " se cambia el valor (1,1) a -10 \n",
      "[[-1 0 -5 ]\n",
      "[3 -10 3 ]\n",
      "[1 1 1 ]]\n",
      "Valor A[1,1] = -10\n"
     ]
    }
   ],
   "source": [
    "print(\"Método para obtener y asignar un valor de la matriz\")\n",
    "A = Array([[-1,0,-5],[3,1,3],[1,1,1]])\n",
    "print(A)\n",
    "print(\"\\n se cambia el valor (1,1) a -10 \")\n",
    "A[1,1]=-10\n",
    "print(A)\n",
    "print(\"Valor A[1,1] = \" + str(A[1,1]))"
   ]
  },
  {
   "cell_type": "markdown",
   "metadata": {},
   "source": [
    "### 4. Iniciar una matriz en ceros y generar la matriz identidad"
   ]
  },
  {
   "cell_type": "code",
   "execution_count": 13,
   "metadata": {},
   "outputs": [
    {
     "name": "stdout",
     "output_type": "stream",
     "text": [
      "Iniciar una matriz en ceros\n",
      "[[0.0 0.0 0.0 ]\n",
      "[0.0 0.0 0.0 ]\n",
      "[0.0 0.0 0.0 ]]\n"
     ]
    }
   ],
   "source": [
    "print(\"Iniciar una matriz en ceros\")\n",
    "Z = Array.zeros((3,3))\n",
    "print(Z)\n"
   ]
  },
  {
   "cell_type": "code",
   "execution_count": 14,
   "metadata": {},
   "outputs": [
    {
     "name": "stdout",
     "output_type": "stream",
     "text": [
      "Iniciar una matriz identidad\n",
      "[[1.0 0.0 0.0 ]\n",
      "[0.0 1.0 0.0 ]\n",
      "[0.0 0.0 1.0 ]]\n"
     ]
    }
   ],
   "source": [
    "print(\"Iniciar una matriz identidad\")\n",
    "Z = Array.eye(3)\n",
    "print(Z)"
   ]
  },
  {
   "cell_type": "markdown",
   "metadata": {},
   "source": [
    "### 5. Transpuesta"
   ]
  },
  {
   "cell_type": "code",
   "execution_count": 15,
   "metadata": {},
   "outputs": [
    {
     "name": "stdout",
     "output_type": "stream",
     "text": [
      "A:\n",
      "[[-1 0 -5 ]\n",
      "[3 1 3 ]\n",
      "[1 1 1 ]]\n",
      "A Transpuesta \n",
      "[[-1 3 1 ]\n",
      "[0 1 1 ]\n",
      "[-5 3 1 ]]\n"
     ]
    }
   ],
   "source": [
    "A = Array([[-1,0,-5],[3,1,3],[1,1,1]])\n",
    "print(\"A:\")\n",
    "print(A)\n",
    "At = A.transpose()\n",
    "print(\"A Transpuesta \")\n",
    "print(At)"
   ]
  },
  {
   "cell_type": "markdown",
   "metadata": {},
   "source": [
    "### 6. Suma"
   ]
  },
  {
   "cell_type": "code",
   "execution_count": 17,
   "metadata": {},
   "outputs": [
    {
     "name": "stdout",
     "output_type": "stream",
     "text": [
      "A:\n",
      "[[-1 0 -5 ]\n",
      "[3 1 3 ]\n",
      "[1 1 1 ]]\n",
      "B:\n",
      "[[1 2 6 ]\n",
      "[3 2 1 ]\n",
      "[-3 -2 1 ]]\n",
      "Suma C = A + B\n",
      "[[0 2 1 ]\n",
      "[6 3 4 ]\n",
      "[-2 -1 2 ]]\n"
     ]
    }
   ],
   "source": [
    "A = Array([[-1,0,-5],[3,1,3],[1,1,1]])\n",
    "B = Array([[1,2,6],[3,2,1],[-3,-2,1]])\n",
    "print(\"A:\")\n",
    "print(A)\n",
    "print(\"B:\")\n",
    "print(B)\n",
    "C = A + B\n",
    "print(\"Suma C = A + B\")\n",
    "print(C)"
   ]
  },
  {
   "cell_type": "markdown",
   "metadata": {},
   "source": [
    "### 7. Multiplicación matricial"
   ]
  },
  {
   "cell_type": "code",
   "execution_count": 18,
   "metadata": {},
   "outputs": [
    {
     "name": "stdout",
     "output_type": "stream",
     "text": [
      "Multiplicacion A x B\n",
      "[[14.0 8.0 -11.0 ]\n",
      "[-3.0 2.0 22.0 ]\n",
      "[1.0 2.0 8.0 ]]\n",
      "Multiplicacion por escalar de la forma C = z x C\n",
      "[[-2 0 -10 ]\n",
      "[6 2 6 ]\n",
      "[2 2 2 ]]\n",
      "Multiplicacion por escalar de la forma C = C * z\n",
      "[[-2 0 -10 ]\n",
      "[6 2 6 ]\n",
      "[2 2 2 ]]\n"
     ]
    }
   ],
   "source": [
    "A = Array([[-1,0,-5],[3,1,3],[1,1,1]])\n",
    "B = Array([[1,2,6],[3,2,1],[-3,-2,1]])\n",
    "valor = -3;\n",
    "\n",
    "C = A * B\n",
    "print(\"Multiplicacion A x B\")\n",
    "print(C)\n",
    "print(\"Multiplicacion por escalar de la forma C = z x C\")\n",
    "C = 2 * A\n",
    "print(C)\n",
    "\n",
    "print(\"Multiplicacion por escalar de la forma C = C * z\")\n",
    "C = A * 2\n",
    "print(C)"
   ]
  },
  {
   "cell_type": "markdown",
   "metadata": {},
   "source": [
    "### 8. Forward substitution, la matriz debe ser de la forma triangular inferior L"
   ]
  },
  {
   "cell_type": "code",
   "execution_count": 22,
   "metadata": {},
   "outputs": [
    {
     "name": "stdout",
     "output_type": "stream",
     "text": [
      "Forward substitution \n",
      "A:\n",
      "[[-1 0 0 ]\n",
      "[-3 1 0 ]\n",
      "[1 -2 1 ]]\n",
      "y:\n",
      "[[1 ]\n",
      "[-2 ]\n",
      "[-3 ]]\n",
      "Resultado x:\n",
      "[[-1.0 ]\n",
      "[-5.0 ]\n",
      "[-12.0 ]]\n"
     ]
    }
   ],
   "source": [
    "print(\"Forward substitution \")\n",
    "A = Array([[-1,0,0],[-3,1,0],[1,-2,1]])\n",
    "y = Array([[1],[-2],[-3]])\n",
    "print(\"A:\")\n",
    "print(A)\n",
    "print(\"y:\")\n",
    "print(y)\n",
    "print(\"Resultado x:\")\n",
    "print(A.forward_subs(y))"
   ]
  },
  {
   "cell_type": "markdown",
   "metadata": {},
   "source": [
    "### 9. Back substitution, la matriz debe ser de la forma triangular superior U "
   ]
  },
  {
   "cell_type": "code",
   "execution_count": 24,
   "metadata": {},
   "outputs": [
    {
     "name": "stdout",
     "output_type": "stream",
     "text": [
      "back substitution \n",
      "A:\n",
      "[[1 -1 2 ]\n",
      "[0 1 -3 ]\n",
      "[0 0 1 ]]\n",
      "y:\n",
      "[[1 ]\n",
      "[-2 ]\n",
      "[-3 ]]\n",
      "Resultado x:\n",
      "[[-4.0 ]\n",
      "[-11.0 ]\n",
      "[-3.0 ]]\n"
     ]
    }
   ],
   "source": [
    "print(\"back substitution \")\n",
    "A = Array([[1,-1,2],[0,1,-3],[0,0,1]])\n",
    "y = Array([[1],[-2],[-3]])\n",
    "print(\"A:\")\n",
    "print(A)\n",
    "print(\"y:\")\n",
    "print(y)\n",
    "print(\"Resultado x:\")\n",
    "print(A.backward_subs(y))\n"
   ]
  },
  {
   "cell_type": "markdown",
   "metadata": {},
   "source": [
    "### 10. Funcion LU, regresa tres matrices L, U, P tales que PA = LU, se utiliza el algoritmo Doolitte "
   ]
  },
  {
   "cell_type": "code",
   "execution_count": 25,
   "metadata": {},
   "outputs": [
    {
     "name": "stdout",
     "output_type": "stream",
     "text": [
      "Factorizacion LU ...\n",
      "[[1 3 5 ]\n",
      "[2 4 7 ]\n",
      "[1 1 0 ]]\n",
      "\n",
      "\n",
      "P:\n",
      "[[0.0 1.0 0.0 ]\n",
      "[1.0 0.0 0.0 ]\n",
      "[0.0 0.0 1.0 ]]\n",
      "L:\n",
      "[[1.0 0.0 0.0 ]\n",
      "[0.5 1.0 0.0 ]\n",
      "[0.5 -1.0 1.0 ]]\n",
      "U:\n",
      "[[2.0 4.0 7.0 ]\n",
      "[0.0 1.0 1.5 ]\n",
      "[0.0 0.0 -2.0 ]]\n"
     ]
    }
   ],
   "source": [
    "print(\"Factorizacion LU ...\")\n",
    "A = Array([[1,3,5],[2,4,7],[1,1,0]])\n",
    "print(A)\n",
    "print(\"\\n\")\n",
    "P,L,U = A.LU()\n",
    "print(\"P:\")\n",
    "print(P)\n",
    "print(\"L:\")\n",
    "print(L)\n",
    "print(\"U:\")\n",
    "print(U)"
   ]
  },
  {
   "cell_type": "markdown",
   "metadata": {},
   "source": [
    "### Comprobación haciendo PA = LU "
   ]
  },
  {
   "cell_type": "code",
   "execution_count": 26,
   "metadata": {},
   "outputs": [
    {
     "name": "stdout",
     "output_type": "stream",
     "text": [
      "PA\n",
      "[[2.0 4.0 7.0 ]\n",
      "[1.0 3.0 5.0 ]\n",
      "[1.0 1.0 0.0 ]]\n",
      "LU\n",
      "[[2.0 4.0 7.0 ]\n",
      "[1.0 3.0 5.0 ]\n",
      "[1.0 1.0 0.0 ]]\n"
     ]
    }
   ],
   "source": [
    "print(\"PA\")\n",
    "print(P*A)\n",
    "print(\"LU\")\n",
    "print(L*U)"
   ]
  },
  {
   "cell_type": "markdown",
   "metadata": {},
   "source": [
    "### 11 Función lu_linsolve, utilizando el resultado de 10. \n",
    "##### se resuelve primero  Ly = Pb \n",
    "##### luego se resuelve \n",
    "##### Ux = y "
   ]
  },
  {
   "cell_type": "code",
   "execution_count": 27,
   "metadata": {},
   "outputs": [
    {
     "name": "stdout",
     "output_type": "stream",
     "text": [
      "Resolver sistema de ecuaciones \n",
      "A:\n",
      "[[-2 -1 1 ]\n",
      "[-3 1 1 ]\n",
      "[2 1 3 ]]\n",
      "b:\n",
      "[[1 ]\n",
      "[4 ]\n",
      "[-1 ]]\n",
      "Resultado: \n",
      "[[-1.0 ]\n",
      "[1.0 ]\n",
      "[0.0 ]]\n"
     ]
    }
   ],
   "source": [
    "print(\"Resolver sistema de ecuaciones \")\n",
    "A = Array([[-2,-1,1],[-3,1,1],[2,1,3]])\n",
    "b = Array([[1],[4],[-1]])\n",
    "print(\"A:\")\n",
    "print(A)\n",
    "print(\"b:\")\n",
    "print(b)\n",
    "y = Array.lu_linsolve(A,b)\n",
    "print(\"Resultado: \")\n",
    "print(y)"
   ]
  },
  {
   "cell_type": "code",
   "execution_count": null,
   "metadata": {
    "collapsed": true
   },
   "outputs": [],
   "source": []
  }
 ],
 "metadata": {
  "kernelspec": {
   "display_name": "Python 3",
   "language": "python",
   "name": "python3"
  },
  "language_info": {
   "codemirror_mode": {
    "name": "ipython",
    "version": 3
   },
   "file_extension": ".py",
   "mimetype": "text/x-python",
   "name": "python",
   "nbconvert_exporter": "python",
   "pygments_lexer": "ipython3",
   "version": "3.5.2"
  }
 },
 "nbformat": 4,
 "nbformat_minor": 2
}
