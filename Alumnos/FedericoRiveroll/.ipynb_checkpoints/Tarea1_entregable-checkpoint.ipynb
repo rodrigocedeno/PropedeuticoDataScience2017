{
 "cells": [
  {
   "cell_type": "markdown",
   "metadata": {},
   "source": [
    "# TAREA 1\n",
    "## Federico Riveroll Gonzalez 105898"
   ]
  },
  {
   "cell_type": "markdown",
   "metadata": {},
   "source": [
    "### Clase Array"
   ]
  },
  {
   "cell_type": "code",
   "execution_count": 1,
   "metadata": {
    "collapsed": true
   },
   "outputs": [],
   "source": [
    "import numpy as np\n",
    "class Array:\n",
    "    \"Una clase minima de Algebra lineal\"\n",
    "    def __init__(self, list_of_rows): \n",
    "        \"Constructor y validador\"\n",
    "        # obtener dimensiones\n",
    "        self.data = list_of_rows\n",
    "        nrow = len(list_of_rows)\n",
    "        #  ___caso vector: redimensionar correctamente\n",
    "        if not isinstance(list_of_rows[0], list):\n",
    "            nrow = 1\n",
    "            self.data = [[x] for x in list_of_rows]\n",
    "        # ahora las columnas deben estar bien aunque sea un vector\n",
    "        ncol = len(self.data[0])\n",
    "        self.shape = (nrow, ncol)\n",
    "        # validar tamano correcto de filas\n",
    "        if any([len(r) != ncol for r in self.data]):\n",
    "            raise Exception(\"Las filas deben ser del mismo tamano\")\n",
    "    \n",
    "    def __repr__(self):\n",
    "        respuesta = \"[\"\n",
    "        for i in range(0,len(self.data)):\n",
    "            respuesta = respuesta + \"[\"\n",
    "            for j in range (0,len(self.data[0])):\n",
    "                respuesta = respuesta + str(self.data[i][j])\n",
    "                if j < len(self.data[0]) - 1:\n",
    "                    respuesta = respuesta + \",\"\n",
    "            respuesta = respuesta + \"]\"\n",
    "            if i < len(self.data) - 1:\n",
    "                respuesta = respuesta + \",\"\n",
    "        return respuesta + \"]\"\n",
    "    \n",
    "    def __str__(self):\n",
    "        respuesta = \"Array[\"\n",
    "        for i in range(0,len(self.data)):\n",
    "            respuesta = respuesta + \"[\"\n",
    "            for j in range (0,len(self.data[0])):\n",
    "                respuesta = respuesta + str(self.data[i][j])\n",
    "                if j < len(self.data[0]) - 1:\n",
    "                    respuesta = respuesta + \",\"\n",
    "            respuesta = respuesta + \"]\"\n",
    "            if i < len(self.data) - 1:\n",
    "                respuesta = respuesta + \",\"\n",
    "        return respuesta + \"]\"\n",
    "    \n",
    "    def __getitem__(self, idx):\n",
    "        return self.data[idx[0]][idx[1]]\n",
    "    \n",
    "    def __setitem__(self, idx, new_value):\n",
    "        self.data[idx[0]][idx[1]] = new_value\n",
    "    \n",
    "    def zeros(self, shape):\n",
    "        respuesta = [[0. for i in range(0, shape[0,0])] for j in range (0, shape[1,0])]\n",
    "        return respuesta\n",
    "    \n",
    "    def eye(self, n):\n",
    "        respuesta = list()\n",
    "        for i in range (0, n):\n",
    "            subrespuesta = list()\n",
    "            for j in range(0, n):\n",
    "                if j == i:\n",
    "                    subrespuesta.append(1,)\n",
    "                else:\n",
    "                    subrespuesta.append(0,)\n",
    "            respuesta.append(subrespuesta)\n",
    "        return respuesta\n",
    "    \n",
    "    def transpose(self):\n",
    "        respuesta = list()\n",
    "        for i in range(0, len(self.data[0])):\n",
    "            subrespuesta = list()\n",
    "            for j in range (0, len(self.data)):\n",
    "                subrespuesta.append(self.data[j][i])\n",
    "            respuesta.append(subrespuesta)\n",
    "        return Array(respuesta)\n",
    "    \n",
    "    def __add__(self, other):\n",
    "        \"Hora de sumar\"\n",
    "        if isinstance(other, Array):\n",
    "            if self.shape != other.shape:\n",
    "                raise Exception(\"Las dimensiones son distintas!\")\n",
    "            rows, cols = self.shape\n",
    "            newArray = Array([[0. for c in range(cols)] for r in range(rows)])\n",
    "            for r in range(rows):\n",
    "                for c in range(cols):\n",
    "                    newArray.data[r][c] = self.data[r][c] + other.data[r][c]\n",
    "            return newArray\n",
    "        elif isinstance(2, (int, float, complex)): # en caso de que el lado derecho sea solo un numero\n",
    "            rows, cols = self.shape\n",
    "            newArray = Array([[0. for c in range(cols)] for r in range(rows)])\n",
    "            for r in range(rows):\n",
    "                for c in range(cols):\n",
    "                    newArray.data[r][c] = self.data[r][c] + other\n",
    "            return newArray\n",
    "        else:\n",
    "            return NotImplemented # es un tipo de error particular usado en estos metodos\n",
    "        \n",
    "    def __sub__(self, other):\n",
    "        \"Hora de restar\"\n",
    "        if isinstance(other, Array):\n",
    "            if self.shape != other.shape:\n",
    "                raise Exception(\"Las dimensiones son distintas!\")\n",
    "            rows, cols = self.shape\n",
    "            newArray = Array([[0. for c in range(cols)] for r in range(rows)])\n",
    "            for r in range(rows):\n",
    "                for c in range(cols):\n",
    "                    newArray.data[r][c] = self.data[r][c] - other.data[r][c]\n",
    "            return newArray\n",
    "        elif isinstance(2, (int, float, complex)): # en caso de que el lado derecho sea solo un numero\n",
    "            rows, cols = self.shape\n",
    "            newArray = Array([[0. for c in range(cols)] for r in range(rows)])\n",
    "            for r in range(rows):\n",
    "                for c in range(cols):\n",
    "                    newArray.data[r][c] = self.data[r][c] - other\n",
    "            return newArray\n",
    "        else:\n",
    "            return NotImplemented # es un tipo de error particular usado en estos metodos\n",
    "        \n",
    "    def __radd__(self, other):\n",
    "        return self + other\n",
    "        \n",
    "    def __mul__(self, other):\n",
    "        if isinstance(other, Array):\n",
    "            if self.shape[0] != other.shape[1] | self.shape[1] != other.shape[0] :\n",
    "                raise Exception(\"Las dimensiones son incorrectas!\")\n",
    "            \n",
    "            rows, cols = self.shape\n",
    "            respuestaArr = Array([[0. for c in range(rows)] for r in range(rows)])\n",
    "            for iN in range(rows):\n",
    "                for jN in range (rows):\n",
    "                    sumatoria = 0\n",
    "                    for m in range (cols):\n",
    "                        sumatoria = sumatoria + self.data[iN][m] * other.data[m][jN]\n",
    "                    respuestaArr.data[iN][jN] = sumatoria\n",
    "            return respuestaArr\n",
    "        elif isinstance(2, (int, float, complex)): # en caso de que el lado derecho sea solo un numero\n",
    "            rows, cols = self.shape\n",
    "            newArray = Array([[0. for c in range(cols)] for r in range(rows)])\n",
    "            for r in range(rows):\n",
    "                for c in range(cols):\n",
    "                    newArray.data[r][c] = self.data[r][c] * other\n",
    "            return newArray\n",
    "        else:\n",
    "            return NotImplemented # es un tipo de error particular usado en estos metodos\n",
    "        \n",
    "         \n",
    "        \n",
    "    def __rmul__(self,other):\n",
    "        \"hacer rmul\""
   ]
  },
  {
   "cell_type": "markdown",
   "metadata": {},
   "source": [
    "### Prueba ejercicio 1"
   ]
  },
  {
   "cell_type": "code",
   "execution_count": 2,
   "metadata": {},
   "outputs": [
    {
     "data": {
      "text/plain": [
       "[[1,2,3],[4,5,6]]"
      ]
     },
     "execution_count": 2,
     "metadata": {},
     "output_type": "execute_result"
    }
   ],
   "source": [
    "A = Array([[1,2,3], [4,5,6]])\n",
    "A"
   ]
  },
  {
   "cell_type": "markdown",
   "metadata": {},
   "source": [
    "### Prueba ejercicio 2"
   ]
  },
  {
   "cell_type": "code",
   "execution_count": 3,
   "metadata": {},
   "outputs": [
    {
     "name": "stdout",
     "output_type": "stream",
     "text": [
      "Array[[1,8,3],[4,5,6]]\n"
     ]
    }
   ],
   "source": [
    "A[0,1] = 8\n",
    "print(A)"
   ]
  },
  {
   "cell_type": "markdown",
   "metadata": {},
   "source": [
    "### Prueba ejercicio 3"
   ]
  },
  {
   "cell_type": "code",
   "execution_count": 4,
   "metadata": {},
   "outputs": [
    {
     "data": {
      "text/plain": [
       "[[0.0, 0.0, 0.0, 0.0],\n",
       " [0.0, 0.0, 0.0, 0.0],\n",
       " [0.0, 0.0, 0.0, 0.0],\n",
       " [0.0, 0.0, 0.0, 0.0],\n",
       " [0.0, 0.0, 0.0, 0.0]]"
      ]
     },
     "execution_count": 4,
     "metadata": {},
     "output_type": "execute_result"
    }
   ],
   "source": [
    "A.zeros(Array([4,5]))"
   ]
  },
  {
   "cell_type": "code",
   "execution_count": 5,
   "metadata": {},
   "outputs": [
    {
     "data": {
      "text/plain": [
       "[[1, 0, 0, 0, 0],\n",
       " [0, 1, 0, 0, 0],\n",
       " [0, 0, 1, 0, 0],\n",
       " [0, 0, 0, 1, 0],\n",
       " [0, 0, 0, 0, 1]]"
      ]
     },
     "execution_count": 5,
     "metadata": {},
     "output_type": "execute_result"
    }
   ],
   "source": [
    "A.eye(5)"
   ]
  },
  {
   "cell_type": "markdown",
   "metadata": {},
   "source": [
    "### Prueba ejercicio 4"
   ]
  },
  {
   "cell_type": "code",
   "execution_count": 6,
   "metadata": {},
   "outputs": [
    {
     "data": {
      "text/plain": [
       "[[1,4],[8,5],[3,6]]"
      ]
     },
     "execution_count": 6,
     "metadata": {},
     "output_type": "execute_result"
    }
   ],
   "source": [
    "A.transpose()"
   ]
  },
  {
   "cell_type": "code",
   "execution_count": 7,
   "metadata": {},
   "outputs": [
    {
     "name": "stdout",
     "output_type": "stream",
     "text": [
      "Array[[1,8,3],[4,5,6]]\n"
     ]
    }
   ],
   "source": [
    "print(A)"
   ]
  },
  {
   "cell_type": "markdown",
   "metadata": {},
   "source": [
    "### Prueba ejercicio 5"
   ]
  },
  {
   "cell_type": "code",
   "execution_count": 8,
   "metadata": {},
   "outputs": [
    {
     "data": {
      "text/plain": [
       "[[3,11,7],[5,6,7]]"
      ]
     },
     "execution_count": 8,
     "metadata": {},
     "output_type": "execute_result"
    }
   ],
   "source": [
    "B = Array([[2,3,4], [1,1,1]])\n",
    "A + B"
   ]
  },
  {
   "cell_type": "code",
   "execution_count": 9,
   "metadata": {},
   "outputs": [
    {
     "data": {
      "text/plain": [
       "[[12,13,14],[11,11,11]]"
      ]
     },
     "execution_count": 9,
     "metadata": {},
     "output_type": "execute_result"
    }
   ],
   "source": [
    "B + 10"
   ]
  },
  {
   "cell_type": "code",
   "execution_count": 10,
   "metadata": {},
   "outputs": [
    {
     "data": {
      "text/plain": [
       "[[1,2,3],[0,0,0]]"
      ]
     },
     "execution_count": 10,
     "metadata": {},
     "output_type": "execute_result"
    }
   ],
   "source": [
    "B - 1"
   ]
  },
  {
   "cell_type": "code",
   "execution_count": 11,
   "metadata": {},
   "outputs": [
    {
     "data": {
      "text/plain": [
       "[[3,4,5],[2,2,2]]"
      ]
     },
     "execution_count": 11,
     "metadata": {},
     "output_type": "execute_result"
    }
   ],
   "source": [
    "1 + B"
   ]
  },
  {
   "cell_type": "markdown",
   "metadata": {},
   "source": [
    "### Prueba ejercicio 6"
   ]
  },
  {
   "cell_type": "code",
   "execution_count": 12,
   "metadata": {},
   "outputs": [
    {
     "data": {
      "text/plain": [
       "[[1,8,3],[4,5,6]]"
      ]
     },
     "execution_count": 12,
     "metadata": {},
     "output_type": "execute_result"
    }
   ],
   "source": [
    "A"
   ]
  },
  {
   "cell_type": "code",
   "execution_count": 13,
   "metadata": {
    "collapsed": true
   },
   "outputs": [],
   "source": [
    "C = Array([[2,3], [1,1], [4,6]])"
   ]
  },
  {
   "cell_type": "code",
   "execution_count": 14,
   "metadata": {},
   "outputs": [
    {
     "data": {
      "text/plain": [
       "[[14,31,24],[5,13,9],[28,62,48]]"
      ]
     },
     "execution_count": 14,
     "metadata": {},
     "output_type": "execute_result"
    }
   ],
   "source": [
    "#[[14,31,24],[5,13,9],[28,62,48]]\n",
    "C * A"
   ]
  },
  {
   "cell_type": "code",
   "execution_count": 15,
   "metadata": {},
   "outputs": [
    {
     "data": {
      "text/plain": [
       "[[6,9],[3,3],[12,18]]"
      ]
     },
     "execution_count": 15,
     "metadata": {},
     "output_type": "execute_result"
    }
   ],
   "source": [
    "C * 3"
   ]
  },
  {
   "cell_type": "code",
   "execution_count": 16,
   "metadata": {},
   "outputs": [
    {
     "data": {
      "text/plain": [
       "[[21,31],[31,46]]"
      ]
     },
     "execution_count": 16,
     "metadata": {},
     "output_type": "execute_result"
    }
   ],
   "source": [
    "C.transpose()*C"
   ]
  },
  {
   "cell_type": "markdown",
   "metadata": {},
   "source": [
    "## Clase Vector"
   ]
  },
  {
   "cell_type": "code",
   "execution_count": 17,
   "metadata": {
    "collapsed": true
   },
   "outputs": [],
   "source": [
    "class Vector(Array): # declara que Vector es un tipo de Array\n",
    "    def __init__(self, list_of_numbers):\n",
    "        self.vdata = list_of_numbers\n",
    "        list_of_rows = [[x] for x in list_of_numbers]\n",
    "        return Array.__init__(self, list_of_rows)\n",
    "    def __repr__(self):\n",
    "        return \"Vector(\" + str(self.vdata) + \")\"\n",
    "    def __str__(self):\n",
    "        return str(self.vdata)\n",
    "    def __add__(self, other):\n",
    "        new_arr = Array.__add__(self, other)\n",
    "        return Vector([x[0] for x in new_arr.data])"
   ]
  },
  {
   "cell_type": "code",
   "execution_count": 18,
   "metadata": {},
   "outputs": [
    {
     "data": {
      "text/plain": [
       "{'data': [[1], [2], [3]], 'shape': (3, 1), 'vdata': [1, 2, 3]}"
      ]
     },
     "execution_count": 18,
     "metadata": {},
     "output_type": "execute_result"
    }
   ],
   "source": [
    "Vector([1,2,3]).__dict__"
   ]
  },
  {
   "cell_type": "markdown",
   "metadata": {
    "collapsed": true
   },
   "source": [
    "## Ejercicio 7: A = L*U"
   ]
  },
  {
   "cell_type": "markdown",
   "metadata": {},
   "source": [
    "### Funcion DameVectorUyValorL"
   ]
  },
  {
   "cell_type": "code",
   "execution_count": 19,
   "metadata": {
    "collapsed": true
   },
   "outputs": [],
   "source": [
    "def dameVectorUyValorL(arr_semilla, arr_objetivo, columna):\n",
    "    valor_L = arr_objetivo.data[0][columna] / arr_semilla.data[0][columna]\n",
    "    fila_U = arr_objetivo - (arr_semilla * valor_L)\n",
    "    return valor_L, fila_U"
   ]
  },
  {
   "cell_type": "code",
   "execution_count": 20,
   "metadata": {
    "collapsed": true
   },
   "outputs": [],
   "source": [
    "#A = Array([[25, 5, 1],[64, 8, 1],[144, 12, 1]])\n",
    "A = Array([[1, 1, -1],[0, 1, 3],[-1, 0, -2]])\n",
    "L = Array(A.eye(A.shape[0]))\n",
    "U = A\n",
    "fila_L, columna_obj = 0, 0"
   ]
  },
  {
   "cell_type": "code",
   "execution_count": 21,
   "metadata": {
    "collapsed": true
   },
   "outputs": [],
   "source": [
    "for ij in range(0, A.shape[1] - 1):\n",
    "    for i in range(1, A.shape[1] - ij):\n",
    "        valor_L, fila_U = dameVectorUyValorL(Array([A[fila_L,:]]),Array([A[fila_L + i,:]]), columna_obj)\n",
    "        L[fila_L + i, columna_obj] = valor_L\n",
    "        for j in range(fila_U.shape[1]):\n",
    "            U[fila_L + i, j] = fila_U[0,j]\n",
    "    fila_L = fila_L + 1\n",
    "    columna_obj = columna_obj + 1"
   ]
  },
  {
   "cell_type": "code",
   "execution_count": 22,
   "metadata": {},
   "outputs": [
    {
     "name": "stdout",
     "output_type": "stream",
     "text": [
      "Array[[1,0,0],[0.0,1,0],[-1.0,1.0,1]]\n"
     ]
    }
   ],
   "source": [
    "print(L)"
   ]
  },
  {
   "cell_type": "code",
   "execution_count": 23,
   "metadata": {},
   "outputs": [
    {
     "data": {
      "text/plain": [
       "1"
      ]
     },
     "execution_count": 23,
     "metadata": {},
     "output_type": "execute_result"
    }
   ],
   "source": [
    "U.data[0][1]"
   ]
  },
  {
   "cell_type": "code",
   "execution_count": 24,
   "metadata": {},
   "outputs": [
    {
     "data": {
      "text/plain": [
       "[[1,1,-1],[0.0,1.0,3.0],[0.0,0.0,-6.0]]"
      ]
     },
     "execution_count": 24,
     "metadata": {},
     "output_type": "execute_result"
    }
   ],
   "source": [
    "U"
   ]
  },
  {
   "cell_type": "code",
   "execution_count": 25,
   "metadata": {},
   "outputs": [
    {
     "data": {
      "text/plain": [
       "[[1.0,1.0,-1.0],[0.0,1.0,3.0],[-1.0,0.0,-2.0]]"
      ]
     },
     "execution_count": 25,
     "metadata": {},
     "output_type": "execute_result"
    }
   ],
   "source": [
    "L*U"
   ]
  },
  {
   "cell_type": "markdown",
   "metadata": {},
   "source": [
    "## Ejercicio 8: Resolver sistemas con Lower"
   ]
  },
  {
   "cell_type": "markdown",
   "metadata": {},
   "source": [
    "### Funcion modifica fila"
   ]
  },
  {
   "cell_type": "code",
   "execution_count": 26,
   "metadata": {
    "collapsed": true
   },
   "outputs": [],
   "source": [
    "def convierteAuno(A, pos_fila, pos_col):\n",
    "    fila = Array([A[pos_fila,:]])\n",
    "    if fila[0, pos_col] != 0:\n",
    "        fila = Array([[fila[0, j] / fila[0, pos_col] for j in range(fila.shape[1])]])\n",
    "    for j in range(fila.shape[1]):\n",
    "        A[pos_fila, j] = fila[0,j]\n",
    "    \n",
    "def convierteAcero(A, pos_fila_semilla, pos_fila_objetivo, pos_col):\n",
    "    fila_semilla = Array([A[pos_fila_semilla,:]])\n",
    "    if fila_semilla[0, pos_col] != 0:\n",
    "        fila_objetivo = Array([A[pos_fila_objetivo,:]])\n",
    "        multiplicador = fila_objetivo[0, pos_col] / fila_semilla[0, pos_col]\n",
    "        fila_objetivo = fila_objetivo - Array([[fila_semilla[0, j] * multiplicador for j in range(fila_semilla.shape[1])]])\n",
    "        for j in range(fila_objetivo.shape[1]):\n",
    "            A[pos_fila_objetivo, j] = fila_objetivo[0,j]\n",
    "    \n",
    "def cerosHaciaAbajo(A, pos_fila_semilla, pos_col):\n",
    "    for i in range(pos_fila_semilla + 1, A.shape[0]):\n",
    "        convierteAcero(A, pos_fila_semilla, i, pos_col)\n",
    "    \n",
    "def cerosHaciaArriba(A, pos_fila_semilla, pos_col):\n",
    "    for i in range(0, pos_fila_semilla):\n",
    "        convierteAcero(A, pos_fila_semilla, i, pos_col)\n",
    "    \n",
    "def resuelveSistemaLower(A):\n",
    "    for i in range(A.shape[0]):\n",
    "        convierteAuno(A, i, i)\n",
    "        cerosHaciaAbajo(A, i, i)\n",
    "    \n",
    "def resuelveSistemaUpper(A):\n",
    "    for i in range(A.shape[0]):\n",
    "        convierteAuno(A, i, i)\n",
    "        cerosHaciaArriba(A, i, i)\n",
    "\n",
    "def resuelveSistemaDeEcuaciones(A):\n",
    "    resuelveSistemaLower(A)\n",
    "    resuelveSistemaUpper(A)\n",
    "    return [A[i,A.shape[1] - 1] for i in range(A.shape[0])]\n"
   ]
  },
  {
   "cell_type": "code",
   "execution_count": 27,
   "metadata": {},
   "outputs": [
    {
     "data": {
      "text/plain": [
       "[0.666666666666667, 7.0, -1.3333333333333333]"
      ]
     },
     "execution_count": 27,
     "metadata": {},
     "output_type": "execute_result"
    }
   ],
   "source": [
    "# Aj = X, Y, Z, R\n",
    "A = Array([[1, 1, -1, 9],[0, 1, 3, 3],[-1, 0, -2, 2]])\n",
    "resuelveSistemaDeEcuaciones(A)"
   ]
  },
  {
   "cell_type": "code",
   "execution_count": 28,
   "metadata": {},
   "outputs": [
    {
     "data": {
      "text/plain": [
       "[1.375, -0.75]"
      ]
     },
     "execution_count": 28,
     "metadata": {},
     "output_type": "execute_result"
    }
   ],
   "source": [
    "B = Array([[2, 1, 2],[4, 6, 1]])\n",
    "resuelveSistemaDeEcuaciones(B)"
   ]
  },
  {
   "cell_type": "code",
   "execution_count": null,
   "metadata": {
    "collapsed": true
   },
   "outputs": [],
   "source": []
  },
  {
   "cell_type": "code",
   "execution_count": null,
   "metadata": {
    "collapsed": true
   },
   "outputs": [],
   "source": []
  }
 ],
 "metadata": {
  "kernelspec": {
   "display_name": "Python 3",
   "language": "python",
   "name": "python3"
  },
  "language_info": {
   "codemirror_mode": {
    "name": "ipython",
    "version": 3
   },
   "file_extension": ".py",
   "mimetype": "text/x-python",
   "name": "python",
   "nbconvert_exporter": "python",
   "pygments_lexer": "ipython3",
   "version": "3.6.1"
  }
 },
 "nbformat": 4,
 "nbformat_minor": 2
}
