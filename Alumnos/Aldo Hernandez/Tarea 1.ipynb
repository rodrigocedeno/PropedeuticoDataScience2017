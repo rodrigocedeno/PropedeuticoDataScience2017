{
 "cells": [
  {
   "cell_type": "markdown",
   "metadata": {},
   "source": [
    "### <span style = \"color: red\"> EJERCICIO 1 </span>\n",
    "\n",
    "* Escribe los metodos `__repr__` y `__str__` para la clase Array de forma que se imprima legiblemente como en numpy arrays."
   ]
  },
  {
   "cell_type": "code",
   "execution_count": 1,
   "metadata": {
    "collapsed": true
   },
   "outputs": [],
   "source": [
    "class Array:\n",
    "    \"Una clase minima para algebra lineal\"    \n",
    "    def __init__(self, list_of_rows): \n",
    "        \"Constructor y validador\"\n",
    "        # obtener dimensiones\n",
    "        self.data = list_of_rows\n",
    "        nrow = len(list_of_rows)\n",
    "        #  ___caso vector: redimensionar correctamente\n",
    "        if not isinstance(list_of_rows[0], list):\n",
    "            nrow = 1\n",
    "            self.data = [[x] for x in list_of_rows]\n",
    "        # ahora las columnas deben estar bien aunque sea un vector\n",
    "        ncol = len(self.data[0])\n",
    "        self.shape = (nrow, ncol)\n",
    "        # validar tamano correcto de filas\n",
    "        if any([len(r) != ncol for r in self.data]):\n",
    "            raise Exception(\"Las filas deben ser del mismo tamano\")\n",
    "    def __repr__(self):\n",
    "        self.repr = \"\"\n",
    "        for i in range((self.shape[0]-1)):\n",
    "            self.repr += str(self.data[i]) + ',' + '\\n'\n",
    "        self.repr = self.repr + str(self.data[self.shape[0]-1])\n",
    "        return \"([\" + self.repr + \"])\"\n",
    "    def __str__(self):\n",
    "        self.stru = \"\"\n",
    "        self.str = \"\"\n",
    "        for j in range(self.shape[0]-1):\n",
    "            self.str = \"\"\n",
    "            for i in range(self.shape[1]):\n",
    "                self.str += str(self.data[j][i]) + ' '\n",
    "            self.stru += self.str + '\\n'\n",
    "            self.str = \"\"\n",
    "        for i in range(self.shape[1]):\n",
    "            self.str += str(self.data[self.shape[0]-1][i]) + ' '\n",
    "        self.stru = self.stru + self.str\n",
    "\n",
    "        return \"[ \" + str(self.stru) +\"]\""
   ]
  },
  {
   "cell_type": "code",
   "execution_count": 2,
   "metadata": {
    "collapsed": true
   },
   "outputs": [],
   "source": [
    "A = Array([[1,2,3,4],[4,5,6,7]])"
   ]
  },
  {
   "cell_type": "code",
   "execution_count": 3,
   "metadata": {},
   "outputs": [
    {
     "data": {
      "text/plain": [
       "([[1, 2, 3, 4],\n",
       "[4, 5, 6, 7]])"
      ]
     },
     "execution_count": 3,
     "metadata": {},
     "output_type": "execute_result"
    }
   ],
   "source": [
    "A"
   ]
  },
  {
   "cell_type": "code",
   "execution_count": 4,
   "metadata": {},
   "outputs": [
    {
     "name": "stdout",
     "output_type": "stream",
     "text": [
      "[ 1 2 3 4 \n",
      "4 5 6 7 ]\n"
     ]
    }
   ],
   "source": [
    "print(A)"
   ]
  },
  {
   "cell_type": "markdown",
   "metadata": {},
   "source": [
    "### <span style = \"color: red\"> EJERCICIO 2 </span>\n",
    "\n",
    "* Escribe el metodo `__setitem__` para que el codigo `A[i,j] = new_value` cambie el valor de la entrada (i,j) del array. El esqueleto de la funcion es\n",
    "```python\n",
    "class Array:\n",
    "    #\n",
    "    #\n",
    "    def __setitem__(self, idx, new_value):\n",
    "        \"Ejercicio\"\n",
    "    #\n",
    "```"
   ]
  },
  {
   "cell_type": "code",
   "execution_count": 5,
   "metadata": {
    "collapsed": true
   },
   "outputs": [],
   "source": [
    "class Array:\n",
    "    \"Una clase minima para algebra lineal\"    \n",
    "    def __init__(self, list_of_rows): \n",
    "        \"Constructor y validador\"\n",
    "        # obtener dimensiones\n",
    "        self.data = list_of_rows\n",
    "        nrow = len(list_of_rows)\n",
    "        #  ___caso vector: redimensionar correctamente\n",
    "        if not isinstance(list_of_rows[0], list):\n",
    "            nrow = 1\n",
    "            self.data = [[x] for x in list_of_rows]\n",
    "        # ahora las columnas deben estar bien aunque sea un vector\n",
    "        ncol = len(self.data[0])\n",
    "        self.shape = (nrow, ncol)\n",
    "        # validar tamano correcto de filas\n",
    "        if any([len(r) != ncol for r in self.data]):\n",
    "            raise Exception(\"Las filas deben ser del mismo tamano\")\n",
    "    def __getitem__(self, idx):\n",
    "        return self.data[idx[0]][idx[1]]\n",
    "    def __setitem__(self,idx,new_value):\n",
    "        self.data[idx[0]][idx[1]] = new_value"
   ]
  },
  {
   "cell_type": "code",
   "execution_count": 6,
   "metadata": {
    "collapsed": true
   },
   "outputs": [],
   "source": [
    "A = Array([[1,2,3],[4,5,6]])"
   ]
  },
  {
   "cell_type": "code",
   "execution_count": 7,
   "metadata": {},
   "outputs": [
    {
     "data": {
      "text/plain": [
       "2"
      ]
     },
     "execution_count": 7,
     "metadata": {},
     "output_type": "execute_result"
    }
   ],
   "source": [
    "A[0,1]"
   ]
  },
  {
   "cell_type": "code",
   "execution_count": 8,
   "metadata": {
    "collapsed": true
   },
   "outputs": [],
   "source": [
    "A[0,1] = 3"
   ]
  },
  {
   "cell_type": "code",
   "execution_count": 9,
   "metadata": {},
   "outputs": [
    {
     "data": {
      "text/plain": [
       "3"
      ]
     },
     "execution_count": 9,
     "metadata": {},
     "output_type": "execute_result"
    }
   ],
   "source": [
    "A[0,1]"
   ]
  },
  {
   "cell_type": "markdown",
   "metadata": {},
   "source": [
    "### <span style = \"color: red\"> EJERCICIO 3 </span>\n",
    "\n",
    "1. Implementa una funcion de zeros para crear arrays \"vacios\"\n",
    "```python\n",
    "def zeros(shape):\n",
    "    \"Implementame por favor\"\n",
    "```\n",
    "**Hint**, encontraras utiles las listas de comprehension, por ejemplo el codigo `[0. for x in range(5)]` crea una lista de 5 ceros.\n",
    "2. Implementa una funcion `eye(n)` que crea la matriz identidad de $n\\times n$ (es decir, la matriz que tiene puros ceros y unos en la diagonal). El nombre `eye` es tradicional en software de algebra lineal, aunque no es muy intuitivo."
   ]
  },
  {
   "cell_type": "code",
   "execution_count": 10,
   "metadata": {
    "collapsed": true
   },
   "outputs": [],
   "source": [
    "class Array:\n",
    "    def __init__(self, list_of_rows):\n",
    "        \"Constructor y validador\"\n",
    "        # obtener dimensiones\n",
    "        self.data = list_of_rows\n",
    "        self.shape = (len(list_of_rows), len(list_of_rows[0]))\n",
    "        nrow = len(list_of_rows)\n",
    "        #  ___caso vector: redimensionar correctamente\n",
    "        if not isinstance(list_of_rows[0], list):\n",
    "            nrow = 1\n",
    "            self.data = [[x] for x in list_of_rows]\n",
    "        # ahora las columnas deben estar bien aunque sea un vector\n",
    "        ncol = len(self.data[0])\n",
    "        self.shape = (nrow, ncol)\n",
    "        # validar tamano correcto de filas\n",
    "        if any([len(r) != ncol for r in self.data]):\n",
    "            raise Exception(\"Las filas deben ser del mismo tamano\")\n",
    "    def zeros(self,r,c):\n",
    "        self.columnas = c\n",
    "        self.filas = r\n",
    "        self.zeros = [[0 for col in range(c)] for row in range(r)]\n",
    "        return self.zeros\n",
    "    def eye(self,n):\n",
    "        self.zeros = [[0 for col in range(n)] for row in range(n)]\n",
    "        for i in range(n):\n",
    "            self.zeros[i][i] = 1\n",
    "        return self.zeros"
   ]
  },
  {
   "cell_type": "code",
   "execution_count": 11,
   "metadata": {
    "collapsed": true
   },
   "outputs": [],
   "source": [
    "A = Array([[1,2,3],[4,5,6]])"
   ]
  },
  {
   "cell_type": "code",
   "execution_count": 12,
   "metadata": {},
   "outputs": [
    {
     "data": {
      "text/plain": [
       "[[0, 0, 0], [0, 0, 0]]"
      ]
     },
     "execution_count": 12,
     "metadata": {},
     "output_type": "execute_result"
    }
   ],
   "source": [
    "A.zeros(2,3)"
   ]
  },
  {
   "cell_type": "code",
   "execution_count": 13,
   "metadata": {},
   "outputs": [
    {
     "data": {
      "text/plain": [
       "[[1, 0], [0, 1]]"
      ]
     },
     "execution_count": 13,
     "metadata": {},
     "output_type": "execute_result"
    }
   ],
   "source": [
    "A.eye(2)"
   ]
  },
  {
   "cell_type": "code",
   "execution_count": 14,
   "metadata": {
    "collapsed": true
   },
   "outputs": [],
   "source": [
    "class Zeros:\n",
    "    def __init__(self,r,c):\n",
    "        self.columnas = c\n",
    "        self.filas = r\n",
    "        self.data = [[0 for col in range(c)] for row in range(r)]\n",
    "    def __repr__(self):\n",
    "        self.repr = \"\"\n",
    "        for i in range((self.filas-1)):\n",
    "            self.repr += str(self.data[i]) + ',' + '\\n'\n",
    "        self.repr = self.repr + str(self.data[self.filas-1])\n",
    "        return \"([\" + self.repr + \"])\"\n",
    "    def __str__(self):\n",
    "        self.stru = \"\"\n",
    "        self.str = \"\"\n",
    "        for j in range(self.filas-1):\n",
    "            self.str = \"\"\n",
    "            for i in range(self.columnas):\n",
    "                self.str += str(self.data[j][i]) + ' '\n",
    "            self.stru += self.str + '\\n'\n",
    "            self.str = \"\"\n",
    "        for i in range(self.columnas):\n",
    "            self.str += str(self.data[self.filas-1][i]) + ' '\n",
    "        self.stru = self.stru + self.str\n",
    "        return \"[ \" + str(self.stru) +\"]\""
   ]
  },
  {
   "cell_type": "code",
   "execution_count": 15,
   "metadata": {
    "collapsed": true
   },
   "outputs": [],
   "source": [
    "x = Zeros(5,6)"
   ]
  },
  {
   "cell_type": "code",
   "execution_count": 16,
   "metadata": {},
   "outputs": [
    {
     "data": {
      "text/plain": [
       "([[0, 0, 0, 0, 0, 0],\n",
       "[0, 0, 0, 0, 0, 0],\n",
       "[0, 0, 0, 0, 0, 0],\n",
       "[0, 0, 0, 0, 0, 0],\n",
       "[0, 0, 0, 0, 0, 0]])"
      ]
     },
     "execution_count": 16,
     "metadata": {},
     "output_type": "execute_result"
    }
   ],
   "source": [
    "x"
   ]
  },
  {
   "cell_type": "code",
   "execution_count": 17,
   "metadata": {},
   "outputs": [
    {
     "name": "stdout",
     "output_type": "stream",
     "text": [
      "[ 0 0 0 0 0 0 \n",
      "0 0 0 0 0 0 \n",
      "0 0 0 0 0 0 \n",
      "0 0 0 0 0 0 \n",
      "0 0 0 0 0 0 ]\n"
     ]
    }
   ],
   "source": [
    "print(x)"
   ]
  },
  {
   "cell_type": "code",
   "execution_count": 18,
   "metadata": {
    "collapsed": true
   },
   "outputs": [],
   "source": [
    "class eye:\n",
    "    def __init__(self,n):\n",
    "        self.dim = n\n",
    "        self.data = [[0 for col in range(n)] for row in range(n)]\n",
    "        for i in range(n):\n",
    "            self.data[i][i] = 1\n",
    "    def __repr__(self):\n",
    "        self.repr = \"\"\n",
    "        for i in range((self.dim-1)):\n",
    "            self.repr += str(self.data[i]) + ',' + '\\n'\n",
    "        self.repr = self.repr + str(self.data[self.dim-1])\n",
    "        return \"([\" + self.repr + \"])\"\n",
    "    def __str__(self):\n",
    "        self.stru = \"\"\n",
    "        self.str = \"\"\n",
    "        for j in range(self.dim-1):\n",
    "            self.str = \"\"\n",
    "            for i in range(self.dim):\n",
    "                self.str += str(self.data[j][i]) + ' '\n",
    "            self.stru += self.str + '\\n'\n",
    "            self.str = \"\"\n",
    "        for i in range(self.dim):\n",
    "            self.str += str(self.data[self.dim-1][i]) + ' '\n",
    "        self.stru = self.stru + self.str\n",
    "        return \"[ \" + str(self.stru) +\"]\""
   ]
  },
  {
   "cell_type": "code",
   "execution_count": 19,
   "metadata": {
    "collapsed": true
   },
   "outputs": [],
   "source": [
    "y = eye(2)"
   ]
  },
  {
   "cell_type": "code",
   "execution_count": 20,
   "metadata": {},
   "outputs": [
    {
     "data": {
      "text/plain": [
       "([[1, 0],\n",
       "[0, 1]])"
      ]
     },
     "execution_count": 20,
     "metadata": {},
     "output_type": "execute_result"
    }
   ],
   "source": [
    "y"
   ]
  },
  {
   "cell_type": "code",
   "execution_count": 21,
   "metadata": {},
   "outputs": [
    {
     "name": "stdout",
     "output_type": "stream",
     "text": [
      "[ 1 0 \n",
      "0 1 ]\n"
     ]
    }
   ],
   "source": [
    "print(y)"
   ]
  },
  {
   "cell_type": "markdown",
   "metadata": {},
   "source": [
    "### <span style = \"color: red\"> EJERCICIO 4 </span>\n",
    "\n",
    "* Implementa la funcion de transposicion\n",
    "```python\n",
    "class Array:\n",
    "    ###\n",
    "    ###\n",
    "    ###\n",
    "    def transpose(self):\n",
    "        \"Implementame :)\"\n",
    "        ###        \n",
    "```"
   ]
  },
  {
   "cell_type": "code",
   "execution_count": 22,
   "metadata": {
    "collapsed": true
   },
   "outputs": [],
   "source": [
    "class Array:\n",
    "    \"Una clase minima para algebra lineal\"    \n",
    "    def __init__(self, list_of_rows):\n",
    "        \"Constructor y validador\"\n",
    "        # obtener dimensiones\n",
    "        self.data = list_of_rows\n",
    "        self.shape = (len(list_of_rows), len(list_of_rows[0]))\n",
    "        nrow = len(list_of_rows)\n",
    "        #  ___caso vector: redimensionar correctamente\n",
    "        if not isinstance(list_of_rows[0], list):\n",
    "            nrow = 1\n",
    "            self.data = [[x] for x in list_of_rows]\n",
    "        # ahora las columnas deben estar bien aunque sea un vector\n",
    "        ncol = len(self.data[0])\n",
    "        self.shape = (nrow, ncol)\n",
    "        # validar tamano correcto de filas\n",
    "        if any([len(r) != ncol for r in self.data]):\n",
    "            raise Exception(\"Las filas deben ser del mismo tamano\")\n",
    "\n",
    "    def transpose(self):\n",
    "        self.fila = self.shape[0]\n",
    "        self.columna = self.shape[1]\n",
    "        self.row = [[0 for col in range(self.fila)] for row in range(self.columna)]\n",
    "        for j in range(self.columna):\n",
    "            for i in range(self.fila):\n",
    "                self.row[j][i] = self.data[i][j]\n",
    "        return self.row"
   ]
  },
  {
   "cell_type": "code",
   "execution_count": 23,
   "metadata": {
    "collapsed": true
   },
   "outputs": [],
   "source": [
    "A = Array([[1,2,3,4],[5,6,7,8],[9,10,11,12]])"
   ]
  },
  {
   "cell_type": "code",
   "execution_count": 24,
   "metadata": {},
   "outputs": [
    {
     "data": {
      "text/plain": [
       "[[1, 5, 9], [2, 6, 10], [3, 7, 11], [4, 8, 12]]"
      ]
     },
     "execution_count": 24,
     "metadata": {},
     "output_type": "execute_result"
    }
   ],
   "source": [
    "A.transpose()"
   ]
  },
  {
   "cell_type": "markdown",
   "metadata": {},
   "source": [
    "### <span style = \"color: red\"> EJERCICIO 5</span>\n",
    "\n",
    "1. (dificil) En nuestra clase Array la expresion `A + 1` tiene sentido para un Array `A`, sin embargo la expresion inversa falla, por ejemplo \n",
    "```python\n",
    "1 + Array([[1,2], [3,4]])\n",
    "```\n",
    "entrega un error. Investiga como implementar el metodo de clase `__radd__` para resolver este problema.\n",
    "2. Nuestro metodo de suma no sabe restar, implementa el metodo de clase `__sub__` similar a la suma para poder calcular expresiones como A - B para A y B arrays o numeros.\n"
   ]
  },
  {
   "cell_type": "code",
   "execution_count": 25,
   "metadata": {
    "collapsed": true
   },
   "outputs": [],
   "source": [
    "class Array:\n",
    "    \"Una clase minima para algebra lineal\"    \n",
    "    def __init__(self, list_of_rows): \n",
    "        \"Constructor y validador\"\n",
    "        # obtener dimensiones\n",
    "        self.data = list_of_rows\n",
    "        nrow = len(list_of_rows)\n",
    "        #  ___caso vector: redimensionar correctamente\n",
    "        if not isinstance(list_of_rows[0], list):\n",
    "            nrow = 1\n",
    "            self.data = [[x] for x in list_of_rows]\n",
    "        # ahora las columnas deben estar bien aunque sea un vector\n",
    "        ncol = len(self.data[0])\n",
    "        self.shape = (nrow, ncol)\n",
    "        # validar tamano correcto de filas\n",
    "        if any([len(r) != ncol for r in self.data]):\n",
    "            raise Exception(\"Las filas deben ser del mismo tamano\")\n",
    "        \n",
    "    def __add__(self, other):\n",
    "        if isinstance(other, Array):\n",
    "            if self.shape != other.shape:\n",
    "                raise Exception(\"Las dimensiones son distintas!\")\n",
    "            rows, cols = self.shape\n",
    "            newArray = Array([[0. for c in range(cols)] for r in range(rows)])\n",
    "            for r in range(rows):\n",
    "                for c in range(cols):\n",
    "                    newArray.data[r][c] = self.data[r][c] + other.data[r][c]\n",
    "            return newArray\n",
    "        elif isinstance(2, (int, float, complex)): # en caso de que el lado derecho sea solo un numero\n",
    "            rows, cols = self.shape\n",
    "            newArray = Array([[0. for c in range(cols)] for r in range(rows)])\n",
    "            for r in range(rows):\n",
    "                for c in range(cols):\n",
    "                    newArray.data[r][c] = self.data[r][c] + other\n",
    "            return newArray\n",
    "        else:\n",
    "            return NotImplemented # es un tipo de error particular usado en estos metodos\n",
    "    \"Parte 1\"\n",
    "    __radd__ = __add__\n",
    "    \n",
    "    \"Parte 2\"\n",
    "    def __sub__(self, other):\n",
    "        if isinstance(other, Array):\n",
    "            if self.shape != other.shape:\n",
    "                raise Exception(\"Las dimensiones son distintas!\")\n",
    "            rows, cols = self.shape\n",
    "            newArray = Array([[0. for c in range(cols)] for r in range(rows)])\n",
    "            for r in range(rows):\n",
    "                for c in range(cols):\n",
    "                    newArray.data[r][c] = self.data[r][c] - other.data[r][c]\n",
    "            return newArray\n",
    "        elif isinstance(2, (int, float, complex)): # en caso de que el lado derecho sea solo un numero\n",
    "            rows, cols = self.shape\n",
    "            newArray = Array([[0. for c in range(cols)] for r in range(rows)])\n",
    "            for r in range(rows):\n",
    "                for c in range(cols):\n",
    "                    newArray.data[r][c] = self.data[r][c] - other\n",
    "            return newArray\n",
    "        else:\n",
    "            return NotImplemented # es un tipo de error particular usado en estos metodos\n",
    "\n",
    "    def __rsub__(self, other):\n",
    "        if isinstance(2, (int, float, complex)): # en caso de que el lado derecho sea solo un numero\n",
    "            rows, cols = self.shape\n",
    "            newArray = Array([[0. for c in range(cols)] for r in range(rows)])\n",
    "            for r in range(rows):\n",
    "                for c in range(cols):\n",
    "                    newArray.data[r][c] = other - self.data[r][c]\n",
    "            return newArray\n",
    "        else:\n",
    "            return NotImplemented # es un tipo de error particular usado en estos metodos"
   ]
  },
  {
   "cell_type": "code",
   "execution_count": 26,
   "metadata": {
    "collapsed": true
   },
   "outputs": [],
   "source": [
    "A = Array([[1,2,3],[4,5,6]])"
   ]
  },
  {
   "cell_type": "code",
   "execution_count": 27,
   "metadata": {
    "collapsed": true
   },
   "outputs": [],
   "source": [
    "B = Array([[4,5,6],[7,8,9]])"
   ]
  },
  {
   "cell_type": "code",
   "execution_count": 28,
   "metadata": {
    "collapsed": true
   },
   "outputs": [],
   "source": [
    "C = A + B"
   ]
  },
  {
   "cell_type": "code",
   "execution_count": 29,
   "metadata": {},
   "outputs": [
    {
     "data": {
      "text/plain": [
       "[[5, 7, 9], [11, 13, 15]]"
      ]
     },
     "execution_count": 29,
     "metadata": {},
     "output_type": "execute_result"
    }
   ],
   "source": [
    "C.data"
   ]
  },
  {
   "cell_type": "code",
   "execution_count": 30,
   "metadata": {
    "collapsed": true
   },
   "outputs": [],
   "source": [
    "D = A + 2"
   ]
  },
  {
   "cell_type": "code",
   "execution_count": 31,
   "metadata": {},
   "outputs": [
    {
     "data": {
      "text/plain": [
       "[[3, 4, 5], [6, 7, 8]]"
      ]
     },
     "execution_count": 31,
     "metadata": {},
     "output_type": "execute_result"
    }
   ],
   "source": [
    "D.data"
   ]
  },
  {
   "cell_type": "code",
   "execution_count": 32,
   "metadata": {
    "collapsed": true
   },
   "outputs": [],
   "source": [
    "E = 3 + B"
   ]
  },
  {
   "cell_type": "code",
   "execution_count": 33,
   "metadata": {},
   "outputs": [
    {
     "data": {
      "text/plain": [
       "[[7, 8, 9], [10, 11, 12]]"
      ]
     },
     "execution_count": 33,
     "metadata": {},
     "output_type": "execute_result"
    }
   ],
   "source": [
    "E.data"
   ]
  },
  {
   "cell_type": "code",
   "execution_count": 34,
   "metadata": {
    "collapsed": true
   },
   "outputs": [],
   "source": [
    "F = A - B"
   ]
  },
  {
   "cell_type": "code",
   "execution_count": 35,
   "metadata": {},
   "outputs": [
    {
     "data": {
      "text/plain": [
       "[[-3, -3, -3], [-3, -3, -3]]"
      ]
     },
     "execution_count": 35,
     "metadata": {},
     "output_type": "execute_result"
    }
   ],
   "source": [
    "F.data"
   ]
  },
  {
   "cell_type": "code",
   "execution_count": 36,
   "metadata": {
    "collapsed": true
   },
   "outputs": [],
   "source": [
    "G = B - 3"
   ]
  },
  {
   "cell_type": "code",
   "execution_count": 37,
   "metadata": {},
   "outputs": [
    {
     "data": {
      "text/plain": [
       "[[1, 2, 3], [4, 5, 6]]"
      ]
     },
     "execution_count": 37,
     "metadata": {},
     "output_type": "execute_result"
    }
   ],
   "source": [
    "G.data"
   ]
  },
  {
   "cell_type": "code",
   "execution_count": 38,
   "metadata": {
    "collapsed": true
   },
   "outputs": [],
   "source": [
    "H = 10 - A"
   ]
  },
  {
   "cell_type": "code",
   "execution_count": 39,
   "metadata": {},
   "outputs": [
    {
     "data": {
      "text/plain": [
       "[[9, 8, 7], [6, 5, 4]]"
      ]
     },
     "execution_count": 39,
     "metadata": {},
     "output_type": "execute_result"
    }
   ],
   "source": [
    "H.data"
   ]
  },
  {
   "cell_type": "markdown",
   "metadata": {
    "collapsed": true
   },
   "source": [
    "### <span style = \"color: red\"> EJERCICIO 6 </span>\n",
    "\n",
    "Implementa las funciones `__mul__` y `__rmul__` para hacer multiplicacion matricial (y por un escalar). **Hint**. Entiende y modifica el codigo de suma del punto anterior"
   ]
  },
  {
   "cell_type": "code",
   "execution_count": 40,
   "metadata": {
    "collapsed": true
   },
   "outputs": [],
   "source": [
    "class Array:\n",
    "    def __init__(self, list_of_rows): \n",
    "        \"Constructor y validador\"\n",
    "        # obtener dimensiones\n",
    "        self.data = list_of_rows\n",
    "        nrow = len(list_of_rows)\n",
    "        #  ___caso vector: redimensionar correctamente\n",
    "        if not isinstance(list_of_rows[0], list):\n",
    "            nrow = 1\n",
    "            self.data = [[x] for x in list_of_rows]\n",
    "        # ahora las columnas deben estar bien aunque sea un vector\n",
    "        ncol = len(self.data[0])\n",
    "        self.shape = (nrow, ncol)\n",
    "        # validar tamano correcto de filas\n",
    "        if any([len(r) != ncol for r in self.data]):\n",
    "            raise Exception(\"Las filas deben ser del mismo tamano\")\n",
    "        \n",
    "    def __mul__(self, other):\n",
    "        if isinstance(other, Array):\n",
    "            if self.shape[1] != other.shape[0]:\n",
    "                raise Exception(\"Las dimensiones no coinciden!\")\n",
    "            rowsarr = self.shape[0]\n",
    "            coincidir = self.shape[1]\n",
    "            colsoth = other.shape[1]\n",
    "            val = 0\n",
    "            newArray = Array([[0. for c in range(colsoth)] for r in range(rowsarr)])\n",
    "            for r in range(rowsarr):\n",
    "                for c in range(colsoth):\n",
    "                    val = 0\n",
    "                    for i in range(coincidir):\n",
    "                        val += self.data[r][i] * other.data[i][c]\n",
    "                    newArray.data[r][c] = val\n",
    "            return newArray\n",
    "        elif isinstance(2, (int, float, complex)): # en caso de que el lado derecho sea solo un numero\n",
    "            rows, cols = self.shape\n",
    "            newArray = Array([[0. for c in range(cols)] for r in range(rows)])\n",
    "            for r in range(rows):\n",
    "                for c in range(cols):\n",
    "                    newArray.data[r][c] = self.data[r][c] * other\n",
    "            return newArray\n",
    "        else:\n",
    "            return NotImplemented # es un tipo de error particular usado en estos metodos\n",
    "    def __rmul__(self, other):\n",
    "        if isinstance(other, Array):\n",
    "            if self.shape[1] != other.shape[0]:\n",
    "                raise Exception(\"Las dimensiones no coinciden!\")\n",
    "            rowsarr = self.shape[0]\n",
    "            coincidir = self.shape[1]\n",
    "            colsoth = other.shape[1]\n",
    "            val = 0\n",
    "            newArray = Array([[0. for c in range(colsoth)] for r in range(rowsarr)])\n",
    "            for r in range(rowsarr):\n",
    "                for c in range(colsoth):\n",
    "                    val = 0\n",
    "                    for i in range(coincidir):\n",
    "                        val += other.data[i][c] * self.data[r][i]\n",
    "                    newArray.data[r][c] = val\n",
    "            return newArray\n",
    "        elif isinstance(2, (int, float, complex)): # en caso de que el lado derecho sea solo un numero\n",
    "            rows, cols = self.shape\n",
    "            newArray = Array([[0. for c in range(cols)] for r in range(rows)])\n",
    "            for r in range(rows):\n",
    "                for c in range(cols):\n",
    "                    newArray.data[r][c] = self.data[r][c] * other\n",
    "            return newArray\n",
    "        else:\n",
    "            return NotImplemented # es un tipo de error particular usado en estos metodos"
   ]
  },
  {
   "cell_type": "code",
   "execution_count": 41,
   "metadata": {
    "collapsed": true
   },
   "outputs": [],
   "source": [
    "A = Array([[1,2],[4,5],[7,8]])"
   ]
  },
  {
   "cell_type": "code",
   "execution_count": 42,
   "metadata": {
    "collapsed": true
   },
   "outputs": [],
   "source": [
    "B = Array([[4,5,6],[7,8,9]])"
   ]
  },
  {
   "cell_type": "code",
   "execution_count": 43,
   "metadata": {
    "collapsed": true
   },
   "outputs": [],
   "source": [
    "C = B * A "
   ]
  },
  {
   "cell_type": "code",
   "execution_count": 44,
   "metadata": {},
   "outputs": [
    {
     "data": {
      "text/plain": [
       "[[66, 81], [102, 126]]"
      ]
     },
     "execution_count": 44,
     "metadata": {},
     "output_type": "execute_result"
    }
   ],
   "source": [
    "C.data"
   ]
  },
  {
   "cell_type": "code",
   "execution_count": 45,
   "metadata": {
    "collapsed": true
   },
   "outputs": [],
   "source": [
    "D = 2 * A"
   ]
  },
  {
   "cell_type": "code",
   "execution_count": 46,
   "metadata": {},
   "outputs": [
    {
     "data": {
      "text/plain": [
       "[[2, 4], [8, 10], [14, 16]]"
      ]
     },
     "execution_count": 46,
     "metadata": {},
     "output_type": "execute_result"
    }
   ],
   "source": [
    "D.data"
   ]
  },
  {
   "cell_type": "code",
   "execution_count": 47,
   "metadata": {
    "collapsed": true
   },
   "outputs": [],
   "source": [
    "E = B * (-1)"
   ]
  },
  {
   "cell_type": "code",
   "execution_count": 48,
   "metadata": {},
   "outputs": [
    {
     "data": {
      "text/plain": [
       "[[-4, -5, -6], [-7, -8, -9]]"
      ]
     },
     "execution_count": 48,
     "metadata": {},
     "output_type": "execute_result"
    }
   ],
   "source": [
    "E.data"
   ]
  },
  {
   "cell_type": "code",
   "execution_count": null,
   "metadata": {
    "collapsed": true
   },
   "outputs": [],
   "source": []
  }
 ],
 "metadata": {
  "kernelspec": {
   "display_name": "Python 3",
   "language": "python",
   "name": "python3"
  },
  "language_info": {
   "codemirror_mode": {
    "name": "ipython",
    "version": 3
   },
   "file_extension": ".py",
   "mimetype": "text/x-python",
   "name": "python",
   "nbconvert_exporter": "python",
   "pygments_lexer": "ipython3",
   "version": "3.6.1"
  }
 },
 "nbformat": 4,
 "nbformat_minor": 2
}
