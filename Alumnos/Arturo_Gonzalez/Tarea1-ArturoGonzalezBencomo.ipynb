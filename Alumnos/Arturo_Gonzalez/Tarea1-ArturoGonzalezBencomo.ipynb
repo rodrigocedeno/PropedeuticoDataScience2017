{
 "cells": [
  {
   "cell_type": "markdown",
   "metadata": {},
   "source": [
    "# Tarea 1:\n",
    "## Alumno: Arturo Gonzalez Bencomo\n",
    "\n",
    "## Clase Array completa\n",
    "## La clase array completa se implemento en los ejercicios 1-6 con comentarios en el codigo indicando que metodo se implemento en que ejercicio, posteriormente se comprueba cada seccion correspondiente.\n",
    "## Los ejercicios 7-10 no implicaron modificacion de clase array sino que se agregaron funciones nuevas externas a la clase"
   ]
  },
  {
   "cell_type": "code",
   "execution_count": 80,
   "metadata": {
    "collapsed": true
   },
   "outputs": [],
   "source": [
    "class Array:\n",
    "    \"Una clase minima para algebra lineal\"    \n",
    "    def __init__(self, list_of_rows): \n",
    "        \"Constructor y validador\"\n",
    "        # obtener dimensiones\n",
    "        self.data = list_of_rows\n",
    "        nrow = len(list_of_rows)\n",
    "        \n",
    "        #  ___caso vector: redimensionar correctamente\n",
    "        if not isinstance(list_of_rows[0], list):\n",
    "            nrow = 1\n",
    "            self.data = [[x] for x in list_of_rows]\n",
    "        \n",
    "        # ahora las columnas deben estar bien aunque sea un vector\n",
    "        ncol = len(self.data[0])\n",
    "        self.shape = (nrow, ncol)\n",
    "        \n",
    "        # validar tamano correcto de filas\n",
    "        if any([len(r) != ncol for r in self.data]):\n",
    "            raise Exception(\"Las filas deben ser del mismo tamano\")\n",
    "     \n",
    "        for a in range(nrow):\n",
    "            for b in range(len(list_of_rows[a])):\n",
    "                if not type(list_of_rows[a][b]) == int and not type(list_of_rows[a][b]) == float:\n",
    "                    raise Exception(\"Hay datos no numericos\")\n",
    "    \n",
    "    \n",
    "    \n",
    "    def __repr__(self): #Ejercicio1\n",
    "        \"Funcion que se manda llamar cuando solo pones el dato en terminal >> dato\"\n",
    "        return self.printdata(self.data)\n",
    "    \n",
    "    def printdata(self, data):   #Ejercicio1\n",
    "        \"Funcion que da formato a la impresion de matrices y vectores\"\n",
    "        rows = len(data)\n",
    "        cadena = \"[\"\n",
    "        for a in range(rows):\n",
    "            if a>0: \n",
    "                cadena+=str(\"\\n \")                            \n",
    "            cadena+=str(data[a])\n",
    "            \n",
    "        cadena+=\"]\"\n",
    "        return cadena\n",
    "    \n",
    "    def __str__(self): #Ejercicio1\n",
    "        \"Funcion que se manda llamar cuando solo pones llamas a imprimir el dato en terminal >>print(dato)\"\n",
    "        return self.printdata(self.data)    \n",
    "    \n",
    "    def __getitem__(self, idx):   #Ejercicio2\n",
    "        \"Metodo para poder obtener datos del objeto mediante un indice\"\n",
    "        return self.data[idx[0]][idx[1]]\n",
    "    \n",
    "    def __setitem__(self, idx, new_value):   #Ejercicio2\n",
    "        \"Metodo por el cual podemos asignar valores al objeto mediante indices\"\n",
    "        self.data[idx[0]][idx[1]] = new_value        \n",
    "    \n",
    "    def transpose(self):   #Ejercicio4\n",
    "        \"Metodo para obtener la matriz transpuesta del objeto Array\"\n",
    "        rows = self.shape[0]\n",
    "        cols = self.shape[1]\n",
    "        transpuesta = [[self.data[x][y] for x in range(rows)] for y in range(cols)]\n",
    "        return Array(transpuesta)\n",
    "        #return self.printdata(transpuesta)\n",
    "    \n",
    "    \n",
    "    def __add__(self, other):   #Ejercicio5\n",
    "        \"Hora de sumar\"\n",
    "        if isinstance(other, Array):\n",
    "            if self.shape != other.shape:\n",
    "                raise Exception(\"Las dimensiones son distintas!\")\n",
    "            rows, cols = self.shape\n",
    "            newArray = Array([[0. for c in range(cols)] for r in range(rows)])\n",
    "            for r in range(rows):\n",
    "                for c in range(cols):\n",
    "                    newArray.data[r][c] = self.data[r][c] + other.data[r][c]\n",
    "            return newArray\n",
    "        elif isinstance(other, (int, float, complex)): # en caso de que el lado derecho sea solo un numero\n",
    "            rows, cols = self.shape\n",
    "            newArray = Array([[0. for c in range(cols)] for r in range(rows)])\n",
    "            for r in range(rows):\n",
    "                for c in range(cols):\n",
    "                    newArray.data[r][c] = self.data[r][c] + other\n",
    "            return newArray\n",
    "        else:\n",
    "            raise Exception(\"Data must be either Array class or scalar\") # es un tipo de error particular usado en estos metodos\n",
    "\n",
    "        \n",
    "    __radd__ = __add__     #Ejercicio5\n",
    "    \n",
    "    def __sub__(self, other):   #Ejercicio5\n",
    "        \"Hora de restar\"\n",
    "        \"Hora de sumar\"\n",
    "        if isinstance(other, Array):\n",
    "            if self.shape != other.shape:\n",
    "                raise Exception(\"Las dimensiones son distintas!\")\n",
    "            rows, cols = self.shape\n",
    "            newArray = Array([[0. for c in range(cols)] for r in range(rows)])\n",
    "            for r in range(rows):\n",
    "                for c in range(cols):\n",
    "                    newArray.data[r][c] = self.data[r][c] - other.data[r][c]\n",
    "            return newArray\n",
    "        elif isinstance(other, (int, float, complex)): # en caso de que el lado derecho sea solo un numero\n",
    "            rows, cols = self.shape\n",
    "            newArray = Array([[0. for c in range(cols)] for r in range(rows)])\n",
    "            for r in range(rows):\n",
    "                for c in range(cols):\n",
    "                    newArray.data[r][c] = self.data[r][c] - other\n",
    "            return newArray\n",
    "        else:\n",
    "            raise Exception(\"Data must be either Array class or scalar\") # es un tipo de error particular usado en estos metodos\n",
    "\n",
    "    __rsub__ = __sub__     #Ejercicio5\n",
    "\n",
    "\n",
    "    def __mul__(self,other):   #Ejercicio6\n",
    "        \"Metodo para multiplicar una matriz ya sea con un escalar, u otra matriz(vectores tambien ya que son matrices de 1xn o nx1\"\n",
    "        #if len(other[0])\n",
    "        if isinstance(other, Array):\n",
    "            compatible = False #\n",
    "            if self.shape[1] == other.shape[0]:\n",
    "                compatible = True            \n",
    "            else:\n",
    "                print(\"Incompatible matrices\")\n",
    "                        \n",
    "            if compatible:\n",
    "                rows, cols = self.shape\n",
    "                matmult = []\n",
    "                for a in range(rows):                \n",
    "                    vec = []\n",
    "                    for b in range(other.shape[1]):                  \n",
    "                        vec.append(self.multAdd(self.data[a],[other.data[i][b] for i in range(other.shape[0])])) \n",
    "                    matmult.append(vec)\n",
    "                \n",
    "                return self.printdata(matmult)\n",
    "            \n",
    "        elif isinstance(other, (int, float)):            \n",
    "            rows, cols = self.shape\n",
    "            newArray = Array([[0. for c in range(cols)] for r in range(rows)])\n",
    "            newArray.data = [[self.data[y][x]*other for x in range(cols)] for y in range(rows)]\n",
    "            return newArray\n",
    "    \n",
    "    def multAdd(self,parama, paramb):  #Ejercicio6 (auxiliar)\n",
    "        \"Metodo para calcular producto punto\"\n",
    "        sum = 0\n",
    "        for x in range(len(parama)):\n",
    "            sum+=(parama[x]*paramb[x])\n",
    "        return sum\n",
    "        \n",
    "    \n",
    "    __rmul__ = __mul__    #Ejercicio6"
   ]
  },
  {
   "cell_type": "markdown",
   "metadata": {},
   "source": [
    "# Ejercicio1\n",
    "### Escribe los metodos __repr__ y __str__ para la clase Array de forma que se imprima legiblemente como en numpy arrays."
   ]
  },
  {
   "cell_type": "code",
   "execution_count": 81,
   "metadata": {
    "collapsed": true
   },
   "outputs": [],
   "source": [
    "dato = Array([[1,2,3],[4,5,6],[8,9,10]])"
   ]
  },
  {
   "cell_type": "code",
   "execution_count": 82,
   "metadata": {},
   "outputs": [
    {
     "name": "stdout",
     "output_type": "stream",
     "text": [
      "[[1, 2, 3]\n",
      " [4, 5, 6]\n",
      " [8, 9, 10]]\n"
     ]
    }
   ],
   "source": [
    "print(dato)"
   ]
  },
  {
   "cell_type": "code",
   "execution_count": 83,
   "metadata": {},
   "outputs": [
    {
     "data": {
      "text/plain": [
       "[[1, 2, 3]\n",
       " [4, 5, 6]\n",
       " [8, 9, 10]]"
      ]
     },
     "execution_count": 83,
     "metadata": {},
     "output_type": "execute_result"
    }
   ],
   "source": [
    "dato"
   ]
  },
  {
   "cell_type": "markdown",
   "metadata": {},
   "source": [
    "# Ejercicio2\n",
    "### Escribe el metodo __setitem__ para que el codigo A[i,j] = new_value cambie el valor de la entrada (i,j) del array. "
   ]
  },
  {
   "cell_type": "code",
   "execution_count": 84,
   "metadata": {},
   "outputs": [
    {
     "name": "stdout",
     "output_type": "stream",
     "text": [
      "Original: \n",
      "[[1, 2, 3]\n",
      " [4, 5, 6]\n",
      " [8, 9, 10]]\n",
      "Acceder a elemento por indices dato[1,2]\n",
      "6\n",
      "Asignamos elemento por indices dato[0,0] = 10\n",
      "[[10, 2, 3]\n",
      " [4, 5, 6]\n",
      " [8, 9, 10]]\n"
     ]
    }
   ],
   "source": [
    "dato = Array([[1,2,3],[4,5,6],[8,9,10]])\n",
    "print(\"Original: \")\n",
    "print(dato)\n",
    "print(\"Acceder a elemento por indices dato[1,2]\")\n",
    "print(dato[1,2])\n",
    "dato[0,0] = 10\n",
    "print(\"Asignamos elemento por indices dato[0,0] = 10\")\n",
    "print(dato)"
   ]
  },
  {
   "cell_type": "markdown",
   "metadata": {},
   "source": [
    "# Ejercicio3\n",
    "### Implementa una funcion de zeros para crear arrays \"vacios\""
   ]
  },
  {
   "cell_type": "code",
   "execution_count": 85,
   "metadata": {
    "collapsed": true
   },
   "outputs": [],
   "source": [
    "def zeros(filas, columnas):\n",
    "    \"Clase que crea un objeto de clase Array inicializado con valores en ceros sintaxis matriz_ceros(2,3)\"\n",
    "    return Array([[0 for x in range(columnas)] for y in range(filas)])"
   ]
  },
  {
   "cell_type": "code",
   "execution_count": 101,
   "metadata": {},
   "outputs": [
    {
     "data": {
      "text/plain": [
       "[[0, 0, 0, 0, 0]\n",
       " [0, 0, 0, 0, 0]\n",
       " [0, 0, 0, 0, 0]\n",
       " [0, 0, 0, 0, 0]\n",
       " [0, 0, 0, 0, 0]]"
      ]
     },
     "execution_count": 101,
     "metadata": {},
     "output_type": "execute_result"
    }
   ],
   "source": [
    "zeros(5,5)"
   ]
  },
  {
   "cell_type": "markdown",
   "metadata": {},
   "source": [
    "### Implementa una funcion eye(n) que crea la matriz identidad de nxn"
   ]
  },
  {
   "cell_type": "code",
   "execution_count": 87,
   "metadata": {
    "collapsed": true
   },
   "outputs": [],
   "source": [
    "def evaluate(a,b):\n",
    "    \"Evalua si son iguales y regresa 1, si no 0\"\n",
    "    if a == b:\n",
    "        return 1\n",
    "    else:\n",
    "        return 0\n",
    "\n",
    "def eye(n):\n",
    "    \"Crea matriz diagonal de dim = n x n\"\n",
    "    return Array([[evaluate(x,y) for x in range(n)] for y in range(n)])"
   ]
  },
  {
   "cell_type": "code",
   "execution_count": 88,
   "metadata": {},
   "outputs": [
    {
     "data": {
      "text/plain": [
       "[[1, 0, 0, 0, 0]\n",
       " [0, 1, 0, 0, 0]\n",
       " [0, 0, 1, 0, 0]\n",
       " [0, 0, 0, 1, 0]\n",
       " [0, 0, 0, 0, 1]]"
      ]
     },
     "execution_count": 88,
     "metadata": {},
     "output_type": "execute_result"
    }
   ],
   "source": [
    "eye(5)"
   ]
  },
  {
   "cell_type": "markdown",
   "metadata": {},
   "source": [
    "# Ejercicio4\n",
    "### Implementa la funcion de transposicion"
   ]
  },
  {
   "cell_type": "code",
   "execution_count": 89,
   "metadata": {},
   "outputs": [
    {
     "name": "stdout",
     "output_type": "stream",
     "text": [
      "Original: \n",
      "[[1, 2, 3, 6]\n",
      " [4, 5, 6, 11]\n",
      " [8, 9, 10, 49]\n",
      " [9, 12, 67, 1]]\n",
      "Transpuesta\n",
      "[[1, 4, 8, 9]\n",
      " [2, 5, 9, 12]\n",
      " [3, 6, 10, 67]\n",
      " [6, 11, 49, 1]]\n",
      "Transpuesta: \n",
      "[[1, 4, 8, 9]\n",
      " [2, 5, 9, 12]\n",
      " [3, 6, 10, 67]\n",
      " [6, 11, 49, 1]]\n"
     ]
    }
   ],
   "source": [
    "dato = Array([[1,2,3,6],[4,5,6,11],[8,9,10,49],[9,12,67,1]])\n",
    "print(\"Original: \")\n",
    "print(dato)\n",
    "print(\"Transpuesta\")\n",
    "print(dato.transpose())\n",
    "dato1 = Array([[1,2,3,6],[4,5,6,11],[8,9,10,49],[9,12,67,1]]).transpose()\n",
    "print(\"Transpuesta: \")\n",
    "print(dato1)"
   ]
  },
  {
   "cell_type": "markdown",
   "metadata": {},
   "source": [
    "# Ejercicio5\n",
    "###  Investiga como implementar el metodo de clase __radd__ "
   ]
  },
  {
   "cell_type": "code",
   "execution_count": 90,
   "metadata": {},
   "outputs": [
    {
     "name": "stdout",
     "output_type": "stream",
     "text": [
      "elemento1\n",
      "[[1, 2, 3]\n",
      " [4, 5, 6]\n",
      " [8, 9, 10]]\n",
      "elemento2\n",
      "[[1, 2, 71]\n",
      " [14, 15, 16]\n",
      " [28, 29, 20]]\n",
      "suma de ambos\n",
      "[[2, 4, 74]\n",
      " [18, 20, 22]\n",
      " [36, 38, 30]]\n",
      "suma de Array y escalar\n",
      "[[2, 3, 4]\n",
      " [5, 6, 7]\n",
      " [9, 10, 11]]\n",
      "suma de escalar y Array\n",
      "[[2, 3, 4]\n",
      " [5, 6, 7]\n",
      " [9, 10, 11]]\n"
     ]
    }
   ],
   "source": [
    "dato = Array([[1,2,3],[4,5,6],[8,9,10]])\n",
    "dato1 = Array([[1,2,71],[14,15,16],[28,29,20]])    \n",
    "print(\"elemento1\" )\n",
    "print(dato)\n",
    "print(\"elemento2\" )\n",
    "print(dato1)\n",
    "print(\"suma de ambos\")\n",
    "print(dato+dato1)\n",
    "print(\"suma de Array y escalar\")\n",
    "print(dato+1)\n",
    "print(\"suma de escalar y Array\")\n",
    "print(1+dato)"
   ]
  },
  {
   "cell_type": "markdown",
   "metadata": {},
   "source": [
    "### Implementa el metodo de clase __sub__ similar a la suma para poder calcular expresiones como A - B para A y B arrays o numeros."
   ]
  },
  {
   "cell_type": "code",
   "execution_count": 91,
   "metadata": {},
   "outputs": [
    {
     "name": "stdout",
     "output_type": "stream",
     "text": [
      "Resta de ambos\n",
      "[[0, 0, -68]\n",
      " [-10, -10, -10]\n",
      " [-20, -20, -10]]\n",
      "Resta de Array y escalar\n",
      "[[0, 1, 2]\n",
      " [3, 4, 5]\n",
      " [7, 8, 9]]\n",
      "Resta de escalar y Array\n",
      "[[0, 1, 2]\n",
      " [3, 4, 5]\n",
      " [7, 8, 9]]\n"
     ]
    }
   ],
   "source": [
    "print(\"Resta de ambos\")\n",
    "print(dato-dato1)\n",
    "print(\"Resta de Array y escalar\")\n",
    "print(dato-1)\n",
    "print(\"Resta de escalar y Array\")\n",
    "print(1-dato)\n",
    "    "
   ]
  },
  {
   "cell_type": "markdown",
   "metadata": {},
   "source": [
    "# Ejercicio6"
   ]
  },
  {
   "cell_type": "markdown",
   "metadata": {},
   "source": [
    "### Implementa las funciones __mul__ y __rmul__ para hacer multiplicacion matricial (y por un escalar)."
   ]
  },
  {
   "cell_type": "code",
   "execution_count": 92,
   "metadata": {},
   "outputs": [
    {
     "name": "stdout",
     "output_type": "stream",
     "text": [
      "primer elemento\n",
      "[[1, 2, 3]\n",
      " [4, 5, 6]\n",
      " [1, 2, 3]\n",
      " [4, 5, 6]]\n",
      "Segundo elemento\n",
      "[[1, 2, 8, 78]\n",
      " [14, 15, 12, 21]\n",
      " [28, 29, 78, 90]]\n",
      "multiplicacion\n",
      "[[113, 119, 266, 390]\n",
      " [242, 257, 560, 957]\n",
      " [113, 119, 266, 390]\n",
      " [242, 257, 560, 957]]\n",
      "multiplicacion de primer elemento por escalar 5\n",
      "[[5, 10, 15]\n",
      " [20, 25, 30]\n",
      " [5, 10, 15]\n",
      " [20, 25, 30]]\n",
      "multiplicacion de escalar 5 por primer elemento\n",
      "[[5, 10, 15]\n",
      " [20, 25, 30]\n",
      " [5, 10, 15]\n",
      " [20, 25, 30]]\n"
     ]
    }
   ],
   "source": [
    "dato = Array([[1,2,3],[4,5,6],[1,2,3],[4,5,6]])\n",
    "dato1 = Array([[1,2,8,78],[14,15,12,21],[28,29,78,90]])    \n",
    "print(\"primer elemento\")\n",
    "print(dato)\n",
    "print(\"Segundo elemento\")\n",
    "print(dato1)\n",
    "print (\"multiplicacion\")\n",
    "print(dato*dato1)\n",
    "print(\"multiplicacion de primer elemento por escalar 5\")\n",
    "print(dato * 5)\n",
    "print(\"multiplicacion de escalar 5 por primer elemento\")\n",
    "print(5*dato)"
   ]
  },
  {
   "cell_type": "markdown",
   "metadata": {},
   "source": [
    "# Ejercicio7\n",
    "### Implementa una funcion forward_subs que resuelva sistemas de ecuaciones de la forma $Lx = y$ con $L$ triangular inferior y $y$ cualquier Vector o Array de una columna. "
   ]
  },
  {
   "cell_type": "code",
   "execution_count": 93,
   "metadata": {
    "collapsed": true
   },
   "outputs": [],
   "source": [
    "def forward_subs(matrix,vector):\n",
    "    \"Resuelve matrices de la forma Lx = b\"\n",
    "    \n",
    "\n",
    "    \"\"\" Codigo de validacion, tamanios, matriz L\"\"\"\n",
    "    flag = False    \n",
    "    y = None\n",
    "    if type(matrix) == Array and type(vector) == Array:        \n",
    "        if matrix.shape[0] == vector.shape[0]:\n",
    "           if matrix.shape[0] == matrix.shape[1]: \n",
    "               for y in range(matrix.shape[0]):\n",
    "                   for x in range(matrix.shape[1]):\n",
    "                       if x>y:\n",
    "                           if not matrix[y,x] == 0:\n",
    "                               raise Exception(\"No es matriz L\")\n",
    "                           else:\n",
    "                               flag = True\n",
    "           else:\n",
    "                print(\"No es matriz cuadrada\")\n",
    "        else:\n",
    "            print(\"No concuerdan las dimensiones de la matriz y del vector\")\n",
    "    \n",
    "    if flag:\n",
    "        print(\"Es matriz L\")\n",
    "        y = []\n",
    "        for a in range(vector.shape[0]):\n",
    "            y.append(vector[a,0])\n",
    "            for b in range(a):\n",
    "                y[a]-=matrix[a,b]*y[b]                    \n",
    "            y[a] /= matrix[a,a]\n",
    "                \n",
    "    return y"
   ]
  },
  {
   "cell_type": "code",
   "execution_count": 94,
   "metadata": {},
   "outputs": [
    {
     "name": "stdout",
     "output_type": "stream",
     "text": [
      "Matriz: \n",
      "[[1, 0, 0, 0]\n",
      " [4, 2, 0, 0]\n",
      " [1, 2, 1, 0]\n",
      " [3, 4, 5, 2]]\n",
      "vector\n",
      "[[1]\n",
      " [2]\n",
      " [3]\n",
      " [6]]\n",
      "solucion de resolucion de Lx = b\n",
      "Es matriz L\n",
      "[1.0, -1.0, 4.0, -6.5]\n"
     ]
    }
   ],
   "source": [
    "dato = Array([[1,0,0,0],[4,2,0,0],[1,2,1,0],[3,4,5,2]])    \n",
    "print(\"Matriz: \")\n",
    "print(dato)\n",
    "print(\"vector\")\n",
    "vector = Array([[1],[2],[3],[6]])\n",
    "print(vector)\n",
    "print(\"solucion de resolucion de Lx = b\")\n",
    "print(forward_subs(dato,vector))"
   ]
  },
  {
   "cell_type": "markdown",
   "metadata": {},
   "source": [
    "# Ejercicio8\n",
    "### Implementa una funcion backward_subs que resuelva sistemas $Ux = y$ con $U$ triangular superior y y Vector o Array de una columna."
   ]
  },
  {
   "cell_type": "code",
   "execution_count": 95,
   "metadata": {
    "collapsed": true
   },
   "outputs": [],
   "source": [
    "def backward_subs(matrix, vector):\n",
    "    \"Resuelve matrices de la forma Lx = b\"\n",
    "    \"\"\" Codigo de validacion, tamanios, matriz L\"\"\"\n",
    "    flag = False    \n",
    "    y = None\n",
    "    if type(matrix) == Array and type(vector) == Array:        \n",
    "        if matrix.shape[0] == vector.shape[0]:\n",
    "           if matrix.shape[0] == matrix.shape[1]: \n",
    "               for y in range(matrix.shape[0]):\n",
    "                   for x in range(matrix.shape[1]):\n",
    "                       if x<y:\n",
    "                           if not matrix[y,x] == 0:\n",
    "                               raise Exception(\"No es matriz U\")\n",
    "                           else:\n",
    "                               flag = True\n",
    "           else:\n",
    "                print(\"No es matriz cuadrada\")\n",
    "        else:\n",
    "            print(\"No concuerdan las dimensiones de la matriz y del vector\")\n",
    "    \n",
    "    if flag:\n",
    "        print(\"Es matriz U\")\n",
    "        y = [0] * vector.shape[0]\n",
    "        for a in range(vector.shape[0]-1,-1,-1):\n",
    "            y[a] = vector[a,0]\n",
    "            for b in range(a+1,vector.shape[0]):\n",
    "                y[a]-=matrix[a,b]*y[b]                    \n",
    "            y[a] /= matrix[a,a]                \n",
    "            \n",
    "    return y"
   ]
  },
  {
   "cell_type": "code",
   "execution_count": 96,
   "metadata": {},
   "outputs": [
    {
     "name": "stdout",
     "output_type": "stream",
     "text": [
      "Matriz: \n",
      "[[1, 1]\n",
      " [0, 2]]\n",
      "vector\n",
      "[[12]\n",
      " [20]]\n",
      "solucion de resolucion de Ux = b\n",
      "Es matriz U\n",
      "[2.0, 10.0]\n"
     ]
    }
   ],
   "source": [
    "dato = Array([[1,1],[0,2]])\n",
    "print(\"Matriz: \")\n",
    "print(dato)\n",
    "print(\"vector\")\n",
    "vector = Array([[12],[20]])\n",
    "print(vector)\n",
    "print(\"solucion de resolucion de Ux = b\")\n",
    "print(backward_subs(dato,vector))"
   ]
  },
  {
   "cell_type": "markdown",
   "metadata": {},
   "source": [
    "# Ejercicio9\n",
    "### Implementa una funcion LU que reciba un Array  $A$ y devuelva 3 arrays $L$,$U$ y $P$ tales que  $PA = LU$ con $L$ trangular inferior, $U$ triangular superior y $P$ matriz de permutacion."
   ]
  },
  {
   "cell_type": "code",
   "execution_count": 97,
   "metadata": {
    "collapsed": true
   },
   "outputs": [],
   "source": [
    "def LU(A):    \n",
    "    \"Funcion para realizar descomposicion de matriz en PA = LU\"\n",
    "    if type(A == Array):\n",
    "        \n",
    "        L = [[0 for x in range(A.shape[1])] for y in range(A.shape[0])]        \n",
    "        for a in range(A.shape[0]):\n",
    "            L[a][a] = 1\n",
    "         \n",
    "        L = Array(L)\n",
    "        \n",
    "        \"\"\"Matriz de permutacion\"\"\"\n",
    "        list_tuples = [(0,0) for x in range(A.shape[0])]\n",
    "                    \n",
    "        for a in range(A.shape[0]):            \n",
    "            list_tuples[a] = (a,A.data[a])\n",
    "        \n",
    "        data = []\n",
    "        data.append((0,A.data[0]))\n",
    "        del list_tuples[0]            \n",
    "        \n",
    "        if len(list_tuples) == 1:\n",
    "            starting = 0\n",
    "        else:\n",
    "            starting = 1\n",
    "            \n",
    "        for row in range(starting,len(list_tuples)):     \n",
    "            temp = sorted(list_tuples, key=lambda value: value[1][row], reverse=True)\n",
    "            data += temp\n",
    "                                        \n",
    "        U = []\n",
    "        for row in data:\n",
    "            U.append(row[1])\n",
    "        \n",
    "        U = Array(U)\n",
    "            \n",
    "        permutation_matrix = [[0 for x in range(A.shape[0])] for y in range(A.shape[0])]        \n",
    "        permutation_matrix = Array(permutation_matrix)                \n",
    "        \n",
    "        for row in range(len(data)):    \n",
    "            permutation_matrix[row, data[row][0]] = 1   \n",
    "                       \n",
    "        n = A.shape[0]\n",
    "        for a in range(n):\n",
    "            for b in range(a+1,n):    \n",
    "                multiplicador = float((U[b,a]/U[a,a]))\n",
    "                L[b,a] = multiplicador\n",
    "                multiplicador= multiplicador*(-1)\n",
    "                for c in range(n):\t\t\t\t\t\t\n",
    "                    U[b,c] += U[a,c]*multiplicador\n",
    "        return [L,U,permutation_matrix]"
   ]
  },
  {
   "cell_type": "code",
   "execution_count": 98,
   "metadata": {},
   "outputs": [
    {
     "name": "stdout",
     "output_type": "stream",
     "text": [
      "Matriz original\n",
      "[[1, 1, -1]\n",
      " [1, -2, 3]\n",
      " [2, 3, 1]]\n",
      "Matrices de Lower, Upper y Permutacion son: \n",
      "L\n",
      "[[1, 0, 0]\n",
      " [2.0, 1, 0]\n",
      " [1.0, -3.0, 1]]\n",
      "U\n",
      "[[1, 1, -1]\n",
      " [0.0, 1.0, 3.0]\n",
      " [0.0, 0.0, 13.0]]\n",
      "P\n",
      "[[1, 0, 0]\n",
      " [0, 0, 1]\n",
      " [0, 1, 0]]\n"
     ]
    }
   ],
   "source": [
    "A = Array([[1,1,-1],[1,-2,3],[2,3,1]])\n",
    "#A = Array([[1,7,-1],[1,6,8],[2,3,7]])\n",
    "print(\"Matriz original\")\n",
    "print(A)    \n",
    "L,U,P = LU(A)\n",
    "print(\"Matrices de Lower, Upper y Permutacion son: \")\n",
    "print(\"L\")\n",
    "print(L)\n",
    "print(\"U\")\n",
    "print(U)\n",
    "print(\"P\")\n",
    "print(P)"
   ]
  },
  {
   "cell_type": "markdown",
   "metadata": {},
   "source": [
    "# Ejercicio10\n",
    "### Implementa una funcion lu_linsolve que resuelva cualquier sistema de ecuaciones Ax = y con A un Array y y un Vector o Array de una columna."
   ]
  },
  {
   "cell_type": "code",
   "execution_count": 99,
   "metadata": {
    "collapsed": true
   },
   "outputs": [],
   "source": [
    "def lu_linsolve(A,y):\n",
    "    \"Funcion para resolver sistemas de ecuaciones basado en la descomposicion LU\"\n",
    "    solucion = None\n",
    "    if type(A) == Array and type(y) == Array:\n",
    "        if A.shape[0] == y.shape[0]:\n",
    "            L,U,P = LU(A)\n",
    "            new_vector = []\n",
    "            for x in range(P.shape[0]):\n",
    "                for z in range(P.shape[1]):\n",
    "                    if(P[x,z] == 1):\n",
    "                        new_vector.append([y[z,0]])\n",
    "                        \n",
    "            new_vector = Array(new_vector)                        \n",
    "            x = Array([forward_subs(L,new_vector)])\n",
    "            solucion = backward_subs(U, x.transpose())\n",
    "                        \n",
    "        else:\n",
    "            print(\"No son compatibles Array y vector\")\n",
    "            print(\"Forma de matriz \")\n",
    "            print(A.shape)\n",
    "            print(\"Forma de vector\")\n",
    "            print(y.shape)\n",
    "    else:\n",
    "        print(\"No son estructuras de datos Array\")\n",
    "        \n",
    "    return solucion"
   ]
  },
  {
   "cell_type": "code",
   "execution_count": 100,
   "metadata": {},
   "outputs": [
    {
     "name": "stdout",
     "output_type": "stream",
     "text": [
      "La matriz es: \n",
      "[[1, 1, 3]\n",
      " [2, 4, 4]\n",
      " [2, 2, 2]]\n",
      "El vector es: \n",
      "[[30]\n",
      " [68]\n",
      " [36]]\n",
      "Es matriz L\n",
      "Es matriz U\n",
      "La solucion al sistema de ecuaciones es\n",
      "[2.0, 10.0, 6.0]\n"
     ]
    }
   ],
   "source": [
    "matriz = Array([[1,1,3],[2,4,4],[2,2,2]])\n",
    "print(\"La matriz es: \")\n",
    "print(matriz)\n",
    "vector = Array([[30],[68],[36]])    \n",
    "print(\"El vector es: \")\n",
    "print(vector)\n",
    "solucion = lu_linsolve(matriz,vector)\n",
    "print(\"La solucion al sistema de ecuaciones es\")\n",
    "print(solucion)"
   ]
  },
  {
   "cell_type": "code",
   "execution_count": null,
   "metadata": {
    "collapsed": true
   },
   "outputs": [],
   "source": []
  },
  {
   "cell_type": "code",
   "execution_count": null,
   "metadata": {
    "collapsed": true
   },
   "outputs": [],
   "source": []
  }
 ],
 "metadata": {
  "kernelspec": {
   "display_name": "Python 3",
   "language": "python",
   "name": "python3"
  },
  "language_info": {
   "codemirror_mode": {
    "name": "ipython",
    "version": 3
   },
   "file_extension": ".py",
   "mimetype": "text/x-python",
   "name": "python",
   "nbconvert_exporter": "python",
   "pygments_lexer": "ipython3",
   "version": "3.6.1"
  }
 },
 "nbformat": 4,
 "nbformat_minor": 2
}
