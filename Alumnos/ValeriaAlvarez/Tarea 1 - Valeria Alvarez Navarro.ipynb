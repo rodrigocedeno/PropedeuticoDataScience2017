{
 "cells": [
  {
   "cell_type": "markdown",
   "metadata": {},
   "source": [
    "# Ejercicio 0\n",
    "## Pruebas para entender qué tengo que hacer"
   ]
  },
  {
   "cell_type": "code",
   "execution_count": 5,
   "metadata": {
    "collapsed": true
   },
   "outputs": [],
   "source": [
    "class Matriz:\n",
    "    def __init__(self):\n",
    "        pass # this means do nothing in Python\n",
    "    def __repr__(self):\n",
    "        return \"[[2,3,5] \\n [7,11,13]]\"\n",
    "    def __str__(self):\n",
    "        return \"[[2,3,5] \\n [7,11,13]]\"\n"
   ]
  },
  {
   "cell_type": "code",
   "execution_count": 6,
   "metadata": {
    "collapsed": true
   },
   "outputs": [],
   "source": [
    "m=Matriz()"
   ]
  },
  {
   "cell_type": "code",
   "execution_count": 7,
   "metadata": {},
   "outputs": [
    {
     "data": {
      "text/plain": [
       "[[2,3,5] \n",
       " [7,11,13]]"
      ]
     },
     "execution_count": 7,
     "metadata": {},
     "output_type": "execute_result"
    }
   ],
   "source": [
    "m"
   ]
  },
  {
   "cell_type": "code",
   "execution_count": 8,
   "metadata": {},
   "outputs": [
    {
     "name": "stdout",
     "output_type": "stream",
     "text": [
      "[[2,3,5] \n",
      " [7,11,13]]\n"
     ]
    }
   ],
   "source": [
    "print(m)"
   ]
  },
  {
   "cell_type": "markdown",
   "metadata": {},
   "source": [
    "# Ejercicio 1\n",
    "## Imprimir como matriz"
   ]
  },
  {
   "cell_type": "code",
   "execution_count": 495,
   "metadata": {
    "collapsed": true
   },
   "outputs": [],
   "source": [
    "class Array:\n",
    "    \"Una clase minima para algebra lineal\"    \n",
    "    def __init__(self, list_of_rows): \n",
    "        \"Constructor y validador\"\n",
    "        # obtener dimensiones\n",
    "        self.data = list_of_rows\n",
    "        nrow = len(list_of_rows)\n",
    "        #  ___caso vector: redimensionar correctamente\n",
    "        if not isinstance(list_of_rows[0], list):\n",
    "            nrow = 1\n",
    "            self.data = [[x] for x in list_of_rows]\n",
    "        # ahora las columnas deben estar bien aunque sea un vector\n",
    "        ncol = len(self.data[0])\n",
    "        self.shape = (nrow, ncol)\n",
    "        # validar tamano correcto de filas\n",
    "        if any([len(r) != ncol for r in self.data]):\n",
    "            raise Exception(\"Las filas deben ser del mismo tamano\")\n",
    "            \n",
    "    def __repr__(self):\n",
    "        return \"\\n\".join(str(x) for x in self.data)\n",
    "    \n",
    "    def __str__(self):\n",
    "        return \"\\n\".join(repr(x) for x in self.data)"
   ]
  },
  {
   "cell_type": "code",
   "execution_count": 496,
   "metadata": {
    "collapsed": true
   },
   "outputs": [],
   "source": [
    "A = Array([[2,3,5], [7,11,13]])"
   ]
  },
  {
   "cell_type": "code",
   "execution_count": 497,
   "metadata": {},
   "outputs": [
    {
     "name": "stdout",
     "output_type": "stream",
     "text": [
      "[2, 3, 5]\n",
      "[7, 11, 13]\n"
     ]
    }
   ],
   "source": [
    "print(A)"
   ]
  },
  {
   "cell_type": "code",
   "execution_count": 499,
   "metadata": {},
   "outputs": [
    {
     "data": {
      "text/plain": [
       "[2, 3, 5]\n",
       "[7, 11, 13]"
      ]
     },
     "execution_count": 499,
     "metadata": {},
     "output_type": "execute_result"
    }
   ],
   "source": [
    "A"
   ]
  },
  {
   "cell_type": "markdown",
   "metadata": {},
   "source": [
    "# Ejercicio 2\n",
    "## Modificar/Leer elementos de un array"
   ]
  },
  {
   "cell_type": "code",
   "execution_count": 12,
   "metadata": {
    "collapsed": true
   },
   "outputs": [],
   "source": [
    "class Array:\n",
    "    \"Una clase minima para algebra lineal\"    \n",
    "    def __init__(self, list_of_rows): \n",
    "        \"Constructor y validador\"\n",
    "        # obtener dimensiones\n",
    "        self.data = list_of_rows\n",
    "        nrow = len(list_of_rows)\n",
    "        #  ___caso vector: redimensionar correctamente\n",
    "        if not isinstance(list_of_rows[0], list):\n",
    "            nrow = 1\n",
    "            self.data = [[x] for x in list_of_rows]\n",
    "        # ahora las columnas deben estar bien aunque sea un vector\n",
    "        ncol = len(self.data[0])\n",
    "        self.shape = (nrow, ncol)\n",
    "        # validar tamano correcto de filas\n",
    "        if any([len(r) != ncol for r in self.data]):\n",
    "            raise Exception(\"Las filas deben ser del mismo tamano\")\n",
    "    \n",
    "    def __getitem__(self, idx):\n",
    "        return self.data[idx[0]][idx[1]]"
   ]
  },
  {
   "cell_type": "code",
   "execution_count": 13,
   "metadata": {},
   "outputs": [
    {
     "data": {
      "text/plain": [
       "13"
      ]
     },
     "execution_count": 13,
     "metadata": {},
     "output_type": "execute_result"
    }
   ],
   "source": [
    "A=Array([[35,63,13],[10,8,7]])\n",
    "A[0,2]"
   ]
  },
  {
   "cell_type": "code",
   "execution_count": 524,
   "metadata": {
    "collapsed": true
   },
   "outputs": [],
   "source": [
    "class Array:\n",
    "    \"Una clase minima para algebra lineal\"    \n",
    "    def __init__(self, list_of_rows): \n",
    "        \"Constructor y validador\"\n",
    "        # obtener dimensiones\n",
    "        self.data = list_of_rows\n",
    "        nrow = len(list_of_rows)\n",
    "        #  ___caso vector: redimensionar correctamente\n",
    "        if not isinstance(list_of_rows[0], list):\n",
    "            nrow = 1\n",
    "            self.data = [[x] for x in list_of_rows]\n",
    "        # ahora las columnas deben estar bien aunque sea un vector\n",
    "        ncol = len(self.data[0])\n",
    "        self.shape = (nrow, ncol)\n",
    "        # validar tamano correcto de filas\n",
    "        if any([len(r) != ncol for r in self.data]):\n",
    "            raise Exception(\"Las filas deben ser del mismo tamano\")\n",
    "    \n",
    "    def __setitem__(self, idx, value):\n",
    "        self.data[idx[0]][idx[1]] = value\n",
    "        \n",
    "    def __repr__(self):\n",
    "        return \"\\n\".join(str(x) for x in self.data)\n",
    "    \n",
    "    def __str__(self):\n",
    "        return \"\\n\".join(repr(x) for x in self.data)"
   ]
  },
  {
   "cell_type": "code",
   "execution_count": 525,
   "metadata": {
    "collapsed": true
   },
   "outputs": [],
   "source": [
    "A=Array([[35,63,13],[10,8,7]])\n",
    "A[0,2]=8"
   ]
  },
  {
   "cell_type": "code",
   "execution_count": 526,
   "metadata": {},
   "outputs": [
    {
     "data": {
      "text/plain": [
       "[[35, 63, 8], [10, 8, 7]]"
      ]
     },
     "execution_count": 526,
     "metadata": {},
     "output_type": "execute_result"
    }
   ],
   "source": [
    "A.data"
   ]
  },
  {
   "cell_type": "code",
   "execution_count": 527,
   "metadata": {},
   "outputs": [
    {
     "name": "stdout",
     "output_type": "stream",
     "text": [
      "[35, 63, 8]\n",
      "[10, 8, 7]\n"
     ]
    }
   ],
   "source": [
    "print(A)"
   ]
  },
  {
   "cell_type": "markdown",
   "metadata": {},
   "source": [
    "# Ejercicio 3.1\n",
    "## Hacer la matriz identidad"
   ]
  },
  {
   "cell_type": "code",
   "execution_count": 77,
   "metadata": {},
   "outputs": [],
   "source": [
    "##ejercicio 3.1\n",
    "def zeros (x, y): \n",
    "    zeros = [[0 for x in range(x)] for y in range(y)]\n",
    "    return zeros"
   ]
  },
  {
   "cell_type": "code",
   "execution_count": 78,
   "metadata": {},
   "outputs": [],
   "source": [
    "Ma=zeros(5,5)"
   ]
  },
  {
   "cell_type": "code",
   "execution_count": 79,
   "metadata": {},
   "outputs": [
    {
     "name": "stdout",
     "output_type": "stream",
     "text": [
      "[[0, 0, 0, 0, 0], [0, 0, 0, 0, 0], [0, 0, 0, 0, 0], [0, 0, 0, 0, 0], [0, 0, 0, 0, 0]]\n"
     ]
    }
   ],
   "source": [
    "print(Ma)"
   ]
  },
  {
   "cell_type": "code",
   "execution_count": 80,
   "metadata": {
    "scrolled": true
   },
   "outputs": [
    {
     "data": {
      "text/plain": [
       "[[0, 0, 0, 0, 0],\n",
       " [0, 0, 0, 0, 0],\n",
       " [0, 0, 0, 0, 0],\n",
       " [0, 0, 0, 0, 0],\n",
       " [0, 0, 0, 0, 0]]"
      ]
     },
     "execution_count": 80,
     "metadata": {},
     "output_type": "execute_result"
    }
   ],
   "source": [
    "zeros(5,5)"
   ]
  },
  {
   "cell_type": "markdown",
   "metadata": {},
   "source": [
    "### Otra manera de hacer una matriz de ceros\n",
    "### Sólo que esta sólo puede ser cuadrada"
   ]
  },
  {
   "cell_type": "code",
   "execution_count": 87,
   "metadata": {
    "collapsed": true
   },
   "outputs": [],
   "source": [
    "def ceros(n):\n",
    "    ceros = [[0]*n for i in range(n)]\n",
    "    return ceros"
   ]
  },
  {
   "cell_type": "code",
   "execution_count": 88,
   "metadata": {},
   "outputs": [
    {
     "data": {
      "text/plain": [
       "[[0, 0, 0, 0, 0],\n",
       " [0, 0, 0, 0, 0],\n",
       " [0, 0, 0, 0, 0],\n",
       " [0, 0, 0, 0, 0],\n",
       " [0, 0, 0, 0, 0]]"
      ]
     },
     "execution_count": 88,
     "metadata": {},
     "output_type": "execute_result"
    }
   ],
   "source": [
    "ceros(5)"
   ]
  },
  {
   "cell_type": "markdown",
   "metadata": {},
   "source": [
    "# Ejercicio 3.2\n",
    "## Hacer la matriz identidad"
   ]
  },
  {
   "cell_type": "code",
   "execution_count": 75,
   "metadata": {},
   "outputs": [],
   "source": [
    "#Ejercicio 3.2\n",
    "def eye(n):\n",
    "    matrix = [[0]*n for i in range(n)]\n",
    "    for i in range(n):\n",
    "        matrix[i][i] = 1\n",
    "    return matrix\n",
    "    "
   ]
  },
  {
   "cell_type": "code",
   "execution_count": 76,
   "metadata": {},
   "outputs": [
    {
     "data": {
      "text/plain": [
       "[[1, 0, 0, 0, 0],\n",
       " [0, 1, 0, 0, 0],\n",
       " [0, 0, 1, 0, 0],\n",
       " [0, 0, 0, 1, 0],\n",
       " [0, 0, 0, 0, 1]]"
      ]
     },
     "execution_count": 76,
     "metadata": {},
     "output_type": "execute_result"
    }
   ],
   "source": [
    "eye(5)"
   ]
  },
  {
   "cell_type": "markdown",
   "metadata": {},
   "source": [
    "# Ejercicio 4\n",
    "## Hacer una matriz transpuesta"
   ]
  },
  {
   "cell_type": "code",
   "execution_count": 178,
   "metadata": {},
   "outputs": [],
   "source": [
    "def transpuesta(list_of_rows):\n",
    "        rows, cols = len(list_of_rows), len(list_of_rows[0])\n",
    "        transpuesta=[[list_of_rows[i][j] for i in range(rows)] for j in range(cols)]\n",
    "        return transpuesta"
   ]
  },
  {
   "cell_type": "code",
   "execution_count": 179,
   "metadata": {},
   "outputs": [
    {
     "data": {
      "text/plain": [
       "[[35, 63, 13], [10, 8, 7]]"
      ]
     },
     "execution_count": 179,
     "metadata": {},
     "output_type": "execute_result"
    }
   ],
   "source": [
    "A.data"
   ]
  },
  {
   "cell_type": "code",
   "execution_count": 180,
   "metadata": {},
   "outputs": [
    {
     "data": {
      "text/plain": [
       "[[35, 10], [63, 8], [13, 7]]"
      ]
     },
     "execution_count": 180,
     "metadata": {},
     "output_type": "execute_result"
    }
   ],
   "source": [
    "transpuesta(A.data)"
   ]
  },
  {
   "cell_type": "markdown",
   "metadata": {},
   "source": [
    "# Ejercicio 5\n",
    "## Suma de Matrices"
   ]
  },
  {
   "cell_type": "code",
   "execution_count": 185,
   "metadata": {
    "collapsed": true
   },
   "outputs": [],
   "source": [
    "class Array:\n",
    "    \"Una clase minima para algebra lineal\"    \n",
    "    def __init__(self, list_of_rows): \n",
    "        \"Constructor y validador\"\n",
    "        # obtener dimensiones\n",
    "        self.data = list_of_rows\n",
    "        nrow = len(list_of_rows)\n",
    "        #  ___caso vector: redimensionar correctamente\n",
    "        if not isinstance(list_of_rows[0], list):\n",
    "            nrow = 1\n",
    "            self.data = [[x] for x in list_of_rows]\n",
    "        # ahora las columnas deben estar bien aunque sea un vector\n",
    "        ncol = len(self.data[0])\n",
    "        self.shape = (nrow, ncol)\n",
    "        # validar tamano correcto de filas\n",
    "        if any([len(r) != ncol for r in self.data]):\n",
    "            raise Exception(\"Las filas deben ser del mismo tamano\")\n",
    "        \n",
    "    def __add__(self, other):\n",
    "        \"Hora de sumar\"\n",
    "        if isinstance(other, Array):\n",
    "            if self.shape != other.shape:\n",
    "                raise Exception(\"Las dimensiones son distintas!\")\n",
    "            rows, cols = self.shape\n",
    "            newArray = Array([[0. for c in range(cols)] for r in range(rows)])\n",
    "            for r in range(rows):\n",
    "                for c in range(cols):\n",
    "                    newArray.data[r][c] = self.data[r][c] + other.data[r][c]\n",
    "            return newArray\n",
    "        elif isinstance(2, (int, float, complex)): # en caso de que el lado derecho sea solo un numero\n",
    "            rows, cols = self.shape\n",
    "            newArray = Array([[0. for c in range(cols)] for r in range(rows)])\n",
    "            for r in range(rows):\n",
    "                for c in range(cols):\n",
    "                    newArray.data[r][c] = self.data[r][c] + other\n",
    "            return newArray\n",
    "        elif isinstance(2, (int, float, complex)): # en caso de que el lado izquierdo sea solo un numero\n",
    "            rows, cols = self.shape\n",
    "            newArray = Array([[0. for c in range(cols)] for r in range(rows)])\n",
    "            for r in range(rows):\n",
    "                for c in range(cols):\n",
    "                    newArray.data[r][c] = other + self.data[r][c] \n",
    "            return newArray\n",
    "        else:\n",
    "            return NotImplemented # es un tipo de error particular usado en estos metodos"
   ]
  },
  {
   "cell_type": "code",
   "execution_count": 186,
   "metadata": {},
   "outputs": [
    {
     "data": {
      "text/plain": [
       "[[2, 3], [4, 5]]"
      ]
     },
     "execution_count": 186,
     "metadata": {},
     "output_type": "execute_result"
    }
   ],
   "source": [
    "A = Array([[1,2], [3,4]])\n",
    "C = A + 1\n",
    "C.data"
   ]
  },
  {
   "cell_type": "code",
   "execution_count": 187,
   "metadata": {},
   "outputs": [
    {
     "data": {
      "text/plain": [
       "[[2, 3], [4, 5]]"
      ]
     },
     "execution_count": 187,
     "metadata": {},
     "output_type": "execute_result"
    }
   ],
   "source": [
    "D = A + 1\n",
    "D.data"
   ]
  },
  {
   "cell_type": "code",
   "execution_count": 330,
   "metadata": {},
   "outputs": [],
   "source": [
    "class Array:\n",
    "    \"Una clase minima para algebra lineal\"    \n",
    "    def __init__(self, list_of_rows): \n",
    "        \"Constructor y validador\"\n",
    "        # obtener dimensiones\n",
    "        self.data = list_of_rows\n",
    "        nrow = len(list_of_rows)\n",
    "        #  ___caso vector: redimensionar correctamente\n",
    "        if not isinstance(list_of_rows[0], list):\n",
    "            nrow = 1\n",
    "            self.data = [[x] for x in list_of_rows]\n",
    "        # ahora las columnas deben estar bien aunque sea un vector\n",
    "        ncol = len(self.data[0])\n",
    "        self.shape = (nrow, ncol)\n",
    "        # validar tamano correcto de filas\n",
    "        if any([len(r) != ncol for r in self.data]):\n",
    "            raise Exception(\"Las filas deben ser del mismo tamano\")\n",
    "        \n",
    "    def __add__(self, other):\n",
    "        \"Hora de sumar\"\n",
    "        if isinstance(other, Array):\n",
    "            if self.shape != other.shape:\n",
    "                raise Exception(\"Las dimensiones son distintas!\")\n",
    "            rows, cols = self.shape\n",
    "            newArray = Array([[0. for c in range(cols)] for r in range(rows)])\n",
    "            for r in range(rows):\n",
    "                for c in range(cols):\n",
    "                    newArray.data[r][c] = self.data[r][c] + other.data[r][c]\n",
    "            return newArray\n",
    "        elif isinstance(2, (int, float, complex)): # en caso de que el lado derecho sea solo un numero\n",
    "            rows, cols = self.shape\n",
    "            newArray = Array([[0. for c in range(cols)] for r in range(rows)])\n",
    "            for r in range(rows):\n",
    "                for c in range(cols):\n",
    "                    newArray.data[r][c] = self.data[r][c] + other\n",
    "            return newArray\n",
    "        else:\n",
    "            return NotImplemented # es un tipo de error particular usado en estos metodos\n",
    "        \n",
    "    def __radd__(self, other):\n",
    "        if isinstance(1, (int, float, complex)): # en caso de que el lado derecho sea solo un numero\n",
    "            rows, cols = self.shape\n",
    "            newArray = Array([[0. for c in range(cols)] for r in range(rows)])\n",
    "            for r in range(rows):\n",
    "                for c in range(cols):\n",
    "                    newArray.data[r][c] = other + self.data[r][c]\n",
    "            return newArray\n",
    "        else:\n",
    "            return NotImplemented # es un tipo de error particular usado en estos metodos\n",
    "             \n",
    "        \n",
    "    def __sub__(self, other):\n",
    "        \"Hora de restar\"\n",
    "        if isinstance(other, Array):\n",
    "            if self.shape != other.shape:\n",
    "                raise Exception(\"Las dimensiones son distintas!\")\n",
    "            rows, cols = self.shape\n",
    "            newArray = Array([[0. for c in range(cols)] for r in range(rows)])\n",
    "            for r in range(rows):\n",
    "                for c in range(cols):\n",
    "                    newArray.data[r][c] = self.data[r][c] - other.data[r][c]\n",
    "            return newArray\n",
    "        elif isinstance(2, (int, float, complex)): # en caso de que el lado derecho sea solo un numero\n",
    "            rows, cols = self.shape\n",
    "            newArray = Array([[0. for c in range(cols)] for r in range(rows)])\n",
    "            for r in range(rows):\n",
    "                for c in range(cols):\n",
    "                    newArray.data[r][c] = self.data[r][c] - other\n",
    "            return newArray\n",
    "        else:\n",
    "            return NotImplemented # es un tipo de error particular usado en estos metodos\n",
    "        "
   ]
  },
  {
   "cell_type": "code",
   "execution_count": 333,
   "metadata": {},
   "outputs": [
    {
     "data": {
      "text/plain": [
       "[[-2, -1], [0, 1]]"
      ]
     },
     "execution_count": 333,
     "metadata": {},
     "output_type": "execute_result"
    }
   ],
   "source": [
    "A = Array([[1,2], [3,4]])\n",
    "C = -3+A\n",
    "C.data"
   ]
  },
  {
   "cell_type": "markdown",
   "metadata": {},
   "source": [
    "# Hacer una matriz con el mismo número en todas las entradas"
   ]
  },
  {
   "cell_type": "code",
   "execution_count": 318,
   "metadata": {},
   "outputs": [],
   "source": [
    "def const(other, rows, cols):\n",
    "    constant = Array ([[[other]*cols for c in range(rows)]])\n",
    "    return constant"
   ]
  },
  {
   "cell_type": "code",
   "execution_count": 323,
   "metadata": {},
   "outputs": [],
   "source": [
    "x = const (3,5,4)"
   ]
  },
  {
   "cell_type": "code",
   "execution_count": 334,
   "metadata": {},
   "outputs": [
    {
     "data": {
      "text/plain": [
       "[[[3, 3, 3, 3], [3, 3, 3, 3], [3, 3, 3, 3], [3, 3, 3, 3], [3, 3, 3, 3]]]"
      ]
     },
     "execution_count": 334,
     "metadata": {},
     "output_type": "execute_result"
    }
   ],
   "source": [
    "x.data"
   ]
  },
  {
   "cell_type": "markdown",
   "metadata": {},
   "source": [
    "# Ejercicio 6\n",
    "## Multiplicación de Matrices"
   ]
  },
  {
   "cell_type": "code",
   "execution_count": 520,
   "metadata": {},
   "outputs": [],
   "source": [
    "class Array:\n",
    "    \"Una clase minima para algebra lineal\"    \n",
    "    def __init__(self, list_of_rows): \n",
    "        \"Constructor y validador\"\n",
    "        # obtener dimensiones\n",
    "        self.data = list_of_rows\n",
    "        nrow = len(list_of_rows)\n",
    "        #  ___caso vector: redimensionar correctamente\n",
    "        if not isinstance(list_of_rows[0], list):\n",
    "            nrow = 1\n",
    "            self.data = [[x] for x in list_of_rows]\n",
    "        # ahora las columnas deben estar bien aunque sea un vector\n",
    "        ncol = len(self.data[0])\n",
    "        self.shape = (nrow, ncol)\n",
    "        # validar tamano correcto de filas\n",
    "        if any([len(r) != ncol for r in self.data]):\n",
    "            raise Exception(\"Las filas deben ser del mismo tamano\")\n",
    "        \n",
    "    def __mul__(self, other):\n",
    "        \"Hora de multiplicar\"\n",
    "        if isinstance(other, Array):\n",
    "            if self.shape[1] != other.shape[0]:\n",
    "                raise Exception(\"Las dimensiones de filas y columnas no coinciden!\")\n",
    "            rows1, cols1 = self.shape\n",
    "            rows2, cols2 = other.shape\n",
    "            Array_mult = Array([[0. for c in range (cols2)] for r in range(rows1)])\n",
    "            for r in range(rows1):\n",
    "                for c in range(cols2):\n",
    "                    for k in range(rows2):\n",
    "                        Array_mult.data[r][c] += self.data[r][k] * other.data[k][c]\n",
    "            return Array_mult\n",
    "        elif isinstance(2, (int, float, complex)): # Multiplica por un escalar\n",
    "            rows1, cols1 = self.shape\n",
    "            Array_mult = Array([[0. for c in range(cols1)] for r in range(rows1)])\n",
    "            for r in range(rows1):\n",
    "                for c in range(cols1):\n",
    "                    for k in range(rows1):\n",
    "                        Array_mult.data[r][c] = (self.data[r][c] * other)\n",
    "            return Array_mult\n",
    "        else:\n",
    "            return NotImplemented # es un tipo de error particular usado en estos metodos\n",
    "        "
   ]
  },
  {
   "cell_type": "code",
   "execution_count": 521,
   "metadata": {
    "scrolled": true
   },
   "outputs": [
    {
     "data": {
      "text/plain": [
       "[[7.0, 10.0, 13.0], [15.0, 22.0, 29.0]]"
      ]
     },
     "execution_count": 521,
     "metadata": {},
     "output_type": "execute_result"
    }
   ],
   "source": [
    "A = Array ([[1,2], [3,4]])\n",
    "B = Array ([[1,2,3], [3,4,5]])\n",
    "C = A * B\n",
    "C.data"
   ]
  },
  {
   "cell_type": "code",
   "execution_count": 523,
   "metadata": {},
   "outputs": [
    {
     "data": {
      "text/plain": [
       "[[5, 10], [15, 20]]"
      ]
     },
     "execution_count": 523,
     "metadata": {},
     "output_type": "execute_result"
    }
   ],
   "source": [
    "A = Array ([[1,2], [3,4]])\n",
    "C = A * 5\n",
    "C.data"
   ]
  },
  {
   "cell_type": "markdown",
   "metadata": {},
   "source": [
    "## Otra manera de hacer multiplicación de matrices"
   ]
  },
  {
   "cell_type": "code",
   "execution_count": 433,
   "metadata": {
    "collapsed": true
   },
   "outputs": [],
   "source": [
    "def matmult(m1,m2):\n",
    "    r=[]\n",
    "    m=[]\n",
    "    for i in range(len(m1)):\n",
    "        for j in range(len(m2[0])):\n",
    "            sums=0\n",
    "            for k in range(len(m2)):\n",
    "                sums=sums+(m1[i][k]*m2[k][j])\n",
    "            r.append(sums)\n",
    "        m.append(r)\n",
    "        r=[]\n",
    "    return m"
   ]
  },
  {
   "cell_type": "code",
   "execution_count": 436,
   "metadata": {},
   "outputs": [],
   "source": [
    "A = [[4,6], [7,8]]\n",
    "B = [[1,2,3], [3,4,5]]\n",
    "c=matmult(A,B)"
   ]
  },
  {
   "cell_type": "code",
   "execution_count": 437,
   "metadata": {},
   "outputs": [
    {
     "data": {
      "text/plain": [
       "[[22, 32, 42], [31, 46, 61]]"
      ]
     },
     "execution_count": 437,
     "metadata": {},
     "output_type": "execute_result"
    }
   ],
   "source": [
    "c"
   ]
  },
  {
   "cell_type": "code",
   "execution_count": 485,
   "metadata": {},
   "outputs": [],
   "source": [
    "def cmatmult(m1,m2):\n",
    "    r=[]\n",
    "    m=[]\n",
    "    for i in range(len(m1)):\n",
    "        for j in range(len(m1[0])):\n",
    "            sums=0\n",
    "            for k in range(len(m1)):\n",
    "                sums=(m1[i][j]*m2)\n",
    "            r.append(sums)\n",
    "        m.append(r)\n",
    "        r=[]\n",
    "    return m     "
   ]
  },
  {
   "cell_type": "code",
   "execution_count": 486,
   "metadata": {},
   "outputs": [],
   "source": [
    "A = [[1,2], [3,4]]\n",
    "c=cmatmult(A,3)"
   ]
  },
  {
   "cell_type": "code",
   "execution_count": 487,
   "metadata": {},
   "outputs": [
    {
     "data": {
      "text/plain": [
       "[[3, 6], [9, 12]]"
      ]
     },
     "execution_count": 487,
     "metadata": {},
     "output_type": "execute_result"
    }
   ],
   "source": [
    "c"
   ]
  },
  {
   "cell_type": "code",
   "execution_count": null,
   "metadata": {
    "collapsed": true
   },
   "outputs": [],
   "source": []
  }
 ],
 "metadata": {
  "kernelspec": {
   "display_name": "Python 3",
   "language": "python",
   "name": "python3"
  },
  "language_info": {
   "codemirror_mode": {
    "name": "ipython",
    "version": 3
   },
   "file_extension": ".py",
   "mimetype": "text/x-python",
   "name": "python",
   "nbconvert_exporter": "python",
   "pygments_lexer": "ipython3",
   "version": "3.6.1"
  }
 },
 "nbformat": 4,
 "nbformat_minor": 2
}
