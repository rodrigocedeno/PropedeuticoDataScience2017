{
 "cells": [
  {
   "cell_type": "markdown",
   "metadata": {},
   "source": [
    "# Tarea 1 Fco. Bahena 000123084"
   ]
  },
  {
   "cell_type": "markdown",
   "metadata": {},
   "source": [
    "### Clase Matriz con métodos de la tarea. Ejercicios del 1 al 6"
   ]
  },
  {
   "cell_type": "code",
   "execution_count": 227,
   "metadata": {
    "collapsed": false
   },
   "outputs": [],
   "source": [
    "class Array:\n",
    "    \"Una clase minima para algebra lineal\"    \n",
    "    def __init__(self, list_of_rows): \n",
    "        \"Constructor\"\n",
    "        self.data = list_of_rows\n",
    "        nrow = len(list_of_rows)\n",
    "        \n",
    "        #Para el caso que sea un vector\n",
    "        if not isinstance(list_of_rows[0], list):\n",
    "            self.data = [[x] for x in list_of_rows]\n",
    "            \n",
    "        # ahora las columnas deben estar bien aunque sea un vector\n",
    "        self.shape = (len(list_of_rows), len(self.data[0]))\n",
    "        \n",
    "        if any([len(r) != len(self.data[0]) for r in self.data]):\n",
    "            raise Exception(\"Las filas deben ser del mismo tamano\")\n",
    "        \n",
    "    def __repr__(self):\n",
    "        \n",
    "        n = len(self.data)  \n",
    "        str_rep = '#'* 20 + '\\n\\nYo soy la matriz:\\n\\n'\n",
    "        for i in range(n):  \n",
    "            str_rep += str(self.data[i]) + '\\n'\n",
    "        str_rep +='\\n' + '#'*20\n",
    "        \n",
    "        return str_rep\n",
    "    \n",
    "    def __str__(self):\n",
    "        \n",
    "        n = len(self.data)  \n",
    "        str_rep = '#'* 20 + '\\n\\nYo soy la matriz:\\n\\n'\n",
    "        for i in range(n):  \n",
    "            str_rep += str(self.data[i]) + '\\n'\n",
    "        str_rep +='\\n' + '#'*20\n",
    "        \n",
    "        return str_rep\n",
    "    \n",
    "    def __getitem__(self, idx):\n",
    "        return self.data[idx[0]][idx[1]]\n",
    "    \n",
    "    def __setitem__(self, idx, new_value):\n",
    "        \n",
    "        self.data[idx[0]][idx[1]] = new_value\n",
    "        \n",
    "        return self.data[idx[0]][idx[1]]\n",
    "    \n",
    "    def transpose(self):\n",
    "        \"\"\"\n",
    "        Return the transpose matrix.\n",
    "        \"\"\"\n",
    "        \n",
    "\n",
    "        matrix_t = zeros(self.shape[1], self.shape[0])\n",
    "\n",
    "\n",
    "\n",
    "        for i in range(self.shape[1]):\n",
    "\n",
    "            for j in range(self.shape[0]):\n",
    "\n",
    "                matrix_t[i,j] = self[j,i] \n",
    "\n",
    "        return matrix_t\n",
    "    \n",
    "    def __add__(self, other):\n",
    "        \"\"\"\n",
    "        \n",
    "        sum of matrixes\n",
    "        \n",
    "        \"\"\"\n",
    "        if isinstance(other, Array):\n",
    "            if self.shape != other.shape:\n",
    "                raise Exception(\"Las dimensiones son distintas!\")\n",
    "            rows, cols = self.shape\n",
    "            newArray = Array([[0. for c in range(cols)] for r in range(rows)])\n",
    "            for r in range(rows):\n",
    "                for c in range(cols):\n",
    "                    newArray.data[r][c] = self.data[r][c] + other.data[r][c]\n",
    "            return newArray\n",
    "        elif isinstance(other, (int, float, complex)): # en caso de que el lado derecho sea solo un numero\n",
    "            rows, cols = self.shape\n",
    "            newArray = Array([[0. for c in range(cols)] for r in range(rows)])\n",
    "            for r in range(rows):\n",
    "                for c in range(cols):\n",
    "                    newArray.data[r][c] = self.data[r][c] + other\n",
    "            return newArray\n",
    "        else:\n",
    "            return NotImplemented\n",
    "        \n",
    "    def __radd__(self, other):\n",
    "            \n",
    "        rows, cols = self.shape\n",
    "        matrix = zeros(rows,cols)\n",
    "            \n",
    "        if isinstance(other, (int,float,complex)):\n",
    "            for i in range(rows):\n",
    "                for j in range(cols):\n",
    "                    matrix[i,j] = self[i,j] + other\n",
    "\n",
    "            return matrix\n",
    "        else:\n",
    "            return NotImplemented\n",
    "\n",
    "    def __sub__(self, other):\n",
    "            \"\"\"\n",
    "\n",
    "            substraction of matrixes\n",
    "\n",
    "            \"\"\"\n",
    "            if isinstance(other, Array):\n",
    "                if self.shape != other.shape:\n",
    "                    raise Exception(\"Las dimensiones son distintas!\")\n",
    "                rows, cols = self.shape\n",
    "                newArray = Array([[0. for c in range(cols)] for r in range(rows)])\n",
    "                for r in range(rows):\n",
    "                    for c in range(cols):\n",
    "                        newArray.data[r][c] = self.data[r][c] - other.data[r][c]\n",
    "                return newArray\n",
    "            elif isinstance(other, (int, float, complex)): # en caso de que el lado derecho sea solo un numero\n",
    "                rows, cols = self.shape\n",
    "                newArray = Array([[0. for c in range(cols)] for r in range(rows)])\n",
    "                for r in range(rows):\n",
    "                    for c in range(cols):\n",
    "                        newArray.data[r][c] = self.data[r][c] - other\n",
    "                return newArray\n",
    "            else:\n",
    "                return NotImplemented\n",
    "            \n",
    "    def __mul__(self, other):\n",
    "        \"\"\"\n",
    "        \n",
    "        multiplication of matrixes\n",
    "        \n",
    "        \"\"\"\n",
    "        if isinstance(other, Array):\n",
    "            if self.shape[1] != other.shape[0]:\n",
    "                raise Exception(\"\"\"Número de Columnas de la primera es distinta de \\n\n",
    "                        el número de filas de la segunda\"\"\")\n",
    "            rows, cols = self.shape[0], other.shape[1]\n",
    "            newArray = zeros(rows,cols)\n",
    "            ma2_t = ma2.transpose()\n",
    "            \n",
    "            for r in range(rows):\n",
    "                for c in range(cols):\n",
    "                    \n",
    "                    mult_sum = 0\n",
    "                    for i in range(self.shape[1]):\n",
    "                        mult_sum += ma1[r,:][i] * ma2_t[c,:][i] \n",
    "                        newArray[r,c] = mult_sum\n",
    "        \n",
    "            return newArray\n",
    "        elif isinstance(other, (int, float, complex)): # en caso de que el lado derecho sea solo un numero\n",
    "            rows, cols = self.shape\n",
    "            newArray = zeros(rows,cols)\n",
    "            for r in range(rows):\n",
    "                for c in range(cols):\n",
    "                    newArray.data[r][c] = self.data[r][c] * other\n",
    "            return newArray\n",
    "        else:\n",
    "            return NotImplemented\n",
    "        \n",
    "    def __rmul__(self, other):\n",
    "            \n",
    "        if isinstance(other, (int, float, complex)):\n",
    "\n",
    "            rows, cols = self.shape\n",
    "            newArray = zeros(rows,cols)\n",
    "        for r in range(rows):\n",
    "            for c in range(cols):\n",
    "                newArray.data[r][c] = self.data[r][c] * other\n",
    "            return newArray\n",
    "        else:\n",
    "            return NotImplemented\n",
    "                \n",
    "            \n",
    "        \n",
    "            "
   ]
  },
  {
   "cell_type": "code",
   "execution_count": 5,
   "metadata": {
    "collapsed": false
   },
   "outputs": [
    {
     "name": "stdout",
     "output_type": "stream",
     "text": [
      "####################\n",
      "\n",
      "Yo soy la matriz:\n",
      "\n",
      "[1, 2, 3]\n",
      "[2, 3, 4]\n",
      "[4, 5, 6]\n",
      "\n",
      "####################\n",
      "3\n"
     ]
    }
   ],
   "source": [
    "m = Array([[1,2,3],[2,3,4],[4,5,6]])\n",
    "print(m)\n",
    "print(m[1,1])\n",
    "m[1,1]=5\n",
    "m[1,1]\n",
    "matriz_chaca  = Array([[1,2,4],[1,2]])"
   ]
  },
  {
   "cell_type": "code",
   "execution_count": null,
   "metadata": {
    "collapsed": false
   },
   "outputs": [],
   "source": []
  },
  {
   "cell_type": "code",
   "execution_count": null,
   "metadata": {
    "collapsed": false
   },
   "outputs": [],
   "source": []
  },
  {
   "cell_type": "markdown",
   "metadata": {},
   "source": [
    "### Métodos independientes \n",
    "_Implementar método que creee una matriz de ceros._"
   ]
  },
  {
   "cell_type": "code",
   "execution_count": 26,
   "metadata": {
    "collapsed": false
   },
   "outputs": [],
   "source": [
    "\n",
    "\n",
    "def zeros(nrow, ncol):\n",
    "    \n",
    "    \"\"\"\n",
    "    This method creates a matrix of zeros, given number of rows\n",
    "    and columns.\n",
    "    \"\"\"\n",
    "    \n",
    "    from itertools import repeat\n",
    "\n",
    "    list_of_rows = []\n",
    "\n",
    "    for i in range(nrow):\n",
    "        \n",
    "        row = []\n",
    "        \n",
    "        row.extend(repeat(0, ncol))\n",
    "        list_of_rows.append(row)\n",
    "\n",
    "    matrix = Array(list_of_rows)\n",
    "    \n",
    "    return matrix\n",
    "\n",
    "def eye(nrow):\n",
    "    \n",
    "    \"\"\" \n",
    "    This method creates an identity matrix.\n",
    "    \"\"\"\n",
    "    \n",
    "    zeros_matrix = zeros(nrow,nrow)\n",
    "    \n",
    "    for i in range(nrow):\n",
    "        \n",
    "        zeros_matrix[i,i] = 1\n",
    "        \n",
    "    eye_matrix = zeros_matrix\n",
    "        \n",
    "    return eye_matrix\n",
    "        \n",
    "    \n",
    "    \n",
    "    "
   ]
  },
  {
   "cell_type": "code",
   "execution_count": 28,
   "metadata": {
    "collapsed": false
   },
   "outputs": [
    {
     "name": "stdout",
     "output_type": "stream",
     "text": [
      "####################\n",
      "\n",
      "Yo soy la matriz:\n",
      "\n",
      "[0]\n",
      "[0]\n",
      "[0]\n",
      "[0]\n",
      "\n",
      "####################\n"
     ]
    },
    {
     "data": {
      "text/plain": [
       "####################\n",
       "\n",
       "Yo soy la matriz:\n",
       "\n",
       "[1, 0, 0, 0]\n",
       "[0, 1, 0, 0]\n",
       "[0, 0, 1, 0]\n",
       "[0, 0, 0, 1]\n",
       "\n",
       "####################"
      ]
     },
     "execution_count": 28,
     "metadata": {},
     "output_type": "execute_result"
    }
   ],
   "source": [
    "pruebac = zeros(4,1)\n",
    "print(pruebac)\n",
    "\n",
    "eye2 = eye(4)\n",
    "eye2"
   ]
  },
  {
   "cell_type": "markdown",
   "metadata": {},
   "source": [
    "### Ejercicio 4\n",
    "_La Transpuesta_"
   ]
  },
  {
   "cell_type": "code",
   "execution_count": 51,
   "metadata": {
    "collapsed": false,
    "scrolled": true
   },
   "outputs": [
    {
     "name": "stdout",
     "output_type": "stream",
     "text": [
      "####################\n",
      "\n",
      "Yo soy la matriz:\n",
      "\n",
      "[1, 2, 3]\n",
      "[4, 5, 6]\n",
      "\n",
      "####################\n",
      "####################\n",
      "\n",
      "Yo soy la matriz:\n",
      "\n",
      "[1, 4]\n",
      "[2, 5]\n",
      "[3, 6]\n",
      "\n",
      "####################\n"
     ]
    }
   ],
   "source": [
    "matrix_prueba = Array([[1,2,3],[4,5,6]])\n",
    "print(matrix_prueba)\n",
    "print(matrix_prueba.transpose())\n"
   ]
  },
  {
   "cell_type": "markdown",
   "metadata": {},
   "source": [
    "## Ejercicio 5\n",
    "1. _implementar radd en la suma para que sume 1 + A = A + 1_\n",
    "2. _implementar sub para la resta  de la forma A-B y A-2_"
   ]
  },
  {
   "cell_type": "markdown",
   "metadata": {},
   "source": [
    "_Parte 1_"
   ]
  },
  {
   "cell_type": "code",
   "execution_count": 149,
   "metadata": {
    "collapsed": false
   },
   "outputs": [
    {
     "name": "stdout",
     "output_type": "stream",
     "text": [
      "####################\n",
      "\n",
      "Yo soy la matriz:\n",
      "\n",
      "[1, 2, 3]\n",
      "[4, 5, 6]\n",
      "\n",
      "####################\n"
     ]
    },
    {
     "data": {
      "text/plain": [
       "####################\n",
       "\n",
       "Yo soy la matriz:\n",
       "\n",
       "[3, 4, 5]\n",
       "[6, 7, 8]\n",
       "\n",
       "####################"
      ]
     },
     "execution_count": 149,
     "metadata": {},
     "output_type": "execute_result"
    }
   ],
   "source": [
    "mp = Array([[1,2,3],[4,5,6]])\n",
    "print(mp)\n",
    "mp = 2 + mp\n",
    "mp"
   ]
  },
  {
   "cell_type": "markdown",
   "metadata": {},
   "source": [
    "_Parte 2_ La resta"
   ]
  },
  {
   "cell_type": "code",
   "execution_count": 151,
   "metadata": {
    "collapsed": false
   },
   "outputs": [
    {
     "data": {
      "text/plain": [
       "####################\n",
       "\n",
       "Yo soy la matriz:\n",
       "\n",
       "[0, 1, 2]\n",
       "[3, 4, 5]\n",
       "\n",
       "####################"
      ]
     },
     "execution_count": 151,
     "metadata": {},
     "output_type": "execute_result"
    }
   ],
   "source": [
    "mp - 3"
   ]
  },
  {
   "cell_type": "markdown",
   "metadata": {},
   "source": [
    "## Ejercicio 6, la multiplicación "
   ]
  },
  {
   "cell_type": "code",
   "execution_count": 153,
   "metadata": {
    "collapsed": true
   },
   "outputs": [],
   "source": []
  },
  {
   "cell_type": "code",
   "execution_count": 218,
   "metadata": {
    "collapsed": false
   },
   "outputs": [
    {
     "name": "stdout",
     "output_type": "stream",
     "text": [
      "####################\n",
      "\n",
      "Yo soy la matriz:\n",
      "\n",
      "[1, 1, 2, 2]\n",
      "[1, 2, 1, 1]\n",
      "[2, 1, 1, 1]\n",
      "\n",
      "#################### ####################\n",
      "\n",
      "Yo soy la matriz:\n",
      "\n",
      "[1, 1, 2]\n",
      "[1, 2, 1]\n",
      "[1, 2, 1]\n",
      "[2, 2, 2]\n",
      "\n",
      "####################\n"
     ]
    },
    {
     "data": {
      "text/plain": [
       "####################\n",
       "\n",
       "Yo soy la matriz:\n",
       "\n",
       "[8, 8, 8]\n",
       "[8, 8, 8]\n",
       "[8, 8, 8]\n",
       "\n",
       "####################"
      ]
     },
     "execution_count": 218,
     "metadata": {},
     "output_type": "execute_result"
    }
   ],
   "source": [
    "ma1 = Array([[1,1,2,2],[1,2,1,1],[2,1,1,1]])\n",
    "ma2 = Array([[1,1,2],[1,2,1],[1,2,1],[2,2,2]])\n",
    "print(ma1,ma2)\n",
    "ma1 * ma2"
   ]
  },
  {
   "cell_type": "code",
   "execution_count": null,
   "metadata": {
    "collapsed": true
   },
   "outputs": [],
   "source": []
  },
  {
   "cell_type": "code",
   "execution_count": 228,
   "metadata": {
    "collapsed": false
   },
   "outputs": [
    {
     "name": "stdout",
     "output_type": "stream",
     "text": [
      "####################\n",
      "\n",
      "Yo soy la matriz:\n",
      "\n",
      "[1, 1, 3]\n",
      "[1, 2, 1]\n",
      "\n",
      "#################### ####################\n",
      "\n",
      "Yo soy la matriz:\n",
      "\n",
      "[1, 1]\n",
      "[1, 2]\n",
      "[1, 2]\n",
      "\n",
      "####################\n"
     ]
    },
    {
     "data": {
      "text/plain": [
       "####################\n",
       "\n",
       "Yo soy la matriz:\n",
       "\n",
       "[2, 2, 6]\n",
       "[0, 0, 0]\n",
       "\n",
       "####################"
      ]
     },
     "execution_count": 228,
     "metadata": {},
     "output_type": "execute_result"
    }
   ],
   "source": [
    "ma1 = Array([[1,1,3],[1,2,1]])\n",
    "ma2 = Array([[1,1],[1,2],[1,2]])\n",
    "print(ma1,ma2)\n",
    "2 * ma1"
   ]
  },
  {
   "cell_type": "code",
   "execution_count": null,
   "metadata": {
    "collapsed": false
   },
   "outputs": [],
   "source": []
  },
  {
   "cell_type": "code",
   "execution_count": 200,
   "metadata": {
    "collapsed": false
   },
   "outputs": [
    {
     "name": "stdout",
     "output_type": "stream",
     "text": [
      "2\n",
      "la suma nueva es  1\n",
      "la suma nueva es  2\n",
      "la suma nueva es  4\n",
      "la suma nueva es  1\n",
      "la suma nueva es  3\n",
      "la suma nueva es  7\n",
      "la suma nueva es  1\n",
      "la suma nueva es  3\n",
      "la suma nueva es  4\n",
      "la suma nueva es  1\n",
      "la suma nueva es  5\n",
      "la suma nueva es  7\n"
     ]
    },
    {
     "data": {
      "text/plain": [
       "####################\n",
       "\n",
       "Yo soy la matriz:\n",
       "\n",
       "[4, 7]\n",
       "[4, 7]\n",
       "\n",
       "####################"
      ]
     },
     "execution_count": 200,
     "metadata": {},
     "output_type": "execute_result"
    }
   ],
   "source": [
    "#haremos la fila 1\n",
    "print(ma1.shape[0])\n",
    "\n",
    "\n"
   ]
  }
 ],
 "metadata": {
  "kernelspec": {
   "display_name": "Python 3",
   "language": "python",
   "name": "python3"
  },
  "language_info": {
   "codemirror_mode": {
    "name": "ipython",
    "version": 3
   },
   "file_extension": ".py",
   "mimetype": "text/x-python",
   "name": "python",
   "nbconvert_exporter": "python",
   "pygments_lexer": "ipython3",
   "version": "3.5.2"
  }
 },
 "nbformat": 4,
 "nbformat_minor": 2
}
