{
 "cells": [
  {
   "cell_type": "markdown",
   "metadata": {},
   "source": [
    "# Tarea 1\n",
    "## Diego Alejandro Estrada Rivera 165352"
   ]
  },
  {
   "cell_type": "code",
   "execution_count": 1,
   "metadata": {
    "collapsed": true
   },
   "outputs": [],
   "source": [
    "class Array:\n",
    "    \"Una clase minima para algebra lineal\"    \n",
    "    def __init__(self, list_of_rows): \n",
    "        # obtener dimensiones\n",
    "        self.data = list_of_rows\n",
    "        nrow = len(list_of_rows)\n",
    "        #  ___caso vector: redimensionar correctamente\n",
    "        if not isinstance(list_of_rows[0], list):\n",
    "            nrow = 1\n",
    "            self.data = [[x] for x in list_of_rows]\n",
    "        # ahora las columnas deben estar bien aunque sea un vector\n",
    "        ncol = len(self.data[0])\n",
    "        self.shape = (nrow, ncol)\n",
    "        # validar tamaño correcto de filas\n",
    "        if any([len(r) != ncol for r in self.data]):\n",
    "            raise Exception(\"Las filas deben ser del mismo tamano\")\n",
    "        # validar que los elementos sean numéricos\n",
    "        for i in range(nrow):\n",
    "            for j in range(ncol):\n",
    "                if not isinstance(self.data[i][j], (int, float, complex)):\n",
    "                    raise Exception(\"'\" + str(self.data[i][j]) + \"'\" + \" no es numérico\")\n",
    "                                     \n",
    "# Ejercicio 1\n",
    "\n",
    "    def __repr__(self):\n",
    "        cadena = \"Array\"   \n",
    "        for i in range(len(self.data)):\n",
    "            if(i==0):\n",
    "                cadena = cadena + str(self.data[i]) + \"\\n\"\n",
    "            if(i>0):\n",
    "                cadena = cadena + \"     \" + str(self.data[i]) + \"\\n\" \n",
    "        return cadena\n",
    "    \n",
    "    def __str__(self):\n",
    "        cadena = \"\"   \n",
    "        for i in range(len(self.data)):\n",
    "            cadena = cadena + str(self.data[i]) + \"\\n\"\n",
    "        return cadena\n",
    "    \n",
    "# Ejercicio 2\n",
    "\n",
    "    def __getitem__(self, idx):\n",
    "        return self.data[idx[0]][idx[1]]\n",
    "    \n",
    "    \n",
    "    def __setitem__(self, idx, new_value):\n",
    "        self.data[idx[0]][idx[1]] = new_value\n",
    "        \n",
    "# Ejercicio 3\n",
    "\n",
    "    def zeros(x, y):\n",
    "        zeroarray = Array([[0 for c in range(y)] for r in range(x)])\n",
    "        return zeroarray\n",
    "        \n",
    "    def eye(x):\n",
    "        eyearray = Array([[0 for c in range(x)] for r in range(x)])  \n",
    "        for i in range(x):\n",
    "            for j in range(x):\n",
    "                if i == j:\n",
    "                    eyearray[i,j] = 1\n",
    "        return eyearray\n",
    "    \n",
    "# Ejercicio 4\n",
    "\n",
    "    def transpose(self):\n",
    "        #Obtener dimensiones\n",
    "        nrow = len(self.data)\n",
    "        ncol = len(self.data[0])  \n",
    "        #Crear matriz receptora\n",
    "        transpuesta = Array([[0 for c in range(nrow)] for r in range(ncol)])\n",
    "        #Transponer\n",
    "        for i in range(nrow):\n",
    "            for j in range(ncol):\n",
    "                transpuesta[j,i] = self.data[i][j]         \n",
    "        return transpuesta\n",
    "    \n",
    "# Ejercicio 5\n",
    "       \n",
    "    def __add__(self, other):\n",
    "        #Matriz, matriz\n",
    "        if isinstance(other, Array):\n",
    "            #Validar las dimensiones\n",
    "            if self.shape != other.shape:\n",
    "                raise Exception(\"Las dimensiones son distintas!\")\n",
    "            #Obtener dimensiones\n",
    "            rows, cols = self.shape\n",
    "            #Crear matriz receptora\n",
    "            newArray = Array([[0. for c in range(cols)] for r in range(rows)])\n",
    "            #Sumar\n",
    "            for r in range(rows):\n",
    "                for c in range(cols):\n",
    "                    newArray.data[r][c] = self.data[r][c] + other.data[r][c]\n",
    "            return newArray\n",
    "        #Matriz, entero\n",
    "        elif isinstance(other, (int, float, complex)): \n",
    "            #Obterner dimensiones\n",
    "            rows, cols = self.shape\n",
    "            #Crear matriz receptora\n",
    "            newArray = Array([[0. for c in range(cols)] for r in range(rows)])\n",
    "            #Sumar\n",
    "            for r in range(rows):\n",
    "                for c in range(cols):\n",
    "                    newArray.data[r][c] = self.data[r][c] + other\n",
    "            return newArray\n",
    "        else:\n",
    "            return NotImplemented \n",
    "               \n",
    "    __radd__ = __add__\n",
    "    \n",
    "    def __sub__(self, other):\n",
    "        #Matriz, matriz\n",
    "        if isinstance(other, Array):\n",
    "            #Validar las dimensiones\n",
    "            if self.shape != other.shape:\n",
    "                raise Exception(\"Las dimensiones son distintas!\")\n",
    "            #Obtener las dimensiones\n",
    "            rows, cols = self.shape\n",
    "            #Crear matriz receptora\n",
    "            newArray = Array([[0. for c in range(cols)] for r in range(rows)])\n",
    "            #Restar\n",
    "            for r in range(rows):\n",
    "                for c in range(cols):\n",
    "                    newArray.data[r][c] = self.data[r][c] - other.data[r][c]\n",
    "            return newArray\n",
    "        #Matriz, entero\n",
    "        elif isinstance(other, (int, float, complex)): \n",
    "            #Obtener las dimensiones\n",
    "            rows, cols = self.shape\n",
    "            #Crear matriz receptora\n",
    "            newArray = Array([[0. for c in range(cols)] for r in range(rows)])\n",
    "            #Restar\n",
    "            for r in range(rows):\n",
    "                for c in range(cols):\n",
    "                    newArray.data[r][c] = self.data[r][c] - other\n",
    "            return newArray\n",
    "        else:\n",
    "            return NotImplemented \n",
    "        \n",
    "# Ejercicio 6\n",
    "    \n",
    "    def __mul__(self, other):\n",
    "        #Matriz, matriz\n",
    "        if isinstance(other, Array):\n",
    "            #Validar las dimensiones\n",
    "            if self.shape[1] != other.shape[0]:\n",
    "                raise Exception(\"Las matrices no son compatibles!\")\n",
    "            #Obtener las dimensiones\n",
    "            rowsA = self.shape[0]\n",
    "            rowsB = other.shape[0]\n",
    "            colsB = other.shape[1]\n",
    "            #Crear matriz receptora\n",
    "            newArray = Array([[0 for c in range(colsB)] for r in range(rowsA)])\n",
    "            #Multiplicar\n",
    "            for i in range(rowsA):\n",
    "                for j in range(colsB):\n",
    "                    for k in range(rowsB):\n",
    "                        newArray[i,j] = newArray[i,j] + self.data[i][k] * other.data[k][j]\n",
    "            return newArray\n",
    "        #Matriz, entero\n",
    "        elif isinstance(other, (int, float, complex)):\n",
    "            #Obtener las dimensiones\n",
    "            rows, cols = self.shape\n",
    "            #Crear matriz receptora\n",
    "            newArray = Array([[0 for c in range(cols)] for r in range(rows)])\n",
    "            #Multiplicar\n",
    "            for r in range(rows):\n",
    "                for c in range(cols):\n",
    "                    newArray.data[r][c] = self.data[r][c] * other\n",
    "            return newArray\n",
    "        else:\n",
    "            return NotImplemented\n",
    "        \n",
    "    def __rmul__(self, other):\n",
    "        if isinstance(other, (int, float, complex)):\n",
    "            rows, cols = self.shape\n",
    "            newArray = Array([[0 for c in range(cols)] for r in range(rows)])\n",
    "            for r in range(rows):\n",
    "                for c in range(cols):\n",
    "                    newArray.data[r][c] = self.data[r][c] * other\n",
    "            return newArray\n",
    "        else:\n",
    "            return NotImplemented   \n",
    "        \n",
    "# Ejericio 7\n",
    "        \n",
    "    def foward_sub(self, y):\n",
    "        #Validar que la matriz sea cuadrada\n",
    "        if isinstance(self , Array):\n",
    "            if self.shape[0] != self.shape[1]:\n",
    "                raise Exception(\"La matriz no es cuadrada!\")\n",
    "            #Validar que la matriz sea L\n",
    "            nrow = len(self.data)\n",
    "            ncol = len(self.data[0])\n",
    "            for i in range(nrow):\n",
    "                for j in range(ncol):\n",
    "                    if(i<j and self.data[i][j] != 0):\n",
    "                        raise Exception(\"La matriz no es L!\")\n",
    "            #Validar que no existan ceros en la diagonal\n",
    "            for i in range(nrow):\n",
    "                for j in range(ncol):\n",
    "                    if(i==j and self.data[i][j] == 0):\n",
    "                        raise Exception(\"Existen 0's en la diagonal!\")\n",
    "        #Validar que el segundo argumento sea un vector\n",
    "        if isinstance(y, Array):\n",
    "            if not(((y.shape[1]) != 1) or ((y.shape[0]!=1))):\n",
    "                raise Exception(\"El segundo argumento debe ser un vector\")\n",
    "            #Enderezar vector de ser necesario\n",
    "            b = y.shape[1]\n",
    "            if ((y.shape[1]) == 1 ):\n",
    "                y = Array.transpose(y)\n",
    "            #Foward Substitution \n",
    "            solution = Array([[0 for n in range(nrow)]])\n",
    "            for i in range(len(y.data[0])):\n",
    "                solution[0,i] = y[0,i]\n",
    "                for j in range(i):\n",
    "                    solution[0,i] = solution[0,i] - (self[i,j])*(solution[0,j])\n",
    "                solution[0,i] = ((solution[0,i])/(self[i,i]))\n",
    "            #Ajustar vector para que salga igual que como entro\n",
    "            if (b != 0 ):\n",
    "                solution = Array.transpose(solution)\n",
    "            return (solution)\n",
    "        else:\n",
    "            return NotImplemented\n",
    "        \n",
    "# Ejercicio 8\n",
    "        \n",
    "    def backward_sub(self, y):\n",
    "        #Validar que la matriz sea cuadrada\n",
    "        if isinstance(self , Array):\n",
    "            if self.shape[0] != self.shape[1]:\n",
    "                raise Exception(\"La matriz no es cuadrada!\")\n",
    "            #Validar que la matriz sea U\n",
    "            nrow = len(self.data)\n",
    "            ncol = len(self.data[0])\n",
    "            for i in range(nrow):\n",
    "                for j in range(ncol):\n",
    "                    if(i>j and self.data[i][j] != 0):\n",
    "                        raise Exception(\"La matriz no es U!\")\n",
    "            #Validar que no existan ceros en la diagonal\n",
    "            for i in range(nrow):\n",
    "                for j in range(ncol):\n",
    "                    if(i==j and self.data[i][j] == 0):\n",
    "                        raise Exception(\"Existen 0's en la diagonal!\")\n",
    "        #Validar que el segundo argumento sea un vector\n",
    "        if isinstance(y, Array):\n",
    "            if not((y.shape[1] == 1) or (y.shape[0]==1)):\n",
    "                raise Exception(\"El segundo argumento debe ser un vector\")\n",
    "            #Enderezar vector de ser necesario\n",
    "            b = y.shape[1]\n",
    "            if ((y.shape[1]) == 1 ):\n",
    "                y = Array.transpose(y)\n",
    "            #Backward Substitution\n",
    "            solution = Array([[0 for n in range(nrow)]])\n",
    "            h = len(y.data[0]) - 1\n",
    "            m = 0\n",
    "            for i in range((len(y.data[0])-1),-1,-1):\n",
    "                solution[0,i] = y[0,i]\n",
    "                h = len(y.data[0]) - 1\n",
    "                for j in range(m):\n",
    "                    solution[0,i] = solution[0,i] - (self[i,h])*(solution[0,h])\n",
    "                    h-=1\n",
    "                m += 1\n",
    "                solution[0,i] = ((solution[0,i])/(self[i,i]))\n",
    "            #Ajustar vector para que salga igual que como entro\n",
    "            if (b != 0 ):\n",
    "                solution = Array.transpose(solution)\n",
    "            return (solution)\n",
    "        else:\n",
    "            return NotImplemented\n",
    "        \n",
    "# Ejercicio 9\n",
    "    \n",
    "    def lu_decomposition(self): \n",
    "        #Validar que la matriz sea cuadrada\n",
    "        if isinstance(self , Array):\n",
    "            if self.shape[0] != self.shape[1]:\n",
    "                raise Exception(\"La matriz no es cuadrada!\")\n",
    "        #Crear matrices receptroas        \n",
    "        n = self.shape[1]                                                                                                                                                                                                         \n",
    "        L = Array.eye(n)\n",
    "        U = Array.zeros(n,n)       \n",
    "        P = Array.eye(n)\n",
    "        # Crear matriz de permutación, con filas en el orden correcto                                                                                                                                                                                                                                                                                                                                                                         \n",
    "        for o in range(n):\n",
    "            row = max(range(o, n), key=lambda i: abs(self.data[i][o]))\n",
    "            if o != row:                                                                                                                                                                                                                            \n",
    "                P.data[o], P.data[row] = P.data[row], P.data[o]\n",
    "        #Obtener matriz P*A\n",
    "        PA = P*self\n",
    "        # Descomposición LU                                                                                                                                                                                                                     \n",
    "        for j in range(n):                                                                                                                                                                                                                                                                                                                                                                                            \n",
    "            for i in range(j+1):\n",
    "                s1 = sum(U.data[k][j] * L.data[i][k] for k in range(i))\n",
    "                U.data[i][j] = PA.data[i][j] - s1                                                                                                                                                                \n",
    "            for i in range(j, n):\n",
    "                s2 = sum(U.data[k][j] * L.data[i][k] for k in range(j))\n",
    "                L.data[i][j] = (PA.data[i][j] - s2) / U.data[j][j]\n",
    "                \n",
    "        return (P, L, U)\n",
    "    \n",
    "# Ejercicio 10\n",
    "    \n",
    "    def lu_linsolve(self, b):\n",
    "        P,L,U = Array.lu_decomposition(self)\n",
    "        if(b.shape[0]==1):\n",
    "            b = Array.transpose(b)\n",
    "        b1 = P*b\n",
    "        y = Array.foward_sub(L,b1)\n",
    "        x = Array.backward_sub(U,y)\n",
    "        \n",
    "        return(x)\n",
    "        \n",
    "        \n",
    "        \n",
    "        "
   ]
  },
  {
   "cell_type": "code",
   "execution_count": 2,
   "metadata": {
    "collapsed": true
   },
   "outputs": [],
   "source": [
    "A =Array([[1,2,3],[4,5,6],[7,8,9]])"
   ]
  },
  {
   "cell_type": "markdown",
   "metadata": {},
   "source": [
    "# Ejercicio 1"
   ]
  },
  {
   "cell_type": "code",
   "execution_count": 3,
   "metadata": {},
   "outputs": [
    {
     "data": {
      "text/plain": [
       "Array[1, 2, 3]\n",
       "     [4, 5, 6]\n",
       "     [7, 8, 9]"
      ]
     },
     "execution_count": 3,
     "metadata": {},
     "output_type": "execute_result"
    }
   ],
   "source": [
    "A"
   ]
  },
  {
   "cell_type": "code",
   "execution_count": 4,
   "metadata": {},
   "outputs": [
    {
     "name": "stdout",
     "output_type": "stream",
     "text": [
      "[1, 2, 3]\n",
      "[4, 5, 6]\n",
      "[7, 8, 9]\n",
      "\n"
     ]
    }
   ],
   "source": [
    "print(A)"
   ]
  },
  {
   "cell_type": "markdown",
   "metadata": {},
   "source": [
    "# Ejercicio 2"
   ]
  },
  {
   "cell_type": "code",
   "execution_count": 5,
   "metadata": {
    "collapsed": true
   },
   "outputs": [],
   "source": [
    "A[0,0] = 0"
   ]
  },
  {
   "cell_type": "code",
   "execution_count": 6,
   "metadata": {},
   "outputs": [
    {
     "data": {
      "text/plain": [
       "Array[0, 2, 3]\n",
       "     [4, 5, 6]\n",
       "     [7, 8, 9]"
      ]
     },
     "execution_count": 6,
     "metadata": {},
     "output_type": "execute_result"
    }
   ],
   "source": [
    "A"
   ]
  },
  {
   "cell_type": "code",
   "execution_count": 7,
   "metadata": {
    "collapsed": true
   },
   "outputs": [],
   "source": [
    "A[0,0] = 1"
   ]
  },
  {
   "cell_type": "code",
   "execution_count": 8,
   "metadata": {},
   "outputs": [
    {
     "data": {
      "text/plain": [
       "Array[1, 2, 3]\n",
       "     [4, 5, 6]\n",
       "     [7, 8, 9]"
      ]
     },
     "execution_count": 8,
     "metadata": {},
     "output_type": "execute_result"
    }
   ],
   "source": [
    "A"
   ]
  },
  {
   "cell_type": "markdown",
   "metadata": {},
   "source": [
    "# Ejercicio 3"
   ]
  },
  {
   "cell_type": "code",
   "execution_count": 9,
   "metadata": {},
   "outputs": [
    {
     "data": {
      "text/plain": [
       "Array[0, 0]\n",
       "     [0, 0]"
      ]
     },
     "execution_count": 9,
     "metadata": {},
     "output_type": "execute_result"
    }
   ],
   "source": [
    "Array.zeros(2,2)"
   ]
  },
  {
   "cell_type": "code",
   "execution_count": 10,
   "metadata": {},
   "outputs": [
    {
     "data": {
      "text/plain": [
       "Array[0, 0, 0, 0, 0, 0]\n",
       "     [0, 0, 0, 0, 0, 0]\n",
       "     [0, 0, 0, 0, 0, 0]\n",
       "     [0, 0, 0, 0, 0, 0]\n",
       "     [0, 0, 0, 0, 0, 0]"
      ]
     },
     "execution_count": 10,
     "metadata": {},
     "output_type": "execute_result"
    }
   ],
   "source": [
    "Array.zeros(5,6)"
   ]
  },
  {
   "cell_type": "code",
   "execution_count": 11,
   "metadata": {},
   "outputs": [
    {
     "data": {
      "text/plain": [
       "Array[1, 0, 0]\n",
       "     [0, 1, 0]\n",
       "     [0, 0, 1]"
      ]
     },
     "execution_count": 11,
     "metadata": {},
     "output_type": "execute_result"
    }
   ],
   "source": [
    "Array.eye(3)"
   ]
  },
  {
   "cell_type": "code",
   "execution_count": 12,
   "metadata": {},
   "outputs": [
    {
     "data": {
      "text/plain": [
       "Array[1, 0, 0, 0, 0]\n",
       "     [0, 1, 0, 0, 0]\n",
       "     [0, 0, 1, 0, 0]\n",
       "     [0, 0, 0, 1, 0]\n",
       "     [0, 0, 0, 0, 1]"
      ]
     },
     "execution_count": 12,
     "metadata": {},
     "output_type": "execute_result"
    }
   ],
   "source": [
    "Array.eye(5)"
   ]
  },
  {
   "cell_type": "markdown",
   "metadata": {},
   "source": [
    "# Ejercicio 4"
   ]
  },
  {
   "cell_type": "code",
   "execution_count": 13,
   "metadata": {},
   "outputs": [
    {
     "data": {
      "text/plain": [
       "Array[1, 4, 7]\n",
       "     [2, 5, 8]\n",
       "     [3, 6, 9]"
      ]
     },
     "execution_count": 13,
     "metadata": {},
     "output_type": "execute_result"
    }
   ],
   "source": [
    "A.transpose()"
   ]
  },
  {
   "cell_type": "code",
   "execution_count": 14,
   "metadata": {
    "collapsed": true
   },
   "outputs": [],
   "source": [
    "Q = Array([[1,2,3],[5,6,7]])"
   ]
  },
  {
   "cell_type": "code",
   "execution_count": 15,
   "metadata": {},
   "outputs": [
    {
     "name": "stdout",
     "output_type": "stream",
     "text": [
      "[1, 2, 3]\n",
      "[5, 6, 7]\n",
      "\n"
     ]
    }
   ],
   "source": [
    "print(Q)"
   ]
  },
  {
   "cell_type": "code",
   "execution_count": 16,
   "metadata": {},
   "outputs": [
    {
     "name": "stdout",
     "output_type": "stream",
     "text": [
      "[1, 5]\n",
      "[2, 6]\n",
      "[3, 7]\n",
      "\n"
     ]
    }
   ],
   "source": [
    "print(Q.transpose())"
   ]
  },
  {
   "cell_type": "markdown",
   "metadata": {},
   "source": [
    "# Ejercicio 5"
   ]
  },
  {
   "cell_type": "code",
   "execution_count": 17,
   "metadata": {
    "collapsed": true
   },
   "outputs": [],
   "source": [
    "B = Array([[9,8,7],[6,5,4],[3,2,1]])"
   ]
  },
  {
   "cell_type": "code",
   "execution_count": 18,
   "metadata": {},
   "outputs": [
    {
     "data": {
      "text/plain": [
       "Array[9, 8, 7]\n",
       "     [6, 5, 4]\n",
       "     [3, 2, 1]"
      ]
     },
     "execution_count": 18,
     "metadata": {},
     "output_type": "execute_result"
    }
   ],
   "source": [
    "B"
   ]
  },
  {
   "cell_type": "code",
   "execution_count": 19,
   "metadata": {},
   "outputs": [
    {
     "data": {
      "text/plain": [
       "Array[1, 2, 3]\n",
       "     [4, 5, 6]\n",
       "     [7, 8, 9]"
      ]
     },
     "execution_count": 19,
     "metadata": {},
     "output_type": "execute_result"
    }
   ],
   "source": [
    "A"
   ]
  },
  {
   "cell_type": "code",
   "execution_count": 20,
   "metadata": {
    "collapsed": true
   },
   "outputs": [],
   "source": [
    "C = A+B"
   ]
  },
  {
   "cell_type": "code",
   "execution_count": 21,
   "metadata": {},
   "outputs": [
    {
     "data": {
      "text/plain": [
       "Array[10, 10, 10]\n",
       "     [10, 10, 10]\n",
       "     [10, 10, 10]"
      ]
     },
     "execution_count": 21,
     "metadata": {},
     "output_type": "execute_result"
    }
   ],
   "source": [
    "C"
   ]
  },
  {
   "cell_type": "code",
   "execution_count": 22,
   "metadata": {},
   "outputs": [
    {
     "data": {
      "text/plain": [
       "Array[11, 11, 11]\n",
       "     [11, 11, 11]\n",
       "     [11, 11, 11]"
      ]
     },
     "execution_count": 22,
     "metadata": {},
     "output_type": "execute_result"
    }
   ],
   "source": [
    "C+1"
   ]
  },
  {
   "cell_type": "code",
   "execution_count": 23,
   "metadata": {},
   "outputs": [
    {
     "data": {
      "text/plain": [
       "Array[11, 11, 11]\n",
       "     [11, 11, 11]\n",
       "     [11, 11, 11]"
      ]
     },
     "execution_count": 23,
     "metadata": {},
     "output_type": "execute_result"
    }
   ],
   "source": [
    "1+C"
   ]
  },
  {
   "cell_type": "code",
   "execution_count": 24,
   "metadata": {},
   "outputs": [
    {
     "data": {
      "text/plain": [
       "Array[-8, -6, -4]\n",
       "     [-2, 0, 2]\n",
       "     [4, 6, 8]"
      ]
     },
     "execution_count": 24,
     "metadata": {},
     "output_type": "execute_result"
    }
   ],
   "source": [
    "A-B"
   ]
  },
  {
   "cell_type": "code",
   "execution_count": 25,
   "metadata": {},
   "outputs": [
    {
     "data": {
      "text/plain": [
       "Array[8, 6, 4]\n",
       "     [2, 0, -2]\n",
       "     [-4, -6, -8]"
      ]
     },
     "execution_count": 25,
     "metadata": {},
     "output_type": "execute_result"
    }
   ],
   "source": [
    "B-A"
   ]
  },
  {
   "cell_type": "code",
   "execution_count": 26,
   "metadata": {},
   "outputs": [
    {
     "data": {
      "text/plain": [
       "Array[9, 9, 9]\n",
       "     [9, 9, 9]\n",
       "     [9, 9, 9]"
      ]
     },
     "execution_count": 26,
     "metadata": {},
     "output_type": "execute_result"
    }
   ],
   "source": [
    "C-1"
   ]
  },
  {
   "cell_type": "markdown",
   "metadata": {},
   "source": [
    "# Ejercicio 6"
   ]
  },
  {
   "cell_type": "code",
   "execution_count": 27,
   "metadata": {},
   "outputs": [
    {
     "data": {
      "text/plain": [
       "Array[30, 24, 18]\n",
       "     [84, 69, 54]\n",
       "     [138, 114, 90]"
      ]
     },
     "execution_count": 27,
     "metadata": {},
     "output_type": "execute_result"
    }
   ],
   "source": [
    "A*B"
   ]
  },
  {
   "cell_type": "code",
   "execution_count": 28,
   "metadata": {},
   "outputs": [
    {
     "data": {
      "text/plain": [
       "Array[90, 114, 138]\n",
       "     [54, 69, 84]\n",
       "     [18, 24, 30]"
      ]
     },
     "execution_count": 28,
     "metadata": {},
     "output_type": "execute_result"
    }
   ],
   "source": [
    "B*A"
   ]
  },
  {
   "cell_type": "code",
   "execution_count": 29,
   "metadata": {
    "collapsed": true
   },
   "outputs": [],
   "source": [
    "a= Array([[1,2],[3,4]])"
   ]
  },
  {
   "cell_type": "code",
   "execution_count": 30,
   "metadata": {},
   "outputs": [
    {
     "ename": "Exception",
     "evalue": "Las matrices no son compatibles!",
     "output_type": "error",
     "traceback": [
      "\u001b[1;31m---------------------------------------------------------------------------\u001b[0m",
      "\u001b[1;31mException\u001b[0m                                 Traceback (most recent call last)",
      "\u001b[1;32m<ipython-input-30-985e0a3770d5>\u001b[0m in \u001b[0;36m<module>\u001b[1;34m()\u001b[0m\n\u001b[1;32m----> 1\u001b[1;33m \u001b[0mA\u001b[0m\u001b[1;33m*\u001b[0m\u001b[0ma\u001b[0m\u001b[1;33m\u001b[0m\u001b[0m\n\u001b[0m",
      "\u001b[1;32m<ipython-input-1-dc2255720523>\u001b[0m in \u001b[0;36m__mul__\u001b[1;34m(self, other)\u001b[0m\n\u001b[0;32m    144\u001b[0m             \u001b[1;31m#Validar las dimensiones\u001b[0m\u001b[1;33m\u001b[0m\u001b[1;33m\u001b[0m\u001b[0m\n\u001b[0;32m    145\u001b[0m             \u001b[1;32mif\u001b[0m \u001b[0mself\u001b[0m\u001b[1;33m.\u001b[0m\u001b[0mshape\u001b[0m\u001b[1;33m[\u001b[0m\u001b[1;36m1\u001b[0m\u001b[1;33m]\u001b[0m \u001b[1;33m!=\u001b[0m \u001b[0mother\u001b[0m\u001b[1;33m.\u001b[0m\u001b[0mshape\u001b[0m\u001b[1;33m[\u001b[0m\u001b[1;36m0\u001b[0m\u001b[1;33m]\u001b[0m\u001b[1;33m:\u001b[0m\u001b[1;33m\u001b[0m\u001b[0m\n\u001b[1;32m--> 146\u001b[1;33m                 \u001b[1;32mraise\u001b[0m \u001b[0mException\u001b[0m\u001b[1;33m(\u001b[0m\u001b[1;34m\"Las matrices no son compatibles!\"\u001b[0m\u001b[1;33m)\u001b[0m\u001b[1;33m\u001b[0m\u001b[0m\n\u001b[0m\u001b[0;32m    147\u001b[0m             \u001b[1;31m#Obtener las dimensiones\u001b[0m\u001b[1;33m\u001b[0m\u001b[1;33m\u001b[0m\u001b[0m\n\u001b[0;32m    148\u001b[0m             \u001b[0mrowsA\u001b[0m \u001b[1;33m=\u001b[0m \u001b[0mself\u001b[0m\u001b[1;33m.\u001b[0m\u001b[0mshape\u001b[0m\u001b[1;33m[\u001b[0m\u001b[1;36m0\u001b[0m\u001b[1;33m]\u001b[0m\u001b[1;33m\u001b[0m\u001b[0m\n",
      "\u001b[1;31mException\u001b[0m: Las matrices no son compatibles!"
     ]
    }
   ],
   "source": [
    "A*a"
   ]
  },
  {
   "cell_type": "code",
   "execution_count": 31,
   "metadata": {
    "collapsed": true
   },
   "outputs": [],
   "source": [
    "b= Array([[1,2,3],[4,5,6]])"
   ]
  },
  {
   "cell_type": "code",
   "execution_count": 32,
   "metadata": {},
   "outputs": [
    {
     "name": "stdout",
     "output_type": "stream",
     "text": [
      "[9, 12, 15]\n",
      "[19, 26, 33]\n",
      "\n"
     ]
    }
   ],
   "source": [
    "print(a*b)"
   ]
  },
  {
   "cell_type": "code",
   "execution_count": 33,
   "metadata": {
    "collapsed": true
   },
   "outputs": [],
   "source": [
    "c = a*b"
   ]
  },
  {
   "cell_type": "code",
   "execution_count": 34,
   "metadata": {},
   "outputs": [
    {
     "name": "stdout",
     "output_type": "stream",
     "text": [
      "[18, 24, 30]\n",
      "[38, 52, 66]\n",
      "\n"
     ]
    }
   ],
   "source": [
    "print(c *2)"
   ]
  },
  {
   "cell_type": "code",
   "execution_count": 35,
   "metadata": {},
   "outputs": [
    {
     "name": "stdout",
     "output_type": "stream",
     "text": [
      "[18, 24, 30]\n",
      "[38, 52, 66]\n",
      "\n"
     ]
    }
   ],
   "source": [
    "print(2*c)"
   ]
  },
  {
   "cell_type": "markdown",
   "metadata": {},
   "source": [
    "# Ejercicio 7"
   ]
  },
  {
   "cell_type": "code",
   "execution_count": 36,
   "metadata": {
    "collapsed": true
   },
   "outputs": [],
   "source": [
    "F = Array([[3,0,0,0],[-1,1,0,0],[3,-2,-1,0],[1,-2,6,2]])"
   ]
  },
  {
   "cell_type": "code",
   "execution_count": 37,
   "metadata": {
    "collapsed": true
   },
   "outputs": [],
   "source": [
    "f = Array([[5],[6],[4],[2]])"
   ]
  },
  {
   "cell_type": "code",
   "execution_count": 38,
   "metadata": {
    "collapsed": true
   },
   "outputs": [],
   "source": [
    "sf=Array.foward_sub(F,f)"
   ]
  },
  {
   "cell_type": "code",
   "execution_count": 39,
   "metadata": {},
   "outputs": [
    {
     "name": "stdout",
     "output_type": "stream",
     "text": [
      "[1.6666666666666667]\n",
      "[7.666666666666667]\n",
      "[-14.333333333333334]\n",
      "[50.833333333333336]\n",
      "\n"
     ]
    }
   ],
   "source": [
    "print(sf)"
   ]
  },
  {
   "cell_type": "code",
   "execution_count": 40,
   "metadata": {},
   "outputs": [
    {
     "data": {
      "text/plain": [
       "Array[5.0]\n",
       "     [6.0]\n",
       "     [4.0]\n",
       "     [2.0]"
      ]
     },
     "execution_count": 40,
     "metadata": {},
     "output_type": "execute_result"
    }
   ],
   "source": [
    "F*sf"
   ]
  },
  {
   "cell_type": "code",
   "execution_count": 41,
   "metadata": {
    "collapsed": true
   },
   "outputs": [],
   "source": [
    "F[0,1] = 1"
   ]
  },
  {
   "cell_type": "code",
   "execution_count": 42,
   "metadata": {},
   "outputs": [
    {
     "ename": "Exception",
     "evalue": "La matriz no es L!",
     "output_type": "error",
     "traceback": [
      "\u001b[1;31m---------------------------------------------------------------------------\u001b[0m",
      "\u001b[1;31mException\u001b[0m                                 Traceback (most recent call last)",
      "\u001b[1;32m<ipython-input-42-ca4c405826d5>\u001b[0m in \u001b[0;36m<module>\u001b[1;34m()\u001b[0m\n\u001b[1;32m----> 1\u001b[1;33m \u001b[0msf\u001b[0m\u001b[1;33m=\u001b[0m\u001b[0mArray\u001b[0m\u001b[1;33m.\u001b[0m\u001b[0mfoward_sub\u001b[0m\u001b[1;33m(\u001b[0m\u001b[0mF\u001b[0m\u001b[1;33m,\u001b[0m\u001b[0mf\u001b[0m\u001b[1;33m)\u001b[0m\u001b[1;33m\u001b[0m\u001b[0m\n\u001b[0m",
      "\u001b[1;32m<ipython-input-1-dc2255720523>\u001b[0m in \u001b[0;36mfoward_sub\u001b[1;34m(self, y)\u001b[0m\n\u001b[0;32m    195\u001b[0m                 \u001b[1;32mfor\u001b[0m \u001b[0mj\u001b[0m \u001b[1;32min\u001b[0m \u001b[0mrange\u001b[0m\u001b[1;33m(\u001b[0m\u001b[0mncol\u001b[0m\u001b[1;33m)\u001b[0m\u001b[1;33m:\u001b[0m\u001b[1;33m\u001b[0m\u001b[0m\n\u001b[0;32m    196\u001b[0m                     \u001b[1;32mif\u001b[0m\u001b[1;33m(\u001b[0m\u001b[0mi\u001b[0m\u001b[1;33m<\u001b[0m\u001b[0mj\u001b[0m \u001b[1;32mand\u001b[0m \u001b[0mself\u001b[0m\u001b[1;33m.\u001b[0m\u001b[0mdata\u001b[0m\u001b[1;33m[\u001b[0m\u001b[0mi\u001b[0m\u001b[1;33m]\u001b[0m\u001b[1;33m[\u001b[0m\u001b[0mj\u001b[0m\u001b[1;33m]\u001b[0m \u001b[1;33m!=\u001b[0m \u001b[1;36m0\u001b[0m\u001b[1;33m)\u001b[0m\u001b[1;33m:\u001b[0m\u001b[1;33m\u001b[0m\u001b[0m\n\u001b[1;32m--> 197\u001b[1;33m                         \u001b[1;32mraise\u001b[0m \u001b[0mException\u001b[0m\u001b[1;33m(\u001b[0m\u001b[1;34m\"La matriz no es L!\"\u001b[0m\u001b[1;33m)\u001b[0m\u001b[1;33m\u001b[0m\u001b[0m\n\u001b[0m\u001b[0;32m    198\u001b[0m             \u001b[1;31m#Validar que no existan ceros en la diagonal\u001b[0m\u001b[1;33m\u001b[0m\u001b[1;33m\u001b[0m\u001b[0m\n\u001b[0;32m    199\u001b[0m             \u001b[1;32mfor\u001b[0m \u001b[0mi\u001b[0m \u001b[1;32min\u001b[0m \u001b[0mrange\u001b[0m\u001b[1;33m(\u001b[0m\u001b[0mnrow\u001b[0m\u001b[1;33m)\u001b[0m\u001b[1;33m:\u001b[0m\u001b[1;33m\u001b[0m\u001b[0m\n",
      "\u001b[1;31mException\u001b[0m: La matriz no es L!"
     ]
    }
   ],
   "source": [
    "sf=Array.foward_sub(F,f)"
   ]
  },
  {
   "cell_type": "markdown",
   "metadata": {},
   "source": [
    "# Ejercicio 8"
   ]
  },
  {
   "cell_type": "code",
   "execution_count": 43,
   "metadata": {
    "collapsed": true
   },
   "outputs": [],
   "source": [
    "B = Array([[4,-1,2,3],[0,-2,7,-4],[0,0,6,5],[0,0,0,3]])"
   ]
  },
  {
   "cell_type": "code",
   "execution_count": 44,
   "metadata": {
    "collapsed": true
   },
   "outputs": [],
   "source": [
    "b = Array([[20],[-7],[4],[6]])"
   ]
  },
  {
   "cell_type": "code",
   "execution_count": 45,
   "metadata": {
    "collapsed": true
   },
   "outputs": [],
   "source": [
    "sb=Array.backward_sub(B,b)"
   ]
  },
  {
   "cell_type": "code",
   "execution_count": 46,
   "metadata": {},
   "outputs": [
    {
     "name": "stdout",
     "output_type": "stream",
     "text": [
      "[3.0]\n",
      "[-4.0]\n",
      "[-1.0]\n",
      "[2.0]\n",
      "\n"
     ]
    }
   ],
   "source": [
    "print(sb)"
   ]
  },
  {
   "cell_type": "code",
   "execution_count": 47,
   "metadata": {},
   "outputs": [
    {
     "data": {
      "text/plain": [
       "Array[20.0]\n",
       "     [-7.0]\n",
       "     [4.0]\n",
       "     [6.0]"
      ]
     },
     "execution_count": 47,
     "metadata": {},
     "output_type": "execute_result"
    }
   ],
   "source": [
    "B*sb"
   ]
  },
  {
   "cell_type": "markdown",
   "metadata": {},
   "source": [
    "# Ejercicio 9"
   ]
  },
  {
   "cell_type": "code",
   "execution_count": 48,
   "metadata": {
    "collapsed": true
   },
   "outputs": [],
   "source": [
    "A = Array([[0,-2,3,1],[0,4,-3,2],[1,2,-3,2],[-2,-4,5,-10]])"
   ]
  },
  {
   "cell_type": "code",
   "execution_count": 49,
   "metadata": {
    "collapsed": true
   },
   "outputs": [],
   "source": [
    "P,L,U = Array.lu_decomposition(A)"
   ]
  },
  {
   "cell_type": "code",
   "execution_count": 50,
   "metadata": {},
   "outputs": [
    {
     "data": {
      "text/plain": [
       "Array[0, 0, 0, 1]\n",
       "     [0, 1, 0, 0]\n",
       "     [1, 0, 0, 0]\n",
       "     [0, 0, 1, 0]"
      ]
     },
     "execution_count": 50,
     "metadata": {},
     "output_type": "execute_result"
    }
   ],
   "source": [
    "P"
   ]
  },
  {
   "cell_type": "code",
   "execution_count": 51,
   "metadata": {},
   "outputs": [
    {
     "data": {
      "text/plain": [
       "Array[1.0, 0, 0, 0]\n",
       "     [-0.0, 1.0, 0, 0]\n",
       "     [-0.0, -0.5, 1.0, 0]\n",
       "     [-0.5, 0.0, -0.3333333333333333, 1.0]"
      ]
     },
     "execution_count": 51,
     "metadata": {},
     "output_type": "execute_result"
    }
   ],
   "source": [
    "L"
   ]
  },
  {
   "cell_type": "code",
   "execution_count": 52,
   "metadata": {},
   "outputs": [
    {
     "data": {
      "text/plain": [
       "Array[-2, -4, 5, -10]\n",
       "     [0, 4.0, -3.0, 2.0]\n",
       "     [0, 0, 1.5, 2.0]\n",
       "     [0, 0, 0, -2.333333333333333]"
      ]
     },
     "execution_count": 52,
     "metadata": {},
     "output_type": "execute_result"
    }
   ],
   "source": [
    "U"
   ]
  },
  {
   "cell_type": "markdown",
   "metadata": {},
   "source": [
    "# Ejercicio 10"
   ]
  },
  {
   "cell_type": "code",
   "execution_count": 53,
   "metadata": {
    "collapsed": true
   },
   "outputs": [],
   "source": [
    "y = Array([[6],[1],[0],[5]])"
   ]
  },
  {
   "cell_type": "code",
   "execution_count": 54,
   "metadata": {
    "collapsed": true
   },
   "outputs": [],
   "source": [
    "x = Array.lu_linsolve(A,y)"
   ]
  },
  {
   "cell_type": "code",
   "execution_count": 55,
   "metadata": {},
   "outputs": [
    {
     "name": "stdout",
     "output_type": "stream",
     "text": [
      "[12.0]\n",
      "[6.5]\n",
      "[7.0]\n",
      "[-2.0]\n",
      "\n"
     ]
    }
   ],
   "source": [
    "print(x)"
   ]
  },
  {
   "cell_type": "code",
   "execution_count": 56,
   "metadata": {
    "scrolled": true
   },
   "outputs": [
    {
     "name": "stdout",
     "output_type": "stream",
     "text": [
      "[6.0]\n",
      "[1.0]\n",
      "[0.0]\n",
      "[5.0]\n",
      "\n"
     ]
    }
   ],
   "source": [
    "print(A*x)"
   ]
  },
  {
   "cell_type": "code",
   "execution_count": null,
   "metadata": {
    "collapsed": true
   },
   "outputs": [],
   "source": []
  }
 ],
 "metadata": {
  "kernelspec": {
   "display_name": "Python 3",
   "language": "python",
   "name": "python3"
  },
  "language_info": {
   "codemirror_mode": {
    "name": "ipython",
    "version": 3
   },
   "file_extension": ".py",
   "mimetype": "text/x-python",
   "name": "python",
   "nbconvert_exporter": "python",
   "pygments_lexer": "ipython3",
   "version": "3.6.1"
  }
 },
 "nbformat": 4,
 "nbformat_minor": 2
}
