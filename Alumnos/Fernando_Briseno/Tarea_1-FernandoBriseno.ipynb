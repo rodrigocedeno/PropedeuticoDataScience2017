{
 "cells": [
  {
   "cell_type": "markdown",
   "metadata": {},
   "source": [
    "# Tarea 1"
   ]
  },
  {
   "cell_type": "code",
   "execution_count": 1,
   "metadata": {
    "collapsed": true
   },
   "outputs": [],
   "source": [
    "import numpy as np"
   ]
  },
  {
   "cell_type": "markdown",
   "metadata": {},
   "source": [
    "### Las listas no funcionan para construir matrices"
   ]
  },
  {
   "cell_type": "code",
   "execution_count": 2,
   "metadata": {},
   "outputs": [
    {
     "data": {
      "text/plain": [
       "[1, 2, 3, 4, 5, 6]"
      ]
     },
     "execution_count": 2,
     "metadata": {},
     "output_type": "execute_result"
    }
   ],
   "source": [
    "x = [1 ,2, 3]\n",
    "y = [4, 5, 6]\n",
    "x + y"
   ]
  },
  {
   "cell_type": "markdown",
   "metadata": {},
   "source": [
    "### The numpy way"
   ]
  },
  {
   "cell_type": "code",
   "execution_count": 3,
   "metadata": {
    "collapsed": true
   },
   "outputs": [],
   "source": [
    "B = np.array([[1,2,3],[4,5,6]])"
   ]
  },
  {
   "cell_type": "code",
   "execution_count": 4,
   "metadata": {},
   "outputs": [
    {
     "data": {
      "text/plain": [
       "array([[1, 2, 3],\n",
       "       [4, 5, 6]])"
      ]
     },
     "execution_count": 4,
     "metadata": {},
     "output_type": "execute_result"
    }
   ],
   "source": [
    "B"
   ]
  },
  {
   "cell_type": "code",
   "execution_count": 5,
   "metadata": {},
   "outputs": [
    {
     "data": {
      "text/plain": [
       "array([[ 3,  6,  9],\n",
       "       [12, 15, 18]])"
      ]
     },
     "execution_count": 5,
     "metadata": {},
     "output_type": "execute_result"
    }
   ],
   "source": [
    "B + 2*B"
   ]
  },
  {
   "cell_type": "markdown",
   "metadata": {},
   "source": [
    "Índices y slices"
   ]
  },
  {
   "cell_type": "code",
   "execution_count": 6,
   "metadata": {},
   "outputs": [
    {
     "data": {
      "text/plain": [
       "5"
      ]
     },
     "execution_count": 6,
     "metadata": {},
     "output_type": "execute_result"
    }
   ],
   "source": [
    "B[1,1]"
   ]
  },
  {
   "cell_type": "code",
   "execution_count": 7,
   "metadata": {},
   "outputs": [
    {
     "data": {
      "text/plain": [
       "array([4, 5, 6])"
      ]
     },
     "execution_count": 7,
     "metadata": {},
     "output_type": "execute_result"
    }
   ],
   "source": [
    "B[1,:]"
   ]
  },
  {
   "cell_type": "code",
   "execution_count": 8,
   "metadata": {},
   "outputs": [
    {
     "data": {
      "text/plain": [
       "array([3, 6])"
      ]
     },
     "execution_count": 8,
     "metadata": {},
     "output_type": "execute_result"
    }
   ],
   "source": [
    "B[:,2]"
   ]
  },
  {
   "cell_type": "code",
   "execution_count": 9,
   "metadata": {},
   "outputs": [
    {
     "data": {
      "text/plain": [
       "array([[1, 2],\n",
       "       [4, 5]])"
      ]
     },
     "execution_count": 9,
     "metadata": {},
     "output_type": "execute_result"
    }
   ],
   "source": [
    "B[0:2,0:2]"
   ]
  },
  {
   "cell_type": "code",
   "execution_count": 10,
   "metadata": {},
   "outputs": [
    {
     "data": {
      "text/plain": [
       "(2, 3)"
      ]
     },
     "execution_count": 10,
     "metadata": {},
     "output_type": "execute_result"
    }
   ],
   "source": [
    "B.shape"
   ]
  },
  {
   "cell_type": "code",
   "execution_count": 11,
   "metadata": {},
   "outputs": [
    {
     "name": "stdout",
     "output_type": "stream",
     "text": [
      "[1 2 3]\n"
     ]
    }
   ],
   "source": [
    "vec = np.array([1,2,3])\n",
    "print(vec)"
   ]
  },
  {
   "cell_type": "markdown",
   "metadata": {},
   "source": [
    "## Empezando desde cero"
   ]
  },
  {
   "cell_type": "code",
   "execution_count": 12,
   "metadata": {
    "collapsed": true
   },
   "outputs": [],
   "source": [
    "class Array:\n",
    "    \"Una clase mínima para álgebra lineal\"\n",
    "    def __init__(self, list_of_rows):\n",
    "        \"Constructor\"\n",
    "        self.data = list_of_rows\n",
    "        self.shape = (len(list_of_rows), len(list_of_rows[0]))"
   ]
  },
  {
   "cell_type": "code",
   "execution_count": 13,
   "metadata": {},
   "outputs": [
    {
     "data": {
      "text/plain": [
       "{'data': [[1, 2, 3], [4, 5, 6]], 'shape': (2, 3)}"
      ]
     },
     "execution_count": 13,
     "metadata": {},
     "output_type": "execute_result"
    }
   ],
   "source": [
    "A = Array([[1,2,3],[4,5,6]])\n",
    "A.__dict__"
   ]
  },
  {
   "cell_type": "code",
   "execution_count": 14,
   "metadata": {},
   "outputs": [
    {
     "data": {
      "text/plain": [
       "[[1, 2, 3], [4, 5, 6]]"
      ]
     },
     "execution_count": 14,
     "metadata": {},
     "output_type": "execute_result"
    }
   ],
   "source": [
    "A.data"
   ]
  },
  {
   "cell_type": "code",
   "execution_count": 15,
   "metadata": {},
   "outputs": [
    {
     "data": {
      "text/plain": [
       "(2, 3)"
      ]
     },
     "execution_count": 15,
     "metadata": {},
     "output_type": "execute_result"
    }
   ],
   "source": [
    "A.shape"
   ]
  },
  {
   "cell_type": "markdown",
   "metadata": {},
   "source": [
    "Requerimientos\n",
    "1. Un método para imprimir una matriz de forma más agradable\n",
    "2. Validador\n",
    "3. Indexing\n",
    "4. Iniciar matriz vacía de ceros\n",
    "5. Transposición\n",
    "6. Suma\n",
    "7. Multiplicación escalar y matricial\n",
    "8. Vectores"
   ]
  },
  {
   "cell_type": "markdown",
   "metadata": {},
   "source": [
    "### 1. Un método para imprimir mejor"
   ]
  },
  {
   "cell_type": "code",
   "execution_count": 16,
   "metadata": {},
   "outputs": [
    {
     "data": {
      "text/plain": [
       "<__main__.Array at 0x7fc962f42400>"
      ]
     },
     "execution_count": 16,
     "metadata": {},
     "output_type": "execute_result"
    }
   ],
   "source": [
    "Array([[1,2,3], [4,5,6]])"
   ]
  },
  {
   "cell_type": "code",
   "execution_count": 17,
   "metadata": {},
   "outputs": [
    {
     "name": "stdout",
     "output_type": "stream",
     "text": [
      "<__main__.Array object at 0x7fc962f422b0>\n"
     ]
    }
   ],
   "source": [
    "print(Array([[1,2,3], [4,5,6]]))"
   ]
  },
  {
   "cell_type": "code",
   "execution_count": 18,
   "metadata": {},
   "outputs": [
    {
     "data": {
      "text/plain": [
       "array([[1, 2, 3],\n",
       "       [4, 5, 6]])"
      ]
     },
     "execution_count": 18,
     "metadata": {},
     "output_type": "execute_result"
    }
   ],
   "source": [
    "np.array([[1,2,3],[4,5,6]])"
   ]
  },
  {
   "cell_type": "code",
   "execution_count": 19,
   "metadata": {},
   "outputs": [
    {
     "name": "stdout",
     "output_type": "stream",
     "text": [
      "[[1 2 3]\n",
      " [4 5 6]]\n"
     ]
    }
   ],
   "source": [
    "print(np.array([[1,2,3],[4,5,6]]))"
   ]
  },
  {
   "cell_type": "markdown",
   "metadata": {},
   "source": [
    "### Ejercicio 1\n",
    "\n",
    "#### __repr__ y __str__"
   ]
  },
  {
   "cell_type": "code",
   "execution_count": 20,
   "metadata": {
    "collapsed": true
   },
   "outputs": [],
   "source": [
    "class Array:\n",
    "    \"Una clase mínima para álgebra lineal\"\n",
    "    def __init__(self, list_of_rows):\n",
    "        \"Constructor\"\n",
    "        self.data = list_of_rows\n",
    "        self.shape = (len(list_of_rows), len(list_of_rows[0]))\n",
    "    def __repr__(self):\n",
    "        \"Representar sin imprimir\"\n",
    "        return 'Array([%s])' % (', \\n       '.join(str(x) for x in self.data))\n",
    "    def __str__(self):\n",
    "        \"Imprimir\"\n",
    "        return '[%s]' % (' \\n '.join(str(x) for x in self.data))"
   ]
  },
  {
   "cell_type": "code",
   "execution_count": 21,
   "metadata": {},
   "outputs": [
    {
     "data": {
      "text/plain": [
       "Array([[1, 2, 3], \n",
       "       [4, 5, 6], \n",
       "       [7, 8, 9]])"
      ]
     },
     "execution_count": 21,
     "metadata": {},
     "output_type": "execute_result"
    }
   ],
   "source": [
    "Array([[1,2,3], [4,5,6], [7,8,9]])"
   ]
  },
  {
   "cell_type": "code",
   "execution_count": 22,
   "metadata": {},
   "outputs": [
    {
     "name": "stdout",
     "output_type": "stream",
     "text": [
      "[[1, 2, 3] \n",
      " [4, 5, 6] \n",
      " [7, 8, 9]]\n"
     ]
    }
   ],
   "source": [
    "x = Array([[1,2,3], [4,5,6], [7,8,9]]) # Pendiente: Necesitamos eliminar las comas de esta\n",
    "print(x)"
   ]
  },
  {
   "cell_type": "markdown",
   "metadata": {},
   "source": [
    "### Ejercicio 2\n",
    "\n",
    "#### Setitem"
   ]
  },
  {
   "cell_type": "code",
   "execution_count": 23,
   "metadata": {
    "collapsed": true
   },
   "outputs": [],
   "source": [
    "class Array:\n",
    "    \"Una clase mínima para álgebra lineal\"\n",
    "    def __init__(self, list_of_rows):\n",
    "        \"Constructor y validador\"\n",
    "        # obtener dimensiones\n",
    "        self.data = list_of_rows\n",
    "        nrow = len(list_of_rows)\n",
    "        #  ___caso vector: redimensionar correctamente\n",
    "        if not isinstance(list_of_rows[0], list):\n",
    "            nrow = 1\n",
    "            self.data = [[x] for x in list_of_rows]\n",
    "        # ahora las columnas deben estar bien aunque sea un vector\n",
    "        ncol = len(self.data[0])\n",
    "        self.shape = (nrow, ncol)\n",
    "        # validar tamano correcto de filas\n",
    "        if any([len(r) != ncol for r in self.data]):\n",
    "            raise Exception(\"Las filas deben ser del mismo tamano\")\n",
    "    \n",
    "    def __getitem__(self, idx):\n",
    "        return self.data[idx[0]][idx[1]]\n",
    "    def __repr__(self):\n",
    "        \"Representar sin imprimir\"\n",
    "        return 'Array([%s])' % (', \\n       '.join(str(x) for x in self.data))\n",
    "    def __str__(self):\n",
    "        \"Imprimir\"\n",
    "        return '[%s]' % (' \\n '.join(str(x) for x in self.data))\n",
    "    def __setitem__(self, idx, new_value):\n",
    "        \"Cambiar valor\"\n",
    "        self.data[idx[0]][idx[1]] = new_value"
   ]
  },
  {
   "cell_type": "code",
   "execution_count": 24,
   "metadata": {},
   "outputs": [
    {
     "data": {
      "text/plain": [
       "5"
      ]
     },
     "execution_count": 24,
     "metadata": {},
     "output_type": "execute_result"
    }
   ],
   "source": [
    "A = Array([[1,2,3],[4,5,6]])\n",
    "A[1,1]"
   ]
  },
  {
   "cell_type": "code",
   "execution_count": 25,
   "metadata": {},
   "outputs": [
    {
     "data": {
      "text/plain": [
       "Array([[1, 2, 3], \n",
       "       [4, 5, 10]])"
      ]
     },
     "execution_count": 25,
     "metadata": {},
     "output_type": "execute_result"
    }
   ],
   "source": [
    "A[1,2] = 10\n",
    "A"
   ]
  },
  {
   "cell_type": "markdown",
   "metadata": {},
   "source": [
    "### Ejercicio 3"
   ]
  },
  {
   "cell_type": "code",
   "execution_count": 26,
   "metadata": {
    "collapsed": true
   },
   "outputs": [],
   "source": [
    "y=10\n",
    "x=4"
   ]
  },
  {
   "cell_type": "code",
   "execution_count": 27,
   "metadata": {},
   "outputs": [
    {
     "name": "stdout",
     "output_type": "stream",
     "text": [
      "[0.0, 0.0, 0.0, 0.0]\n",
      "[[0.0, 0.0, 0.0, 0.0], [0.0, 0.0, 0.0, 0.0], [0.0, 0.0, 0.0, 0.0], [0.0, 0.0, 0.0, 0.0], [0.0, 0.0, 0.0, 0.0], [0.0, 0.0, 0.0, 0.0], [0.0, 0.0, 0.0, 0.0], [0.0, 0.0, 0.0, 0.0], [0.0, 0.0, 0.0, 0.0], [0.0, 0.0, 0.0, 0.0]]\n"
     ]
    },
    {
     "data": {
      "text/plain": [
       "Array([[0.0, 0.0, 0.0, 0.0], \n",
       "       [0.0, 0.0, 0.0, 0.0], \n",
       "       [0.0, 0.0, 0.0, 0.0], \n",
       "       [0.0, 0.0, 0.0, 0.0], \n",
       "       [0.0, 0.0, 0.0, 0.0], \n",
       "       [0.0, 0.0, 0.0, 0.0], \n",
       "       [0.0, 0.0, 0.0, 0.0], \n",
       "       [0.0, 0.0, 0.0, 0.0], \n",
       "       [0.0, 0.0, 0.0, 0.0], \n",
       "       [0.0, 0.0, 0.0, 0.0]])"
      ]
     },
     "execution_count": 27,
     "metadata": {},
     "output_type": "execute_result"
    }
   ],
   "source": [
    "a = [0. for z in range(x)]\n",
    "print(a)\n",
    "b = [a for z in range (y)]\n",
    "print(b)\n",
    "Array([a for z in range (y)])"
   ]
  },
  {
   "cell_type": "markdown",
   "metadata": {},
   "source": [
    "#### 1) Array de ceros"
   ]
  },
  {
   "cell_type": "code",
   "execution_count": 143,
   "metadata": {
    "collapsed": true
   },
   "outputs": [],
   "source": [
    "def zeros(shapex, shapey):\n",
    "    \"Esta función crea un array de ceros\"\n",
    "    a = [0. for z in range(shapey)]\n",
    "    return [a for z in range(shapex)]"
   ]
  },
  {
   "cell_type": "code",
   "execution_count": 144,
   "metadata": {},
   "outputs": [
    {
     "name": "stdout",
     "output_type": "stream",
     "text": [
      "[[0.0, 0.0, 0.0, 0.0, 0.0] \n",
      " [0.0, 0.0, 0.0, 0.0, 0.0] \n",
      " [0.0, 0.0, 0.0, 0.0, 0.0]]\n"
     ]
    }
   ],
   "source": [
    "A = Array(zeros(3,5))\n",
    "print(A)"
   ]
  },
  {
   "cell_type": "markdown",
   "metadata": {},
   "source": [
    "#### 2) Matriz identidad"
   ]
  },
  {
   "cell_type": "code",
   "execution_count": 145,
   "metadata": {
    "collapsed": true
   },
   "outputs": [],
   "source": [
    "def eye(n):\n",
    "    \"Esta función crea una matriz identidad de tamaño n\"\n",
    "    x = [[0 if x is not y else 1 for x in range(n) ] for y in range(n)]\n",
    "    return x"
   ]
  },
  {
   "cell_type": "code",
   "execution_count": 146,
   "metadata": {
    "scrolled": true
   },
   "outputs": [
    {
     "name": "stdout",
     "output_type": "stream",
     "text": [
      "[[1, 0, 0, 0, 0] \n",
      " [0, 1, 0, 0, 0] \n",
      " [0, 0, 1, 0, 0] \n",
      " [0, 0, 0, 1, 0] \n",
      " [0, 0, 0, 0, 1]]\n"
     ]
    }
   ],
   "source": [
    "A = Array(eye(5))\n",
    "print(A)"
   ]
  },
  {
   "cell_type": "markdown",
   "metadata": {},
   "source": [
    "### Ejercicio 4"
   ]
  },
  {
   "cell_type": "markdown",
   "metadata": {},
   "source": [
    "#### Transponer"
   ]
  },
  {
   "cell_type": "code",
   "execution_count": 147,
   "metadata": {
    "collapsed": true
   },
   "outputs": [],
   "source": [
    "class Array:\n",
    "    \"Una clase mínima para álgebra lineal\"\n",
    "    def __init__(self, list_of_rows):\n",
    "        \"Constructor y validador\"\n",
    "        # obtener dimensiones\n",
    "        self.data = list_of_rows\n",
    "        nrow = len(list_of_rows)\n",
    "        #  ___caso vector: redimensionar correctamente\n",
    "        if not isinstance(list_of_rows[0], list):\n",
    "            nrow = 1\n",
    "            self.data = [[x] for x in list_of_rows]\n",
    "        # ahora las columnas deben estar bien aunque sea un vector\n",
    "        ncol = len(self.data[0])\n",
    "        self.shape = (nrow, ncol)\n",
    "        # validar tamano correcto de filas\n",
    "        if any([len(r) != ncol for r in self.data]):\n",
    "            raise Exception(\"Las filas deben ser del mismo tamano\")\n",
    "    \n",
    "    def __getitem__(self, idx):\n",
    "        return self.data[idx[0]][idx[1]]\n",
    "    def __repr__(self):\n",
    "        \"Representar sin imprimir\"\n",
    "        return 'Array([%s])' % (', \\n       '.join(str(x) for x in self.data))\n",
    "    def __str__(self):\n",
    "        \"Imprimir\"\n",
    "        return '[%s]' % (' \\n '.join(str(x) for x in self.data))\n",
    "    def __setitem__(self, idx, new_value):\n",
    "        \"Cambiar valor\"\n",
    "        self.data[idx[0]][idx[1]] = new_value\n",
    "    def transponer(self):\n",
    "        \"Esta función transpone una matriz A mxn en una matriz B nxm\"\n",
    "        n = len(self.data[0])\n",
    "        B = [[j[i] for j in self.data] for i in range(n)]  \n",
    "        return B"
   ]
  },
  {
   "cell_type": "code",
   "execution_count": 148,
   "metadata": {
    "collapsed": true
   },
   "outputs": [],
   "source": [
    "A = [[1,2,3],[99,5,6],[4,99,6],[4,5,6],[4,5,6],[4,5,6],[4,5,6],[4,5,6]] \n",
    "Z = [[1,2,3,4,5,6,7,8,9,10],[1,2,3,4,5,6,7,8,9,10]]"
   ]
  },
  {
   "cell_type": "code",
   "execution_count": 149,
   "metadata": {},
   "outputs": [
    {
     "name": "stdout",
     "output_type": "stream",
     "text": [
      "[[1, 99, 4, 4, 4, 4, 4, 4], [2, 5, 99, 5, 5, 5, 5, 5], [3, 6, 6, 6, 6, 6, 6, 6]]\n",
      "[[1, 1], [2, 2], [3, 3], [4, 4], [5, 5], [6, 6], [7, 7], [8, 8], [9, 9], [10, 10]]\n"
     ]
    }
   ],
   "source": [
    "B = Array(A).transponer()\n",
    "print(B)\n",
    "W = Array(Z).transponer()\n",
    "print(W)"
   ]
  },
  {
   "cell_type": "markdown",
   "metadata": {},
   "source": [
    "### Ejercicio 5"
   ]
  },
  {
   "cell_type": "markdown",
   "metadata": {},
   "source": [
    "#### 1) Suma por la derecha"
   ]
  },
  {
   "cell_type": "code",
   "execution_count": 150,
   "metadata": {
    "collapsed": true
   },
   "outputs": [],
   "source": [
    "class Array:\n",
    "    \"Una clase mínima para álgebra lineal\"\n",
    "    def __init__(self, list_of_rows):\n",
    "        \"Constructor y validador\"\n",
    "        # obtener dimensiones\n",
    "        self.data = list_of_rows\n",
    "        nrow = len(list_of_rows)\n",
    "        #  ___caso vector: redimensionar correctamente\n",
    "        if not isinstance(list_of_rows[0], list):\n",
    "            nrow = 1\n",
    "            self.data = [[x] for x in list_of_rows]\n",
    "        # ahora las columnas deben estar bien aunque sea un vector\n",
    "        ncol = len(self.data[0])\n",
    "        self.shape = (nrow, ncol)\n",
    "        # validar tamano correcto de filas\n",
    "        if any([len(r) != ncol for r in self.data]):\n",
    "            raise Exception(\"Las filas deben ser del mismo tamano\")\n",
    "    \n",
    "    def __getitem__(self, idx):\n",
    "        return self.data[idx[0]][idx[1]]\n",
    "    def __repr__(self):\n",
    "        \"Representar sin imprimir\"\n",
    "        return 'Array([%s])' % (', \\n       '.join(str(x) for x in self.data))\n",
    "    def __str__(self):\n",
    "        \"Imprimir\"\n",
    "        return '[%s]' % (' \\n '.join(str(x) for x in self.data))\n",
    "    def __setitem__(self, idx, new_value):\n",
    "        \"Cambiar valor\"\n",
    "        self.data[idx[0]][idx[1]] = new_value\n",
    "    def transponer(self):\n",
    "        \"Esta función transpone una matriz A mxn en una matriz B nxm\"\n",
    "        n = len(self.data[0])\n",
    "        B = [[j[i] for j in self.data] for i in range(n)]  \n",
    "        return B\n",
    "    \n",
    "    def __add__(self, other):\n",
    "        \"Hora de sumar\"\n",
    "        if isinstance(other, Array):\n",
    "            if self.shape != other.shape:\n",
    "                raise Exception(\"Las dimensiones son distintas!\")\n",
    "            rows, cols = self.shape\n",
    "            newArray = Array([[0. for c in range(cols)] for r in range(rows)])\n",
    "            for r in range(rows):\n",
    "                for c in range(cols):\n",
    "                    newArray.data[r][c] = self.data[r][c] + other.data[r][c]\n",
    "            return newArray\n",
    "        elif isinstance(2, (int, float, complex)): # en caso de que el lado derecho sea solo un numero\n",
    "            rows, cols = self.shape\n",
    "            newArray = Array([[0. for c in range(cols)] for r in range(rows)])\n",
    "            for r in range(rows):\n",
    "                for c in range(cols):\n",
    "                    newArray.data[r][c] = self.data[r][c] + other\n",
    "            return newArray\n",
    "        else:\n",
    "            return NotImplemented # es un tipo de error particular usado en estos metodos\n",
    "\n",
    "    def __radd__(self, other):\n",
    "        \"Hora de sumar por la derecha\"\n",
    "        if isinstance(2, (int, float, complex)): # en caso de que el lado izquierdo sea solo un numero\n",
    "            rows, cols = self.shape\n",
    "            newArray = Array([[0. for c in range(cols)] for r in range(rows)])\n",
    "            for r in range(rows):\n",
    "                for c in range(cols):\n",
    "                    newArray.data[r][c] = self.data[r][c] + other\n",
    "            return newArray\n",
    "        else:\n",
    "            return NotImplemented # es un tipo de error particular usado en estos metodos\n",
    "\n"
   ]
  },
  {
   "cell_type": "code",
   "execution_count": 151,
   "metadata": {},
   "outputs": [
    {
     "data": {
      "text/plain": [
       "[[6, 8], [10, 12]]"
      ]
     },
     "execution_count": 151,
     "metadata": {},
     "output_type": "execute_result"
    }
   ],
   "source": [
    "A = Array([[1,2], [3,4]])\n",
    "B = Array([[5,6], [7,8]])\n",
    "C = A + B\n",
    "C.data"
   ]
  },
  {
   "cell_type": "code",
   "execution_count": 152,
   "metadata": {},
   "outputs": [
    {
     "data": {
      "text/plain": [
       "[[11, 12], [13, 14]]"
      ]
     },
     "execution_count": 152,
     "metadata": {},
     "output_type": "execute_result"
    }
   ],
   "source": [
    "D = A + 10\n",
    "D.data"
   ]
  },
  {
   "cell_type": "code",
   "execution_count": 153,
   "metadata": {},
   "outputs": [
    {
     "data": {
      "text/plain": [
       "[[16, 17], [18, 19]]"
      ]
     },
     "execution_count": 153,
     "metadata": {},
     "output_type": "execute_result"
    }
   ],
   "source": [
    "D = 15 + A\n",
    "D.data"
   ]
  },
  {
   "cell_type": "code",
   "execution_count": 154,
   "metadata": {},
   "outputs": [
    {
     "data": {
      "text/plain": [
       "Array([[2, 3], \n",
       "       [4, 5]])"
      ]
     },
     "execution_count": 154,
     "metadata": {},
     "output_type": "execute_result"
    }
   ],
   "source": [
    "1 + Array([[1,2], [3,4]])"
   ]
  },
  {
   "cell_type": "markdown",
   "metadata": {},
   "source": [
    "#### 2) Resta"
   ]
  },
  {
   "cell_type": "code",
   "execution_count": 155,
   "metadata": {
    "collapsed": true
   },
   "outputs": [],
   "source": [
    "class Array:\n",
    "    \"Una clase mínima para álgebra lineal\"\n",
    "    def __init__(self, list_of_rows):\n",
    "        \"Constructor y validador\"\n",
    "        # obtener dimensiones\n",
    "        self.data = list_of_rows\n",
    "        nrow = len(list_of_rows)\n",
    "        #  ___caso vector: redimensionar correctamente\n",
    "        if not isinstance(list_of_rows[0], list):\n",
    "            nrow = 1\n",
    "            self.data = [[x] for x in list_of_rows]\n",
    "        # ahora las columnas deben estar bien aunque sea un vector\n",
    "        ncol = len(self.data[0])\n",
    "        self.shape = (nrow, ncol)\n",
    "        # validar tamano correcto de filas\n",
    "        if any([len(r) != ncol for r in self.data]):\n",
    "            raise Exception(\"Las filas deben ser del mismo tamano\")\n",
    "    \n",
    "    def __getitem__(self, idx):\n",
    "        return self.data[idx[0]][idx[1]]\n",
    "    def __repr__(self):\n",
    "        \"Representar sin imprimir\"\n",
    "        return 'Array([%s])' % (', \\n       '.join(str(x) for x in self.data))\n",
    "    def __str__(self):\n",
    "        \"Imprimir\"\n",
    "        return '[%s]' % (' \\n '.join(str(x) for x in self.data))\n",
    "    def __setitem__(self, idx, new_value):\n",
    "        \"Cambiar valor\"\n",
    "        self.data[idx[0]][idx[1]] = new_value\n",
    "    def transponer(self):\n",
    "        \"Esta función transpone una matriz A mxn en una matriz B nxm\"\n",
    "        n = len(self.data[0])\n",
    "        B = [[j[i] for j in self.data] for i in range(n)]  \n",
    "        return B\n",
    "    \n",
    "    def __add__(self, other):\n",
    "        \"Hora de sumar\"\n",
    "        if isinstance(other, Array):\n",
    "            if self.shape != other.shape:\n",
    "                raise Exception(\"Las dimensiones son distintas!\")\n",
    "            rows, cols = self.shape\n",
    "            newArray = Array([[0. for c in range(cols)] for r in range(rows)])\n",
    "            for r in range(rows):\n",
    "                for c in range(cols):\n",
    "                    newArray.data[r][c] = self.data[r][c] + other.data[r][c]\n",
    "            return newArray\n",
    "        elif isinstance(2, (int, float, complex)): # en caso de que el lado derecho sea solo un numero\n",
    "            rows, cols = self.shape\n",
    "            newArray = Array([[0. for c in range(cols)] for r in range(rows)])\n",
    "            for r in range(rows):\n",
    "                for c in range(cols):\n",
    "                    newArray.data[r][c] = self.data[r][c] + other\n",
    "            return newArray\n",
    "        else:\n",
    "            return NotImplemented # es un tipo de error particular usado en estos metodos\n",
    "\n",
    "    def __radd__(self, other):\n",
    "        \"Hora de sumar por la derecha\"\n",
    "        if isinstance(2, (int, float, complex)): # en caso de que el lado izquierdo sea solo un numero\n",
    "            rows, cols = self.shape\n",
    "            newArray = Array([[0. for c in range(cols)] for r in range(rows)])\n",
    "            for r in range(rows):\n",
    "                for c in range(cols):\n",
    "                    newArray.data[r][c] = self.data[r][c] + other\n",
    "            return newArray\n",
    "        else:\n",
    "            return NotImplemented # es un tipo de error particular usado en estos metodos\n",
    "\n",
    "    def __sub__(self, other):\n",
    "        \"Hora de restar\"\n",
    "        if isinstance(other, Array):\n",
    "            if self.shape != other.shape:\n",
    "                raise Exception(\"Las dimensiones son distintas!\")\n",
    "            rows, cols = self.shape\n",
    "            newArray = Array([[0. for c in range(cols)] for r in range(rows)])\n",
    "            for r in range(rows):\n",
    "                for c in range(cols):\n",
    "                    newArray.data[r][c] = self.data[r][c] - other.data[r][c]\n",
    "            return newArray\n",
    "        elif isinstance(2, (int, float, complex)): # en caso de que el lado derecho sea solo un numero\n",
    "            rows, cols = self.shape\n",
    "            newArray = Array([[0. for c in range(cols)] for r in range(rows)])\n",
    "            for r in range(rows):\n",
    "                for c in range(cols):\n",
    "                    newArray.data[r][c] = self.data[r][c] - other\n",
    "            return newArray\n",
    "        else:\n",
    "            return NotImplemented # es un tipo de error particular usado en estos metodos\n",
    "        \n",
    "    def __rsub__(self, other):\n",
    "        \"Hora de sumar por la derecha\"\n",
    "        if isinstance(2, (int, float, complex)): # en caso de que el lado izquierdo sea solo un numero\n",
    "            rows, cols = self.shape\n",
    "            newArray = Array([[0. for c in range(cols)] for r in range(rows)])\n",
    "            for r in range(rows):\n",
    "                for c in range(cols):\n",
    "                    newArray.data[r][c] = self.data[r][c] - other\n",
    "            return newArray\n",
    "        else:\n",
    "            return NotImplemented # es un tipo de error particular usado en estos metodos"
   ]
  },
  {
   "cell_type": "code",
   "execution_count": 156,
   "metadata": {},
   "outputs": [
    {
     "data": {
      "text/plain": [
       "[[-4, -4], [-4, -4]]"
      ]
     },
     "execution_count": 156,
     "metadata": {},
     "output_type": "execute_result"
    }
   ],
   "source": [
    "A = Array([[1,2], [3,4]])\n",
    "B = Array([[5,6], [7,8]])\n",
    "C = A - B\n",
    "C.data"
   ]
  },
  {
   "cell_type": "code",
   "execution_count": 157,
   "metadata": {},
   "outputs": [
    {
     "data": {
      "text/plain": [
       "[[-9, -8], [-7, -6]]"
      ]
     },
     "execution_count": 157,
     "metadata": {},
     "output_type": "execute_result"
    }
   ],
   "source": [
    "D = A - 10\n",
    "D.data"
   ]
  },
  {
   "cell_type": "code",
   "execution_count": 158,
   "metadata": {},
   "outputs": [
    {
     "data": {
      "text/plain": [
       "[[-14, -13], [-12, -11]]"
      ]
     },
     "execution_count": 158,
     "metadata": {},
     "output_type": "execute_result"
    }
   ],
   "source": [
    "D = 15 - A\n",
    "D.data"
   ]
  },
  {
   "cell_type": "markdown",
   "metadata": {},
   "source": [
    "### Ejercicio 6"
   ]
  },
  {
   "cell_type": "code",
   "execution_count": 193,
   "metadata": {},
   "outputs": [],
   "source": [
    "class Array:\n",
    "    \"Una clase mínima para álgebra lineal\"\n",
    "    def __init__(self, list_of_rows):\n",
    "        \"Constructor y validador\"\n",
    "        # obtener dimensiones\n",
    "        self.data = list_of_rows\n",
    "        nrow = len(list_of_rows)\n",
    "        #  ___caso vector: redimensionar correctamente\n",
    "        if not isinstance(list_of_rows[0], list):\n",
    "            nrow = 1\n",
    "            self.data = [[x] for x in list_of_rows]\n",
    "        # ahora las columnas deben estar bien aunque sea un vector\n",
    "        ncol = len(self.data[0])\n",
    "        self.shape = (nrow, ncol)\n",
    "        # validar tamano correcto de filas\n",
    "        if any([len(r) != ncol for r in self.data]):\n",
    "            raise Exception(\"Las filas deben ser del mismo tamano\")\n",
    "    \n",
    "    def __getitem__(self, idx):\n",
    "        return self.data[idx[0]][idx[1]]\n",
    "    def __repr__(self):\n",
    "        \"Representar sin imprimir\"\n",
    "        return 'Array([%s])' % (', \\n       '.join(str(x) for x in self.data))\n",
    "    def __str__(self):\n",
    "        \"Imprimir\"\n",
    "        return '[%s]' % (' \\n '.join(str(x) for x in self.data))\n",
    "    def __setitem__(self, idx, new_value):\n",
    "        \"Cambiar valor\"\n",
    "        self.data[idx[0]][idx[1]] = new_value\n",
    "    def transponer(self):\n",
    "        \"Esta función transpone una matriz A mxn en una matriz B nxm\"\n",
    "        n = len(self.data[0])\n",
    "        B = [[j[i] for j in self.data] for i in range(n)]  \n",
    "        return B\n",
    "    \n",
    "    def cuadrada(self):\n",
    "        if self.shape[0] == self.shape[1]:\n",
    "            resultado = \"Sí\"\n",
    "        else:\n",
    "            resultado = \"No\"\n",
    "        return [resultado,self.shape[0]]\n",
    "    \n",
    "    def __add__(self, other):\n",
    "        \"Hora de sumar\"\n",
    "        if isinstance(other, Array):\n",
    "            if self.shape != other.shape:\n",
    "                raise Exception(\"Las dimensiones son distintas!\")\n",
    "            rows, cols = self.shape\n",
    "            newArray = Array([[0. for c in range(cols)] for r in range(rows)])\n",
    "            for r in range(rows):\n",
    "                for c in range(cols):\n",
    "                    newArray.data[r][c] = self.data[r][c] + other.data[r][c]\n",
    "            return newArray\n",
    "        elif isinstance(2, (int, float, complex)): # en caso de que el lado derecho sea solo un numero\n",
    "            rows, cols = self.shape\n",
    "            newArray = Array([[0. for c in range(cols)] for r in range(rows)])\n",
    "            for r in range(rows):\n",
    "                for c in range(cols):\n",
    "                    newArray.data[r][c] = self.data[r][c] + other\n",
    "            return newArray\n",
    "        else:\n",
    "            return NotImplemented # es un tipo de error particular usado en estos metodos\n",
    "\n",
    "    def __radd__(self, other):\n",
    "        \"Hora de sumar por la derecha\"\n",
    "        if isinstance(2, (int, float, complex)): # en caso de que el lado izquierdo sea solo un numero\n",
    "            rows, cols = self.shape\n",
    "            newArray = Array([[0. for c in range(cols)] for r in range(rows)])\n",
    "            for r in range(rows):\n",
    "                for c in range(cols):\n",
    "                    newArray.data[r][c] = self.data[r][c] + other\n",
    "            return newArray\n",
    "        else:\n",
    "            return NotImplemented # es un tipo de error particular usado en estos metodos\n",
    "\n",
    "    def __sub__(self, other):\n",
    "        \"Hora de restar\"\n",
    "        if isinstance(other, Array):\n",
    "            if self.shape != other.shape:\n",
    "                raise Exception(\"Las dimensiones son distintas!\")\n",
    "            rows, cols = self.shape\n",
    "            newArray = Array([[0. for c in range(cols)] for r in range(rows)])\n",
    "            for r in range(rows):\n",
    "                for c in range(cols):\n",
    "                    newArray.data[r][c] = self.data[r][c] - other.data[r][c]\n",
    "            return newArray\n",
    "        elif isinstance(2, (int, float, complex)): # en caso de que el lado derecho sea solo un numero\n",
    "            rows, cols = self.shape\n",
    "            newArray = Array([[0. for c in range(cols)] for r in range(rows)])\n",
    "            for r in range(rows):\n",
    "                for c in range(cols):\n",
    "                    newArray.data[r][c] = self.data[r][c] - other\n",
    "            return newArray\n",
    "        else:\n",
    "            return NotImplemented # es un tipo de error particular usado en estos metodos\n",
    "        \n",
    "    def __rsub__(self, other):\n",
    "        \"Hora de sumar por la derecha\"\n",
    "        if isinstance(2, (int, float, complex)): # en caso de que el lado izquierdo sea solo un numero\n",
    "            rows, cols = self.shape\n",
    "            newArray = Array([[0. for c in range(cols)] for r in range(rows)])\n",
    "            for r in range(rows):\n",
    "                for c in range(cols):\n",
    "                    newArray.data[r][c] = self.data[r][c] - other\n",
    "            return newArray\n",
    "        else:\n",
    "            return NotImplemented # es un tipo de error particular usado en estos metodos\n",
    "    \n",
    "    def __mul__(self,other):\n",
    "        \"Hora de multiplicar\"\n",
    "        if isinstance(other, Array) and isinstance(self, Array):\n",
    "            if self.shape[1] != other.shape[0]:\n",
    "                raise Exception(\"Las dimensiones son distintas!\")\n",
    "            rows = self.shape[0]\n",
    "            cols = other.shape[1]\n",
    "            p = self.shape[1]\n",
    "            newArray = Array([[0. for c in range(cols)] for r in range(rows)])\n",
    "            for r in range(rows):\n",
    "                for c in range(cols):\n",
    "                    newArray.data[r][c] = [newArray.data[r][c] + self.data[r][x] * other.data[x][c] for x in range(p)]\n",
    "                    newArray.data[r][c] = sum(newArray.data[r][c])\n",
    "            return newArray\n",
    "        \n",
    "        elif isinstance(2, (int, float, complex)): # en caso de que el lado derecho sea solo un numero\n",
    "            rows, cols = self.shape\n",
    "            newArray = Array([[0. for c in range(cols)] for r in range(rows)])\n",
    "            for r in range(rows):\n",
    "                for c in range(cols):\n",
    "                    newArray.data[r][c] = self.data[r][c] * other\n",
    "            return newArray\n",
    "        else:\n",
    "            return NotImplemented # es un tipo de error particular usado en estos metodos\n",
    "\n",
    "    def __rmul__(self,other):\n",
    "        \"Hora de multiplicar por la derecha\"\n",
    "        if isinstance(2, (int, float, complex)): # en caso de que el lado izquierdo sea solo un numero\n",
    "            rows, cols = self.shape\n",
    "            newArray = Array([[0. for c in range(cols)] for r in range(rows)])\n",
    "            for r in range(rows):\n",
    "                for c in range(cols):\n",
    "                    newArray.data[r][c] = self.data[r][c] * other\n",
    "            return newArray\n",
    "        else:\n",
    "            return NotImplemented # es un tipo de error particular usado en estos metodos"
   ]
  },
  {
   "cell_type": "code",
   "execution_count": 194,
   "metadata": {},
   "outputs": [
    {
     "name": "stdout",
     "output_type": "stream",
     "text": [
      "[[22.0, 28.0] \n",
      " [49.0, 64.0]]\n"
     ]
    }
   ],
   "source": [
    "A = Array([[1,2,3], [4,5,6]])\n",
    "B = Array([[1,2], [3,4], [5,6]])\n",
    "C = A*B\n",
    "C.data\n",
    "print(C)"
   ]
  },
  {
   "cell_type": "code",
   "execution_count": 161,
   "metadata": {},
   "outputs": [
    {
     "name": "stdout",
     "output_type": "stream",
     "text": [
      "[[9.0, 12.0, 15.0] \n",
      " [19.0, 26.0, 33.0] \n",
      " [29.0, 40.0, 51.0]]\n"
     ]
    }
   ],
   "source": [
    "B = Array([[1,2,3], [4,5,6]])\n",
    "A = Array([[1,2], [3,4], [5,6]])\n",
    "C = A*B\n",
    "C.data\n",
    "print(C)"
   ]
  },
  {
   "cell_type": "code",
   "execution_count": 162,
   "metadata": {},
   "outputs": [
    {
     "name": "stdout",
     "output_type": "stream",
     "text": [
      "[[1.0, 2.0, 3.0] \n",
      " [4.0, 5.0, 6.0]]\n"
     ]
    }
   ],
   "source": [
    "a = [[1,2,3], [4,5,6]]\n",
    "b = eye(3)\n",
    "A = Array(a)\n",
    "B = Array(b)\n",
    "\n",
    "\n",
    "\n",
    "C = A*B\n",
    "C.data\n",
    "print(C)"
   ]
  },
  {
   "cell_type": "code",
   "execution_count": 165,
   "metadata": {},
   "outputs": [
    {
     "name": "stdout",
     "output_type": "stream",
     "text": [
      "[[0.0, 0.0, 0.0, 0.0, 0.0, 0.0, 0.0, 0.0, 0.0, 0.0] \n",
      " [0.0, 0.0, 0.0, 0.0, 0.0, 0.0, 0.0, 0.0, 0.0, 0.0]]\n"
     ]
    }
   ],
   "source": [
    "a = [[1,2,3], [4,5,6]]\n",
    "b = zeros(3,10)\n",
    "A = Array(a)\n",
    "B = Array(b)\n",
    "\n",
    "C = A*B\n",
    "C.data\n",
    "print(C)"
   ]
  },
  {
   "cell_type": "code",
   "execution_count": 164,
   "metadata": {},
   "outputs": [
    {
     "data": {
      "text/plain": [
       "[[0.5, 1.0, 1.5], [2.0, 2.5, 3.0]]"
      ]
     },
     "execution_count": 164,
     "metadata": {},
     "output_type": "execute_result"
    }
   ],
   "source": [
    "D = A * .5\n",
    "D.data"
   ]
  },
  {
   "cell_type": "code",
   "execution_count": 124,
   "metadata": {},
   "outputs": [
    {
     "data": {
      "text/plain": [
       "[[0.5, 1.0, 1.5], [2.0, 2.5, 3.0]]"
      ]
     },
     "execution_count": 124,
     "metadata": {},
     "output_type": "execute_result"
    }
   ],
   "source": [
    "D = .5 * A\n",
    "D.data"
   ]
  },
  {
   "cell_type": "code",
   "execution_count": 125,
   "metadata": {},
   "outputs": [
    {
     "name": "stdout",
     "output_type": "stream",
     "text": [
      "[[7.0, 10.0] \n",
      " [15.0, 22.0]]\n"
     ]
    }
   ],
   "source": [
    "A = Array([[1,2],[3,4]])\n",
    "B = Array([[1,2],[3,4]])\n",
    "C = A*B\n",
    "C.data\n",
    "print(C)"
   ]
  },
  {
   "cell_type": "markdown",
   "metadata": {},
   "source": [
    "### Ejercicio 7"
   ]
  },
  {
   "cell_type": "code",
   "execution_count": 166,
   "metadata": {
    "collapsed": true
   },
   "outputs": [],
   "source": [
    "class Vector(Array): # declara que Vector es un tipo de Array\n",
    "    def __init__(self, list_of_numbers):\n",
    "        self.vdata = list_of_numbers\n",
    "        list_of_rows = [[x] for x in list_of_numbers]\n",
    "        return Array.__init__(self, list_of_rows)\n",
    "    def __repr__(self):\n",
    "        return \"Vector(\" + str(self.vdata) + \")\"\n",
    "    def __str__(self):\n",
    "        return str(self.vdata)\n",
    "    def __add__(self, other):\n",
    "        new_arr = Array.__add__(self, other)\n",
    "        return Vector([x[0] for x in new_arr.data])"
   ]
  },
  {
   "cell_type": "markdown",
   "metadata": {},
   "source": [
    "Algoritmo de forward substitution"
   ]
  },
  {
   "cell_type": "code",
   "execution_count": 460,
   "metadata": {},
   "outputs": [],
   "source": [
    "class Array:\n",
    "    \"Una clase mínima para álgebra lineal\"\n",
    "    def __init__(self, list_of_rows):\n",
    "        \"Constructor y validador\"\n",
    "        # obtener dimensiones\n",
    "        self.data = list_of_rows\n",
    "        nrow = len(list_of_rows)\n",
    "        #  ___caso vector: redimensionar correctamente\n",
    "        if not isinstance(list_of_rows[0], list):\n",
    "            nrow = 1\n",
    "            self.data = [[x] for x in list_of_rows]\n",
    "        # ahora las columnas deben estar bien aunque sea un vector\n",
    "        ncol = len(self.data[0])\n",
    "        self.shape = (nrow, ncol)\n",
    "        # validar tamano correcto de filas\n",
    "        if any([len(r) != ncol for r in self.data]):\n",
    "            raise Exception(\"Las filas deben ser del mismo tamano\")\n",
    "    \n",
    "    def __getitem__(self, idx):\n",
    "        return self.data[idx[0]][idx[1]]\n",
    "    def __repr__(self):\n",
    "        \"Representar sin imprimir\"\n",
    "        return 'Array([%s])' % (', \\n       '.join(str(x) for x in self.data))\n",
    "    def __str__(self):\n",
    "        \"Imprimir\"\n",
    "        return '[%s]' % (' \\n '.join(str(x) for x in self.data))\n",
    "    def __setitem__(self, idx, new_value):\n",
    "        \"Cambiar valor\"\n",
    "        self.data[idx[0]][idx[1]] = new_value\n",
    "    def transponer(self):\n",
    "        \"Esta función transpone una matriz A mxn en una matriz B nxm\"\n",
    "        n = len(self.data[0])\n",
    "        B = [[j[i] for j in self.data] for i in range(n)]  \n",
    "        return B\n",
    "    \n",
    "    def cuadrada(self):\n",
    "        if self.shape[0] == self.shape[1]:\n",
    "            resultado = \"Sí\"\n",
    "        else:\n",
    "            resultado = \"No\"\n",
    "        return [resultado,self.shape[0]]\n",
    "    \n",
    "    def __add__(self, other):\n",
    "        \"Hora de sumar\"\n",
    "        if isinstance(other, Array):\n",
    "            if self.shape != other.shape:\n",
    "                raise Exception(\"Las dimensiones son distintas!\")\n",
    "            rows, cols = self.shape\n",
    "            newArray = Array([[0. for c in range(cols)] for r in range(rows)])\n",
    "            for r in range(rows):\n",
    "                for c in range(cols):\n",
    "                    newArray.data[r][c] = self.data[r][c] + other.data[r][c]\n",
    "            return newArray\n",
    "        elif isinstance(2, (int, float, complex)): # en caso de que el lado derecho sea solo un numero\n",
    "            rows, cols = self.shape\n",
    "            newArray = Array([[0. for c in range(cols)] for r in range(rows)])\n",
    "            for r in range(rows):\n",
    "                for c in range(cols):\n",
    "                    newArray.data[r][c] = self.data[r][c] + other\n",
    "            return newArray\n",
    "        else:\n",
    "            return NotImplemented # es un tipo de error particular usado en estos metodos\n",
    "\n",
    "    def __radd__(self, other):\n",
    "        \"Hora de sumar por la derecha\"\n",
    "        if isinstance(2, (int, float, complex)): # en caso de que el lado izquierdo sea solo un numero\n",
    "            rows, cols = self.shape\n",
    "            newArray = Array([[0. for c in range(cols)] for r in range(rows)])\n",
    "            for r in range(rows):\n",
    "                for c in range(cols):\n",
    "                    newArray.data[r][c] = self.data[r][c] + other\n",
    "            return newArray\n",
    "        else:\n",
    "            return NotImplemented # es un tipo de error particular usado en estos metodos\n",
    "\n",
    "    def __sub__(self, other):\n",
    "        \"Hora de restar\"\n",
    "        if isinstance(other, Array):\n",
    "            if self.shape != other.shape:\n",
    "                raise Exception(\"Las dimensiones son distintas!\")\n",
    "            rows, cols = self.shape\n",
    "            newArray = Array([[0. for c in range(cols)] for r in range(rows)])\n",
    "            for r in range(rows):\n",
    "                for c in range(cols):\n",
    "                    newArray.data[r][c] = self.data[r][c] - other.data[r][c]\n",
    "            return newArray\n",
    "        elif isinstance(2, (int, float, complex)): # en caso de que el lado derecho sea solo un numero\n",
    "            rows, cols = self.shape\n",
    "            newArray = Array([[0. for c in range(cols)] for r in range(rows)])\n",
    "            for r in range(rows):\n",
    "                for c in range(cols):\n",
    "                    newArray.data[r][c] = self.data[r][c] - other\n",
    "            return newArray\n",
    "        else:\n",
    "            return NotImplemented # es un tipo de error particular usado en estos metodos\n",
    "        \n",
    "    def __rsub__(self, other):\n",
    "        \"Hora de sumar por la derecha\"\n",
    "        if isinstance(2, (int, float, complex)): # en caso de que el lado izquierdo sea solo un numero\n",
    "            rows, cols = self.shape\n",
    "            newArray = Array([[0. for c in range(cols)] for r in range(rows)])\n",
    "            for r in range(rows):\n",
    "                for c in range(cols):\n",
    "                    newArray.data[r][c] = self.data[r][c] - other\n",
    "            return newArray\n",
    "        else:\n",
    "            return NotImplemented # es un tipo de error particular usado en estos metodos\n",
    "    \n",
    "    def __mul__(self,other):\n",
    "        \"Hora de multiplicar\"\n",
    "        if isinstance(other, Array) and isinstance(self, Array):\n",
    "            if self.shape[1] != other.shape[0]:\n",
    "                raise Exception(\"Las dimensiones son distintas!\")\n",
    "            rows = self.shape[0]\n",
    "            cols = other.shape[1]\n",
    "            p = self.shape[1]\n",
    "            newArray = Array([[0. for c in range(cols)] for r in range(rows)])\n",
    "            for r in range(rows):\n",
    "                for c in range(cols):\n",
    "                    newArray.data[r][c] = [newArray.data[r][c] + self.data[r][x] * other.data[x][c] for x in range(p)]\n",
    "                    newArray.data[r][c] = sum(newArray.data[r][c])\n",
    "            return newArray\n",
    "        \n",
    "        elif isinstance(2, (int, float, complex)): # en caso de que el lado derecho sea solo un numero\n",
    "            rows, cols = self.shape\n",
    "            newArray = Array([[0. for c in range(cols)] for r in range(rows)])\n",
    "            for r in range(rows):\n",
    "                for c in range(cols):\n",
    "                    newArray.data[r][c] = self.data[r][c] * other\n",
    "            return newArray\n",
    "        else:\n",
    "            return NotImplemented # es un tipo de error particular usado en estos metodos\n",
    "\n",
    "    def __rmul__(self,other):\n",
    "        \"Hora de multiplicar por la derecha\"\n",
    "        if isinstance(2, (int, float, complex)): # en caso de que el lado izquierdo sea solo un numero\n",
    "            rows, cols = self.shape\n",
    "            newArray = Array([[0. for c in range(cols)] for r in range(rows)])\n",
    "            for r in range(rows):\n",
    "                for c in range(cols):\n",
    "                    newArray.data[r][c] = self.data[r][c] * other\n",
    "            return newArray\n",
    "        else:\n",
    "            return NotImplemented # es un tipo de error particular usado en estos metodos\n",
    "    \n",
    "    def shape(self):\n",
    "        self.shape\n",
    "        \n",
    "\n",
    "    def forwards_subs(self, vector):\n",
    "#        if self.shape[0] == self.shape[1]:\n",
    "#            n_var = self.cuadrada()[1]\n",
    "#            a = [0 for x in range(n_var)]\n",
    "           \n",
    "#            while \n",
    "            \n",
    "            \n",
    "#            return a\n",
    "#        else:\n",
    "#            return \"No es matriz cuadrada\"\n",
    "        pass"
   ]
  },
  {
   "cell_type": "code",
   "execution_count": 463,
   "metadata": {},
   "outputs": [
    {
     "name": "stdout",
     "output_type": "stream",
     "text": [
      "4\n"
     ]
    }
   ],
   "source": [
    "A = Array([[5,0,0,0],[4,5,0,0],[7,8,9,0],[7,8,9,10]])\n",
    "V = Array([[2],[3],[4],[13]])\n",
    "\n",
    "x = zeros(4,1)\n",
    "print(A.shape[0])\n"
   ]
  },
  {
   "cell_type": "code",
   "execution_count": 466,
   "metadata": {
    "collapsed": true
   },
   "outputs": [],
   "source": [
    "def solve(m, y):\n",
    "    v = [0 for i in range(A.shape[0])]\n",
    "    for i in range(A.shape[0]):\n",
    "        v[i] = (y[i] - v.dotProduct(m[i]))/float(m[i][i])\n",
    "\n",
    "    return v"
   ]
  },
  {
   "cell_type": "code",
   "execution_count": 468,
   "metadata": {},
   "outputs": [
    {
     "ename": "TypeError",
     "evalue": "'int' object is not subscriptable",
     "output_type": "error",
     "traceback": [
      "\u001b[0;31m---------------------------------------------------------------------------\u001b[0m",
      "\u001b[0;31mTypeError\u001b[0m                                 Traceback (most recent call last)",
      "\u001b[0;32m<ipython-input-468-70e694ef8fae>\u001b[0m in \u001b[0;36m<module>\u001b[0;34m()\u001b[0m\n\u001b[1;32m      1\u001b[0m \u001b[0ma\u001b[0m \u001b[0;34m=\u001b[0m \u001b[0;34m[\u001b[0m\u001b[0;34m[\u001b[0m\u001b[0;36m5\u001b[0m\u001b[0;34m,\u001b[0m\u001b[0;36m0\u001b[0m\u001b[0;34m,\u001b[0m\u001b[0;36m0\u001b[0m\u001b[0;34m,\u001b[0m\u001b[0;36m0\u001b[0m\u001b[0;34m]\u001b[0m\u001b[0;34m,\u001b[0m\u001b[0;34m[\u001b[0m\u001b[0;36m4\u001b[0m\u001b[0;34m,\u001b[0m\u001b[0;36m5\u001b[0m\u001b[0;34m,\u001b[0m\u001b[0;36m0\u001b[0m\u001b[0;34m,\u001b[0m\u001b[0;36m0\u001b[0m\u001b[0;34m]\u001b[0m\u001b[0;34m,\u001b[0m\u001b[0;34m[\u001b[0m\u001b[0;36m7\u001b[0m\u001b[0;34m,\u001b[0m\u001b[0;36m8\u001b[0m\u001b[0;34m,\u001b[0m\u001b[0;36m9\u001b[0m\u001b[0;34m,\u001b[0m\u001b[0;36m0\u001b[0m\u001b[0;34m]\u001b[0m\u001b[0;34m,\u001b[0m\u001b[0;34m[\u001b[0m\u001b[0;36m7\u001b[0m\u001b[0;34m,\u001b[0m\u001b[0;36m8\u001b[0m\u001b[0;34m,\u001b[0m\u001b[0;36m9\u001b[0m\u001b[0;34m,\u001b[0m\u001b[0;36m10\u001b[0m\u001b[0;34m]\u001b[0m\u001b[0;34m]\u001b[0m\u001b[0;34m\u001b[0m\u001b[0m\n\u001b[1;32m      2\u001b[0m \u001b[0mv\u001b[0m \u001b[0;34m=\u001b[0m \u001b[0;34m[\u001b[0m\u001b[0;34m[\u001b[0m\u001b[0;36m2\u001b[0m\u001b[0;34m]\u001b[0m\u001b[0;34m,\u001b[0m\u001b[0;34m[\u001b[0m\u001b[0;36m3\u001b[0m\u001b[0;34m]\u001b[0m\u001b[0;34m,\u001b[0m\u001b[0;34m[\u001b[0m\u001b[0;36m4\u001b[0m\u001b[0;34m]\u001b[0m\u001b[0;34m,\u001b[0m\u001b[0;34m[\u001b[0m\u001b[0;36m13\u001b[0m\u001b[0;34m]\u001b[0m\u001b[0;34m]\u001b[0m\u001b[0;34m\u001b[0m\u001b[0m\n\u001b[0;32m----> 3\u001b[0;31m \u001b[0msolve\u001b[0m\u001b[0;34m(\u001b[0m\u001b[0mA\u001b[0m\u001b[0;34m,\u001b[0m\u001b[0mV\u001b[0m\u001b[0;34m)\u001b[0m\u001b[0;34m\u001b[0m\u001b[0m\n\u001b[0m",
      "\u001b[0;32m<ipython-input-466-990247490d7d>\u001b[0m in \u001b[0;36msolve\u001b[0;34m(m, y)\u001b[0m\n\u001b[1;32m      2\u001b[0m     \u001b[0mv\u001b[0m \u001b[0;34m=\u001b[0m \u001b[0;34m[\u001b[0m\u001b[0;36m0\u001b[0m \u001b[0;32mfor\u001b[0m \u001b[0mi\u001b[0m \u001b[0;32min\u001b[0m \u001b[0mrange\u001b[0m\u001b[0;34m(\u001b[0m\u001b[0mA\u001b[0m\u001b[0;34m.\u001b[0m\u001b[0mshape\u001b[0m\u001b[0;34m[\u001b[0m\u001b[0;36m0\u001b[0m\u001b[0;34m]\u001b[0m\u001b[0;34m)\u001b[0m\u001b[0;34m]\u001b[0m\u001b[0;34m\u001b[0m\u001b[0m\n\u001b[1;32m      3\u001b[0m     \u001b[0;32mfor\u001b[0m \u001b[0mi\u001b[0m \u001b[0;32min\u001b[0m \u001b[0mrange\u001b[0m\u001b[0;34m(\u001b[0m\u001b[0mA\u001b[0m\u001b[0;34m.\u001b[0m\u001b[0mshape\u001b[0m\u001b[0;34m[\u001b[0m\u001b[0;36m0\u001b[0m\u001b[0;34m]\u001b[0m\u001b[0;34m)\u001b[0m\u001b[0;34m:\u001b[0m\u001b[0;34m\u001b[0m\u001b[0m\n\u001b[0;32m----> 4\u001b[0;31m         \u001b[0mv\u001b[0m\u001b[0;34m[\u001b[0m\u001b[0mi\u001b[0m\u001b[0;34m]\u001b[0m \u001b[0;34m=\u001b[0m \u001b[0;34m(\u001b[0m\u001b[0my\u001b[0m\u001b[0;34m[\u001b[0m\u001b[0mi\u001b[0m\u001b[0;34m]\u001b[0m \u001b[0;34m-\u001b[0m \u001b[0mv\u001b[0m\u001b[0;34m.\u001b[0m\u001b[0mdotProduct\u001b[0m\u001b[0;34m(\u001b[0m\u001b[0mm\u001b[0m\u001b[0;34m[\u001b[0m\u001b[0mi\u001b[0m\u001b[0;34m]\u001b[0m\u001b[0;34m)\u001b[0m\u001b[0;34m)\u001b[0m\u001b[0;34m/\u001b[0m\u001b[0mfloat\u001b[0m\u001b[0;34m(\u001b[0m\u001b[0mm\u001b[0m\u001b[0;34m[\u001b[0m\u001b[0mi\u001b[0m\u001b[0;34m]\u001b[0m\u001b[0;34m[\u001b[0m\u001b[0mi\u001b[0m\u001b[0;34m]\u001b[0m\u001b[0;34m)\u001b[0m\u001b[0;34m\u001b[0m\u001b[0m\n\u001b[0m\u001b[1;32m      5\u001b[0m \u001b[0;34m\u001b[0m\u001b[0m\n\u001b[1;32m      6\u001b[0m     \u001b[0;32mreturn\u001b[0m \u001b[0mv\u001b[0m\u001b[0;34m\u001b[0m\u001b[0m\n",
      "\u001b[0;32m<ipython-input-460-edd7f42ed4c3>\u001b[0m in \u001b[0;36m__getitem__\u001b[0;34m(self, idx)\u001b[0m\n\u001b[1;32m     18\u001b[0m \u001b[0;34m\u001b[0m\u001b[0m\n\u001b[1;32m     19\u001b[0m     \u001b[0;32mdef\u001b[0m \u001b[0m__getitem__\u001b[0m\u001b[0;34m(\u001b[0m\u001b[0mself\u001b[0m\u001b[0;34m,\u001b[0m \u001b[0midx\u001b[0m\u001b[0;34m)\u001b[0m\u001b[0;34m:\u001b[0m\u001b[0;34m\u001b[0m\u001b[0m\n\u001b[0;32m---> 20\u001b[0;31m         \u001b[0;32mreturn\u001b[0m \u001b[0mself\u001b[0m\u001b[0;34m.\u001b[0m\u001b[0mdata\u001b[0m\u001b[0;34m[\u001b[0m\u001b[0midx\u001b[0m\u001b[0;34m[\u001b[0m\u001b[0;36m0\u001b[0m\u001b[0;34m]\u001b[0m\u001b[0;34m]\u001b[0m\u001b[0;34m[\u001b[0m\u001b[0midx\u001b[0m\u001b[0;34m[\u001b[0m\u001b[0;36m1\u001b[0m\u001b[0;34m]\u001b[0m\u001b[0;34m]\u001b[0m\u001b[0;34m\u001b[0m\u001b[0m\n\u001b[0m\u001b[1;32m     21\u001b[0m     \u001b[0;32mdef\u001b[0m \u001b[0m__repr__\u001b[0m\u001b[0;34m(\u001b[0m\u001b[0mself\u001b[0m\u001b[0;34m)\u001b[0m\u001b[0;34m:\u001b[0m\u001b[0;34m\u001b[0m\u001b[0m\n\u001b[1;32m     22\u001b[0m         \u001b[0;34m\"Representar sin imprimir\"\u001b[0m\u001b[0;34m\u001b[0m\u001b[0m\n",
      "\u001b[0;31mTypeError\u001b[0m: 'int' object is not subscriptable"
     ]
    }
   ],
   "source": [
    "a = [[5,0,0,0],[4,5,0,0],[7,8,9,0],[7,8,9,10]]\n",
    "v = [[2],[3],[4],[13]]\n",
    "solve(A,V)"
   ]
  },
  {
   "cell_type": "code",
   "execution_count": 412,
   "metadata": {},
   "outputs": [
    {
     "data": {
      "text/plain": [
       "['Sí', 3]"
      ]
     },
     "execution_count": 412,
     "metadata": {},
     "output_type": "execute_result"
    }
   ],
   "source": [
    "A = [[5,2,3],[4,5,6],[7,8,9]]\n",
    "C = Array(A).cuadrada()\n",
    "\n",
    "B = Array(A)\n",
    "D = B.cuadrada()\n",
    "\n",
    "D"
   ]
  },
  {
   "cell_type": "code",
   "execution_count": 222,
   "metadata": {},
   "outputs": [
    {
     "data": {
      "text/plain": [
       "Array([[0.0], \n",
       "       [0.0], \n",
       "       [0.0]])"
      ]
     },
     "execution_count": 222,
     "metadata": {},
     "output_type": "execute_result"
    }
   ],
   "source": [
    "a = Array(zeros(B.cuadrada()[1],1))\n",
    "a"
   ]
  },
  {
   "cell_type": "code",
   "execution_count": 223,
   "metadata": {},
   "outputs": [
    {
     "name": "stdout",
     "output_type": "stream",
     "text": [
      "[[1] \n",
      " [2] \n",
      " [3]]\n"
     ]
    }
   ],
   "source": [
    "b = Array([[1],[2],[3]]) \n",
    "print(b)"
   ]
  },
  {
   "cell_type": "code",
   "execution_count": null,
   "metadata": {},
   "outputs": [],
   "source": []
  },
  {
   "cell_type": "code",
   "execution_count": null,
   "metadata": {
    "collapsed": true
   },
   "outputs": [],
   "source": []
  }
 ],
 "metadata": {
  "kernelspec": {
   "display_name": "Python 3",
   "language": "python",
   "name": "python3"
  },
  "language_info": {
   "codemirror_mode": {
    "name": "ipython",
    "version": 3
   },
   "file_extension": ".py",
   "mimetype": "text/x-python",
   "name": "python",
   "nbconvert_exporter": "python",
   "pygments_lexer": "ipython3",
   "version": "3.6.1"
  }
 },
 "nbformat": 4,
 "nbformat_minor": 2
}
