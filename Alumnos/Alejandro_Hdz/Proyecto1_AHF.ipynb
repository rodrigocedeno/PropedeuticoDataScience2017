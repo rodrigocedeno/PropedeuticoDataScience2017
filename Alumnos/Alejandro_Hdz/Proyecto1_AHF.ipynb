{
 "cells": [
  {
   "cell_type": "code",
   "execution_count": 1,
   "metadata": {
    "collapsed": true
   },
   "outputs": [],
   "source": [
    "class Array: \n",
    "    def __init__(self, list_of_rows): \n",
    "        \"Constructor y validador\"\n",
    "        # obtener dimensiones\n",
    "        self.data = list_of_rows\n",
    "        nrow = len(list_of_rows)\n",
    "        #  ___caso vector: redimensionar correctamente\n",
    "        if not isinstance(list_of_rows[0], list):\n",
    "            nrow = 1\n",
    "            self.data = [[x] for x in list_of_rows]\n",
    "        # ahora las columnas deben estar bien aunque sea un vector\n",
    "        ncol = len(self.data[0])\n",
    "        self.shape = (nrow, ncol)\n",
    "        # validar tamano correcto de filas\n",
    "        if any([len(r) != ncol for r in self.data]):\n",
    "            raise Exception(\"Las filas deben ser del mismo tamaño\")\n",
    "    def __add__(self, other):\n",
    "        \"Hora de sumar\"\n",
    "        if isinstance(other, Array):\n",
    "            if self.shape != other.shape:\n",
    "                raise Exception(\"Las dimensiones son distintas!\")\n",
    "            rows, cols = self.shape\n",
    "            newArray = Array([[0. for c in range(cols)] for r in range(rows)])\n",
    "            for r in range(rows):\n",
    "                for c in range(cols):\n",
    "                    newArray.data[r][c] = self.data[r][c] + other.data[r][c]\n",
    "            return newArray\n",
    "        elif isinstance(2, (int, float, complex)): # en caso de que el lado derecho sea solo un numero\n",
    "            rows, cols = self.shape\n",
    "            newArray = Array([[0. for c in range(cols)] for r in range(rows)])\n",
    "            for r in range(rows):\n",
    "                for c in range(cols):\n",
    "                    newArray.data[r][c] = self.data[r][c] + other\n",
    "            return newArray\n",
    "        else:\n",
    "            return NotImplemented # es un tipo de error particular usado en estos metodos\n",
    "    def __getitem__(self, idx):\n",
    "        return self.data[idx[0]][idx[1]]\n",
    "# EJERCICIO 1:            \n",
    "    def __repr__(self):\n",
    "        if self.shape[0]==1:\n",
    "            msj='array('+str(self.data[0])+')'\n",
    "            return msj\n",
    "        else:\n",
    "            msj=\"\"\n",
    "            for i in range(self.shape[0]):\n",
    "                if i==0:\n",
    "                    msj='array(['+str(self.data[0])\n",
    "                else:\n",
    "                    msj=str(msj)+'\\n'+'\\t'+ '   '+str(self.data[i])\n",
    "            return msj+'])'\n",
    "    \n",
    "    def __str__(self):\n",
    "        if self.shape[0]==1:\n",
    "            msj='['+str(self.data[0]).replace(',','')+']'\n",
    "            return msj\n",
    "        else:\n",
    "            msj=\"\"\n",
    "            for i in range(self.shape[0]):\n",
    "                if i==0:\n",
    "                    msj='['+str(self.data[0]).replace(',','')\n",
    "                else:\n",
    "                    msj=str(msj)+ '\\n'+' '+str(self.data[i]).replace(',','')\n",
    "            return msj+']'  \n",
    "# EJERCICIO 2:      \n",
    "    def __setitem__(self, idx, new_value):\n",
    "        self.data[idx[0]][idx[1]]= new_value\n",
    "        return self.data[idx[0]][idx[1]]\n",
    "# EJERCICIO 3:   \n",
    "    def zeros(shape):\n",
    "        return Array([[0 for x in range(shape[1])] for y in range(shape[0])])\n",
    "    def eye(n):\n",
    "        b=zeros((n,n))\n",
    "        for i in range(n):\n",
    "            b[i,i]=1\n",
    "        return b\n",
    "# EJERCICIO 4: \n",
    "    def traspose(self):\n",
    "        tt=zeros((self.shape[1],self.shape[0]))\n",
    "        for i in range(self.shape[0]):\n",
    "            for j in range(self.shape[1]):\n",
    "               tt[j,i]=self.data[i][j]\n",
    "        return tt\n",
    "# EJERCICIO 5:\n",
    "    def __radd__(self,other):\n",
    "        if  isinstance(other, (int, float, complex)): \n",
    "            rows, cols = self.shape\n",
    "            newArray = Array([[0. for c in range(cols)] for r in range(rows)])\n",
    "            for r in range(rows):\n",
    "                for c in range(cols):\n",
    "                    newArray.data[r][c] = self.data[r][c] + other\n",
    "            return newArray\n",
    "        else:\n",
    "            return NotImplemented\n",
    "\n",
    "    def __sub__(self,other):\n",
    "        if isinstance(other, Array):\n",
    "            if self.shape != other.shape:\n",
    "                raise Exception(\"Las dimensiones son distintas!\")\n",
    "            rows, cols = self.shape\n",
    "            newArray = Array([[0. for c in range(cols)] for r in range(rows)])\n",
    "            for r in range(rows):\n",
    "                for c in range(cols):\n",
    "                    newArray.data[r][c] = self.data[r][c] - other.data[r][c]\n",
    "            return newArray\n",
    "        elif isinstance(2, (int, float, complex)): # en caso de que el lado derecho sea solo un numero\n",
    "            rows, cols = self.shape\n",
    "            newArray = Array([[0. for c in range(cols)] for r in range(rows)])\n",
    "            for r in range(rows):\n",
    "                for c in range(cols):\n",
    "                    newArray.data[r][c] = self.data[r][c] - other\n",
    "            return newArray\n",
    "        else:\n",
    "            return NotImplemented\n",
    "# EJERCICIO 6:    \n",
    "    def __mul__(self,other):\n",
    "        if isinstance(other, Array):\n",
    "            if self.shape[1] != other.shape[0]:\n",
    "                raise Exception(\"Las dimensiones no coinciden para multiplicar!\")\n",
    "            newArray = Array([[0. for c in range(other.shape[1])] for r in range(self.shape[0])])\n",
    "            for r in range(self.shape[0]):\n",
    "                for c in range(other.shape[1]):\n",
    "                     for i in range(self.shape[1]):\n",
    "                         newArray.data[r][c] = newArray.data[r][c] + (self.data[r][i] * other.data[i][c])\n",
    "            return newArray\n",
    "        else:\n",
    "            return NotImplemented \n",
    "        \n",
    "    def __rmul__(self,other):\n",
    "        if  isinstance(other, (int, float, complex)): \n",
    "            newArray = Array([[0. for c in range(self.shape[0])] for r in range(self.shape[1])])\n",
    "            for r in range(self.shape[0]):\n",
    "                for c in range(self.shape[1]):\n",
    "                    newArray.data[r][c] = self.data[r][c]*other\n",
    "            return newArray\n",
    "        else:\n",
    "            return NotImplemented\n",
    "        \n",
    "\n",
    "class Vector(Array):\n",
    "    def __init__(self, list_of_numbers):\n",
    "        self.vdata = list_of_numbers\n",
    "        list_of_rows = [[x] for x in list_of_numbers]\n",
    "        return Array.__init__(self, list_of_rows)\n",
    "    def __repr__(self):\n",
    "        return \"Vector(\" + str(self.vdata) + \")\"\n",
    "    def __str__(self):\n",
    "        return str(self.vdata)\n",
    "    def __add__(self, other):\n",
    "        new_arr = Array.__add__(self, other)\n",
    "        return Vector([x[0] for x in new_arr.data])\n",
    "    \n",
    "# EJERCICIOS 7-10 (El gran final)\n",
    "\n",
    "# Función forward_subs\n",
    "    def forward_subs(self, other):\n",
    "        if isinstance(other, Array):\n",
    "            if self.shape[1] != other.shape[0]:\n",
    "                raise Exception(\"Las dimensiones no coinciden para multiplicar!\")\n",
    "            newArray = Array([[0.] for r in range(self.shape[1])])   \n",
    "            for r in range(self.shape[0]):\n",
    "                newArray.data[r] = other.data[r]\n",
    "                for c in range(r):\n",
    "                    newArray.data[r][0] -= self.data[r][c] * newArray.data[c][0]\n",
    "                newArray.data[r][0] /= self.data[r][r]\n",
    "            return newArray\n",
    "        else:\n",
    "            return NotImplemented\n",
    "        \n",
    "\n",
    "# Función backward_subs\n",
    "    def backward_subs(self, other):\n",
    "        if isinstance(other, Array):\n",
    "            if self.shape[1] != other.shape[0]:\n",
    "                raise Exception(\"Las dimensiones no coinciden para multiplicar!\")\n",
    "            newArray = Array([[0.] for r in range(self.shape[1])])   \n",
    "            for r in reversed(range(self.shape[0])):\n",
    "                newArray.data[r] = other.data[r]\n",
    "                for c in range(r+1,self.shape[1]):\n",
    "                    newArray.data[r][0] -= self.data[r][c] * newArray.data[c][0]\n",
    "                newArray.data[r][0] /= self.data[r][r]\n",
    "            return newArray\n",
    "        else:\n",
    "            return NotImplemented  \n",
    "            \n",
    "        \n",
    "#Función LU\n",
    "    def LU(self):\n",
    "        U = zeros(self.shape)\n",
    "        L = eye(self.shape[0])\n",
    "        P = eye(self.shape[0])\n",
    "        for j in range(self.shape[0]):\n",
    "            rmax = max(range(j, self.shape[0]), key=lambda i: abs(self.data[i][j]))\n",
    "            if rmax != j:\n",
    "                P.data[j], P.data[rmax] = P.data[rmax], P.data[j]\n",
    "        newArray = P * self\n",
    "        for j in range(self.shape[0]):\n",
    "            for i in range(j+1):\n",
    "                s1 = sum(U[k,j]*L[i,k] for k in range(i))\n",
    "                U[i,j] = newArray[i,j] - s1\n",
    "            for i in range(j,self.shape[0]):\n",
    "                s2 = sum(U[k,j]*L[i,k] for k in range(j))\n",
    "                L[i,j] = (newArray[i,j] - s2)/U[j,j]\n",
    "        return (L,U,P)\n",
    "    \n",
    "    \n",
    "#Función lu_linsolve\n",
    "    def lu_linsolve(self,other):\n",
    "        if isinstance(other, Array):\n",
    "            if self.shape[1] != other.shape[0]:\n",
    "                raise Exception(\"Las dimensiones no coinciden para resolver!\")\n",
    "            (L , U , P) = LU(self)\n",
    "            y = forward_subs(L , P*other)\n",
    "            x = backward_subs(U,y)\n",
    "            return x\n",
    "        "
   ]
  },
  {
   "cell_type": "code",
   "execution_count": 2,
   "metadata": {},
   "outputs": [
    {
     "name": "stdout",
     "output_type": "stream",
     "text": [
      "[[1 2 3]\n",
      " [4 5 6]]\n"
     ]
    }
   ],
   "source": [
    "#PRUEBA EJERCICIO 1:\n",
    "A=Array([[1,2,3],[4,5,6]])\n",
    "A\n",
    "print(A)"
   ]
  },
  {
   "cell_type": "code",
   "execution_count": 3,
   "metadata": {},
   "outputs": [
    {
     "name": "stdout",
     "output_type": "stream",
     "text": [
      "[[1 7 3]\n",
      " [4 5 6]]\n"
     ]
    }
   ],
   "source": [
    "#PRUEBA EJERCICIO 2:\n",
    "A=Array([[1,2,3],[4,5,6]])\n",
    "A[0,1]=7\n",
    "print(A)"
   ]
  },
  {
   "cell_type": "code",
   "execution_count": 4,
   "metadata": {},
   "outputs": [
    {
     "name": "stdout",
     "output_type": "stream",
     "text": [
      "[[0 0]\n",
      " [0 0]\n",
      " [0 0]\n",
      " [0 0]\n",
      " [0 0]\n",
      " [0 0]]\n"
     ]
    }
   ],
   "source": [
    "# PRUEBA EJERCICIO 3 (FUNCIÓN ZEROS):\n",
    "\n",
    "def zeros(shape):\n",
    "    return Array([[0 for x in range(shape[1])] for y in range(shape[0])])\n",
    "    \n",
    "b=Array\n",
    "print(b.zeros((6,2)))\n"
   ]
  },
  {
   "cell_type": "code",
   "execution_count": 5,
   "metadata": {},
   "outputs": [
    {
     "name": "stdout",
     "output_type": "stream",
     "text": [
      "[[1 0 0]\n",
      " [0 1 0]\n",
      " [0 0 1]]\n"
     ]
    }
   ],
   "source": [
    "# PRUEBA EJERCICIO 3 (FUNCIÓN EYE)\n",
    "def eye(n):\n",
    "    b=zeros((n,n))\n",
    "    for i in range(n):\n",
    "        b[i,i]=1\n",
    "    return b\n",
    "\n",
    "t=Array\n",
    "t=eye(3)\n",
    "print(t)"
   ]
  },
  {
   "cell_type": "code",
   "execution_count": 6,
   "metadata": {},
   "outputs": [
    {
     "name": "stdout",
     "output_type": "stream",
     "text": [
      "[[1 4]\n",
      " [2 5]\n",
      " [3 6]]\n"
     ]
    }
   ],
   "source": [
    "# PRUEBA EJERCICIO 4 (TRASPOSE):\n",
    "A=Array([[1,2,3],[4,5,6]])\n",
    "print(A.traspose())"
   ]
  },
  {
   "cell_type": "code",
   "execution_count": 7,
   "metadata": {},
   "outputs": [
    {
     "name": "stdout",
     "output_type": "stream",
     "text": [
      "[[16 20]\n",
      " [19 19]]\n"
     ]
    }
   ],
   "source": [
    "# PRUEBA EJERCICIO 5 (SUMA POR LA DERECHA):\n",
    "A = Array([[1,5], [4,4]])\n",
    "B = Array([[7,9], [3,8]])\n",
    "print(15+A)\n",
    "\n"
   ]
  },
  {
   "cell_type": "code",
   "execution_count": 8,
   "metadata": {},
   "outputs": [
    {
     "name": "stdout",
     "output_type": "stream",
     "text": [
      "[[-6 -4]\n",
      " [1 -4]]\n"
     ]
    }
   ],
   "source": [
    "# PRUEBA EJERCICIO 5 (RESTA MATRICES):\n",
    "A = Array([[1,5], [4,4]])\n",
    "B = Array([[7,9], [3,8]])\n",
    "print(A-B)"
   ]
  },
  {
   "cell_type": "code",
   "execution_count": 9,
   "metadata": {},
   "outputs": [
    {
     "name": "stdout",
     "output_type": "stream",
     "text": [
      "[[22.0 49.0]\n",
      " [40.0 68.0]]\n"
     ]
    }
   ],
   "source": [
    "# PRUEBA EJERCICIO 6 (PRODUCTO MATRICES):\n",
    "A = Array([[1,5], [4,4]])\n",
    "B = Array([[7,9], [3,8]])\n",
    "print(A*B)\n"
   ]
  },
  {
   "cell_type": "code",
   "execution_count": 10,
   "metadata": {},
   "outputs": [
    {
     "name": "stdout",
     "output_type": "stream",
     "text": [
      "[[5 25]\n",
      " [20 20]]\n"
     ]
    }
   ],
   "source": [
    "# PRUEBA EJERCICIO 6 (PRODUCTO MATRIZ POR ESCALAR):\n",
    "A = Array([[1,5], [4,4]])\n",
    "B = Array([[7,9], [3,8]])\n",
    "print(5*A)"
   ]
  },
  {
   "cell_type": "code",
   "execution_count": 11,
   "metadata": {},
   "outputs": [
    {
     "name": "stdout",
     "output_type": "stream",
     "text": [
      "[[1.6666666666666667]\n",
      " [7.666666666666667]\n",
      " [-14.333333333333334]\n",
      " [50.833333333333336]]\n"
     ]
    }
   ],
   "source": [
    "# PRUEBA EJERCICIOS 7-10 (FUNCIÓN FORWARD_SUBS):\n",
    "def traspose(self):\n",
    "    tt=zeros((self.shape[1],self.shape[0]))\n",
    "    for i in range(self.shape[0]):\n",
    "        for j in range(self.shape[1]):\n",
    "            tt[j,i]=self.data[i][j]\n",
    "    return tt\n",
    "\n",
    "def forward_subs(self, other):\n",
    "    if isinstance(other, Array):\n",
    "        if self.shape[1] != other.shape[0]:\n",
    "            raise Exception(\"Las dimensiones no coinciden para multiplicar!\")\n",
    "        newArray = Array([[0.] for r in range(self.shape[1])])   \n",
    "        for r in range(self.shape[0]):\n",
    "            newArray.data[r] = other.data[r]\n",
    "            for c in range(r):\n",
    "                newArray.data[r][0] -= self.data[r][c] * newArray.data[c][0]\n",
    "            newArray.data[r][0] /= self.data[r][r]\n",
    "        return newArray\n",
    "    else:\n",
    "        return NotImplemented \n",
    "\n",
    "    #Para probar forward_subs\n",
    "A = Array([[3,0,0,0], [-1,1,0,0], [3,-2,-1,0],[1,-2,6,2]])\n",
    "b = Array([[5,6,4,2]])\n",
    "print(forward_subs(A,traspose(b)))\n",
    "\n"
   ]
  },
  {
   "cell_type": "code",
   "execution_count": 12,
   "metadata": {},
   "outputs": [
    {
     "name": "stdout",
     "output_type": "stream",
     "text": [
      "[[3.0]\n",
      " [-4.0]\n",
      " [-1.0]\n",
      " [2.0]]\n"
     ]
    }
   ],
   "source": [
    "# PRUEBA EJERCICIOS 7-10 (FUNCIÓN BACKWARD_SUBS):\n",
    "def traspose(self):\n",
    "    tt=zeros((self.shape[1],self.shape[0]))\n",
    "    for i in range(self.shape[0]):\n",
    "        for j in range(self.shape[1]):\n",
    "            tt[j,i]=self.data[i][j]\n",
    "    return tt\n",
    "\n",
    "def backward_subs(self, other):\n",
    "    if isinstance(other, Array):\n",
    "        if self.shape[1] != other.shape[0]:\n",
    "            raise Exception(\"Las dimensiones no coinciden para multiplicar!\")\n",
    "        newArray = Array([[0.] for r in range(self.shape[1])])   \n",
    "        for r in reversed(range(self.shape[0])):\n",
    "            newArray.data[r] = other.data[r]\n",
    "            for c in range(r+1,self.shape[1]):\n",
    "                newArray.data[r][0] -= self.data[r][c] * newArray.data[c][0]\n",
    "            newArray.data[r][0] /= self.data[r][r]\n",
    "        return newArray\n",
    "    else:\n",
    "        return NotImplemented  \n",
    "    \n",
    "#Para probar backward_subs\n",
    "A = Array([[4,-1,2,3],[0,-2,7,-4],[0,0,6,5],[0,0,0,3]])\n",
    "b = Array([[20,-7,4,6]])\n",
    "x=backward_subs(A,traspose(b))\n",
    "print(x)"
   ]
  },
  {
   "cell_type": "code",
   "execution_count": 13,
   "metadata": {},
   "outputs": [
    {
     "name": "stdout",
     "output_type": "stream",
     "text": [
      "[[1.0 0 0]\n",
      " [0.5 1.0 0]\n",
      " [-0.75 0.8333333333333334 1.0]]\n",
      "[[4.0 2.0 3.0]\n",
      " [0 3.0 3.5]\n",
      " [0 0 3.333333333333333]]\n",
      "[[1 0 0]\n",
      " [0 0 1]\n",
      " [0 1 0]]\n"
     ]
    }
   ],
   "source": [
    "# PRUEBA EJERCICIOS 7-10 (LUP):\n",
    "\n",
    "def LU(self):\n",
    "    U = zeros(self.shape)\n",
    "    L = eye(self.shape[0])\n",
    "    P = eye(self.shape[0])\n",
    "    for j in range(self.shape[0]):\n",
    "        rmax = max(range(j, self.shape[0]), key=lambda i: abs(self.data[i][j]))\n",
    "        if rmax != j:\n",
    "            P.data[j], P.data[rmax] = P.data[rmax], P.data[j]\n",
    "    newArray = P * self\n",
    "    for j in range(self.shape[0]):\n",
    "        for i in range(j+1):\n",
    "            s1 = sum(U[k,j]*L[i,k] for k in range(i))\n",
    "            U[i,j] = newArray[i,j] - s1\n",
    "        for i in range(j,self.shape[0]):\n",
    "            s2 = sum(U[k,j]*L[i,k] for k in range(j))\n",
    "            L[i,j] = (newArray[i,j] - s2)/U[j,j]\n",
    "    return (L,U,P)\n",
    "\n",
    "#Para probar LUP\n",
    "A = Array([[4,2,3],[-3,1,4],[2,4,5]])\n",
    "(L , U , P) = LU(A)\n",
    "print(L)\n",
    "print(U)\n",
    "print(P)"
   ]
  },
  {
   "cell_type": "code",
   "execution_count": 14,
   "metadata": {},
   "outputs": [
    {
     "name": "stdout",
     "output_type": "stream",
     "text": [
      "[[-1.0]\n",
      " [1.0]\n",
      " [3.0]]\n"
     ]
    }
   ],
   "source": [
    "# PRUEBA EJERCICIOS 7-10 (LU_LINSOLVE):\n",
    "def lu_linsolve(self,other):\n",
    "    if isinstance(other, Array):\n",
    "        if self.shape[1] != other.shape[0]:\n",
    "            raise Exception(\"Las dimensiones no coinciden para resolver!\")\n",
    "        (L , U , P) = LU(self)\n",
    "        y = forward_subs(L , P*other)\n",
    "        x = backward_subs(U,y)\n",
    "        return x\n",
    "    \n",
    "#Para probar lu_linsolve\n",
    "A = Array([[2,4,1],[4,-10,2],[1,2,4]])\n",
    "b = Array([[5,-8,13]])\n",
    "print(lu_linsolve(A,traspose(b)))"
   ]
  },
  {
   "cell_type": "code",
   "execution_count": null,
   "metadata": {
    "collapsed": true
   },
   "outputs": [],
   "source": []
  }
 ],
 "metadata": {
  "kernelspec": {
   "display_name": "Python 3",
   "language": "python",
   "name": "python3"
  },
  "language_info": {
   "codemirror_mode": {
    "name": "ipython",
    "version": 3
   },
   "file_extension": ".py",
   "mimetype": "text/x-python",
   "name": "python",
   "nbconvert_exporter": "python",
   "pygments_lexer": "ipython3",
   "version": "3.6.1"
  }
 },
 "nbformat": 4,
 "nbformat_minor": 2
}
